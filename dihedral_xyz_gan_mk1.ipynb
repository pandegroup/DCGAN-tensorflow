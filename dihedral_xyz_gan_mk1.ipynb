{
 "cells": [
  {
   "cell_type": "code",
   "execution_count": 1,
   "metadata": {
    "collapsed": true
   },
   "outputs": [],
   "source": [
    "%matplotlib inline\n",
    "\n",
    "import matplotlib\n",
    "import numpy as np\n",
    "import matplotlib.pyplot as plt\n",
    "\n",
    "from rdkit import Chem\n",
    "from rdkit.Chem import AllChem, rdMolTransforms, rdmolops\n",
    "import os\n",
    "import fnmatch\n",
    "import numpy as np\n",
    "import deepchem as dc\n",
    "from scipy.sparse import csr_matrix\n",
    "from sklearn.preprocessing import OneHotEncoder\n",
    "from sklearn.mixture import GMM\n",
    "import random\n",
    "from tflearn.activations import leaky_relu\n",
    "from deepchem.utils.rdkit_util import get_xyz_from_mol\n",
    "from deepchem.feat.rdkit_grid_featurizer import convert_atom_to_voxel, compute_centroid, rotate_molecules\n",
    "from tensorflow.contrib.distributions import Normal\n",
    "np.set_printoptions(precision=4)\n"
   ]
  },
  {
   "cell_type": "code",
   "execution_count": 2,
   "metadata": {
    "collapsed": true
   },
   "outputs": [],
   "source": [
    "from deepchem.feat.graph_features import ConvMolFeaturizer\n",
    "from deepchem.feat.adjacency_fingerprints import AdjacencyFingerprint"
   ]
  },
  {
   "cell_type": "code",
   "execution_count": 3,
   "metadata": {
    "collapsed": true
   },
   "outputs": [],
   "source": [
    "def featurize_mols(mol_files, max_n_atoms, n_bonds=5, get_angle=True):\n",
    "    featurizer = AdjacencyFingerprint(max_n_atoms=max_n_atoms)\n",
    "    features = []\n",
    "    for idx, mol_file in enumerate(mol_files):\n",
    "        if idx % 32 == 0:\n",
    "            print(idx)\n",
    "        try:\n",
    "            if \".pdb\" in mol_file:\n",
    "                mol = Chem.MolFromPDBFile(mol_file)\n",
    "            elif \"mol\" in mol_file:\n",
    "                mol = Chem.MolFromMol2File(mol_file)\n",
    "            else:\n",
    "                get_angle = False\n",
    "                mol = Chem.MolFromSmiles(mol_file)\n",
    "            if mol is None:\n",
    "                features.append(None)\n",
    "                continue\n",
    "            \n",
    "            if get_angle:\n",
    "                mol_xyz = get_xyz_from_mol(mol)\n",
    "                centroid = compute_centroid(mol_xyz)\n",
    "                mol_xyz -= centroid\n",
    "                temp = np.zeros((max_n_atoms, 3))\n",
    "                try:\n",
    "                    temp[:mol_xyz.shape[0]] = mol_xyz\n",
    "                except:\n",
    "                    features.append(None)\n",
    "                    continue\n",
    "                mol_xyz = temp\n",
    "                c = mol.GetConformer(0)\n",
    "\n",
    "            else:\n",
    "                mol_xyz = np.zeros((max_n_atoms,3))\n",
    "                AllChem.EmbedMultipleConfs(mol, 1)\n",
    "                c = mol.GetConformer(0)\n",
    "                for aid in range(mol.GetNumAtoms()):\n",
    "                    pos = c.GetAtomPosition(aid)\n",
    "                    mol_xyz[aid] = [pos.x, pos.y, pos.z]\n",
    "\n",
    "            torsions = []\n",
    "            torsion_tuples = []\n",
    "\n",
    "            torsion_matrix = np.zeros((n_bonds,1))\n",
    "            torsion_indices = np.zeros((n_bonds, max_n_atoms, 4)).astype(np.uint8)\n",
    "            subgraphs = np.zeros((n_bonds, max_n_atoms, max_n_atoms)).astype(np.uint8)\n",
    "            atom_index_of_bond = np.zeros((n_bonds, max_n_atoms)).astype(np.uint8)\n",
    "            rot_vectors = np.zeros((n_bonds, 3))\n",
    "            \n",
    "            #mol_xyz = rotate_molecules([mol_xyz])[0]\n",
    "\n",
    "            idx = 0\n",
    "            for bond in mol.GetBonds():\n",
    "                if bond.IsInRing(): \n",
    "                    continue\n",
    "                def calc_torsions(atom_i, atom_j, bond_idx):        \n",
    "                    exist_dihed = False\n",
    "                    for neighbor_j in atom_j.GetNeighbors():\n",
    "                        if neighbor_j.GetIdx() == atom_i.GetIdx():\n",
    "                            continue\n",
    "\n",
    "                        dihed_idx = 0\n",
    "                        for neighbor_i in atom_i.GetNeighbors():\n",
    "                            if neighbor_i.GetIdx() == atom_j.GetIdx():\n",
    "                                continue\n",
    "\n",
    "                            exist_dihed=True\n",
    "                            torsion_tuple = (neighbor_i.GetIdx(), atom_i.GetIdx(), atom_j.GetIdx(), neighbor_j.GetIdx())\n",
    "\n",
    "                            if get_angle:\n",
    "                                torsion_matrix[bond_idx][dihed_idx] = rdMolTransforms.GetDihedralRad(c, *torsion_tuple)\n",
    "                            torsion_indices[bond_idx][torsion_tuple[0]][dihed_idx*4] = 1\n",
    "                            torsion_indices[bond_idx][torsion_tuple[1]][dihed_idx*4+1] = 1\n",
    "                            torsion_indices[bond_idx][torsion_tuple[2]][dihed_idx*4+2] = 1\n",
    "                            torsion_indices[bond_idx][torsion_tuple[3]][dihed_idx*4+3] = 1\n",
    "                            \n",
    "                            broken_mol = rdmolops.FragmentOnBonds(mol, [bond.GetIdx()], addDummies=False)\n",
    "                            molfrags = rdmolops.GetMolFrags(broken_mol)\n",
    "                            if bond.GetEndAtom().GetIdx() in molfrags[0]:\n",
    "                                atoms_to_rotate = molfrags[0]\n",
    "                            else:\n",
    "                                atoms_to_rotate = molfrags[1]\n",
    "\n",
    "\n",
    "                            subgraph = np.zeros((max_n_atoms, max_n_atoms)).astype(np.uint8)\n",
    "                            for atom_idx in atoms_to_rotate:\n",
    "                                subgraph[atom_idx,atom_idx] = 1\n",
    "                            subgraphs[bond_idx, :, :] = subgraph\n",
    "                            atom_index_of_bond[bond_idx, atom_j.GetIdx()] = 1\n",
    "                            \n",
    "                            pos_i = c.GetAtomPosition(atom_i.GetIdx())\n",
    "                            pos_j = c.GetAtomPosition(atom_j.GetIdx())\n",
    "                            pt_i = np.array([pos_i.x, pos_i.y, pos_i.z])\n",
    "                            pt_j = np.array([pos_j.x, pos_j.y, pos_j.z])\n",
    "                            vec = pt_j - pt_i\n",
    "                            vec = vec / np.linalg.norm(vec)\n",
    "                            rot_vectors[bond_idx] = vec\n",
    "                \n",
    "                            bond_idx += 1\n",
    "                    return(bond_idx)\n",
    "                \n",
    "                if idx >= n_bonds: \n",
    "                    break\n",
    "                idx = calc_torsions(bond.GetBeginAtom(), bond.GetEndAtom(), idx)\n",
    "            \n",
    "            if idx == 0:\n",
    "                features.append(None)\n",
    "                continue \n",
    "                \n",
    "            graph_feat = featurizer.featurize([mol])[0]           \n",
    "            features.append((mol_file, mol_xyz, torsion_indices, torsion_matrix, subgraphs, atom_index_of_bond, rot_vectors, graph_feat))\n",
    "        except:\n",
    "            features.append(None)\n",
    "    return(features)"
   ]
  },
  {
   "cell_type": "code",
   "execution_count": 1041,
   "metadata": {
    "scrolled": true
   },
   "outputs": [
    {
     "name": "stdout",
     "output_type": "stream",
     "text": [
      "0\n",
      "32\n",
      "64\n",
      "96\n",
      "128\n",
      "160\n",
      "192\n",
      "224\n",
      "256\n",
      "288\n",
      "320\n",
      "352\n",
      "384\n",
      "416\n",
      "448\n",
      "480\n",
      "512\n",
      "544\n",
      "576\n",
      "608\n",
      "640\n",
      "672\n",
      "704\n",
      "736\n",
      "768\n",
      "800\n",
      "832\n",
      "864\n",
      "896\n",
      "928\n",
      "960\n",
      "992\n",
      "1024\n",
      "1056\n",
      "1088\n",
      "1120\n",
      "1152\n",
      "1184\n",
      "1216\n",
      "1248\n",
      "1280\n",
      "1312\n",
      "1344\n",
      "1376\n",
      "1408\n",
      "1440\n",
      "1472\n",
      "1504\n",
      "1536\n",
      "1568\n",
      "1600\n",
      "1632\n",
      "1664\n",
      "1696\n",
      "1728\n",
      "1760\n",
      "1792\n",
      "1824\n",
      "1856\n",
      "1888\n",
      "1920\n",
      "1952\n",
      "1984\n",
      "2016\n",
      "2048\n",
      "2080\n",
      "2112\n",
      "2144\n",
      "2176\n",
      "2208\n",
      "2240\n",
      "2272\n",
      "2304\n",
      "2336\n",
      "2368\n",
      "2400\n",
      "2432\n",
      "2464\n",
      "2496\n",
      "2528\n",
      "2560\n",
      "2592\n",
      "2624\n",
      "2656\n",
      "2688\n",
      "2720\n",
      "2752\n",
      "2784\n",
      "2816\n",
      "2848\n",
      "2880\n",
      "2912\n",
      "2944\n",
      "2976\n",
      "3008\n",
      "3040\n",
      "3072\n",
      "3104\n",
      "3136\n",
      "3168\n",
      "3200\n",
      "3232\n",
      "3264\n",
      "3296\n",
      "3328\n",
      "3360\n",
      "3392\n",
      "3424\n",
      "3456\n",
      "3488\n",
      "3520\n",
      "3552\n",
      "3584\n",
      "3616\n",
      "3648\n",
      "3680\n",
      "3712\n",
      "3744\n",
      "3776\n",
      "3808\n",
      "3840\n",
      "3872\n",
      "3904\n",
      "3936\n",
      "3968\n",
      "4000\n",
      "4032\n",
      "4064\n",
      "4096\n",
      "4128\n",
      "4160\n",
      "4192\n",
      "4224\n",
      "4256\n",
      "4288\n",
      "4320\n",
      "4352\n",
      "4384\n",
      "4416\n",
      "4448\n",
      "4480\n",
      "4512\n",
      "4544\n",
      "4576\n",
      "4608\n",
      "4640\n",
      "4672\n",
      "4704\n",
      "4736\n",
      "4768\n",
      "4800\n",
      "4832\n",
      "4864\n",
      "4896\n",
      "4928\n",
      "4960\n",
      "4992\n",
      "5024\n",
      "5056\n",
      "5088\n",
      "5120\n",
      "5152\n",
      "5184\n",
      "5216\n",
      "5248\n",
      "5280\n",
      "5312\n",
      "5344\n",
      "5376\n",
      "5408\n",
      "5440\n",
      "5472\n",
      "5504\n",
      "5536\n",
      "5568\n",
      "5600\n",
      "5632\n",
      "5664\n",
      "5696\n",
      "5728\n",
      "5760\n",
      "5792\n",
      "5824\n",
      "5856\n",
      "5888\n",
      "5920\n",
      "5952\n",
      "5984\n",
      "6016\n",
      "6048\n",
      "6080\n",
      "6112\n",
      "6144\n",
      "6176\n",
      "6208\n",
      "6240\n",
      "6272\n",
      "6304\n",
      "6336\n",
      "6368\n",
      "6400\n",
      "6432\n",
      "6464\n",
      "6496\n",
      "6528\n",
      "6560\n",
      "6592\n",
      "6624\n",
      "6656\n",
      "6688\n",
      "6720\n",
      "6752\n",
      "6784\n",
      "6816\n",
      "6848\n",
      "6880\n",
      "6912\n",
      "6944\n",
      "6976\n",
      "7008\n",
      "7040\n",
      "7072\n",
      "7104\n",
      "7136\n",
      "7168\n",
      "7200\n",
      "7232\n",
      "7264\n",
      "7296\n",
      "7328\n",
      "7360\n",
      "7392\n",
      "7424\n",
      "7456\n",
      "7488\n",
      "7520\n",
      "7552\n",
      "7584\n",
      "7616\n",
      "7648\n",
      "7680\n",
      "7712\n",
      "7744\n",
      "7776\n",
      "7808\n",
      "7840\n",
      "7872\n",
      "7904\n",
      "7936\n",
      "7968\n",
      "8000\n",
      "8032\n",
      "8064\n",
      "8096\n",
      "8128\n",
      "8160\n",
      "8192\n",
      "8224\n",
      "8256\n",
      "8288\n",
      "8320\n",
      "8352\n",
      "8384\n",
      "8416\n",
      "8448\n",
      "8480\n",
      "8512\n",
      "8544\n",
      "8576\n",
      "8608\n",
      "8640\n",
      "8672\n",
      "8704\n",
      "8736\n",
      "8768\n",
      "8800\n",
      "8832\n",
      "8864\n",
      "8896\n",
      "8928\n",
      "8960\n",
      "8992\n",
      "9024\n",
      "9056\n",
      "9088\n",
      "9120\n",
      "9152\n",
      "9184\n",
      "9216\n",
      "9248\n",
      "9280\n",
      "9312\n",
      "9344\n",
      "9376\n",
      "9408\n",
      "9440\n",
      "9472\n",
      "9504\n",
      "9536\n",
      "9568\n",
      "9600\n",
      "9632\n",
      "9664\n",
      "9696\n",
      "9728\n",
      "9760\n",
      "9792\n",
      "9824\n",
      "9856\n",
      "9888\n",
      "9920\n",
      "9952\n",
      "9984\n",
      "10016\n",
      "10048\n",
      "10080\n",
      "10112\n",
      "10144\n",
      "10176\n",
      "10208\n",
      "10240\n",
      "10272\n",
      "10304\n",
      "10336\n",
      "10368\n",
      "10400\n",
      "10432\n",
      "10464\n",
      "10496\n",
      "10528\n",
      "10560\n",
      "10592\n",
      "10624\n",
      "10656\n",
      "10688\n",
      "10720\n",
      "10752\n",
      "10784\n",
      "10816\n",
      "10848\n",
      "10880\n",
      "10912\n",
      "10944\n",
      "10976\n",
      "11008\n",
      "11040\n",
      "11072\n",
      "11104\n",
      "11136\n",
      "11168\n",
      "11200\n",
      "11232\n",
      "11264\n",
      "11296\n",
      "11328\n",
      "11360\n",
      "11392\n",
      "11424\n",
      "11456\n",
      "11488\n",
      "11520\n",
      "11552\n",
      "11584\n",
      "11616\n",
      "11648\n",
      "11680\n",
      "11712\n",
      "11744\n",
      "11776\n",
      "11808\n",
      "11840\n",
      "11872\n",
      "11904\n",
      "11936\n"
     ]
    }
   ],
   "source": [
    "import pickle\n",
    "max_n_atoms = 48\n",
    "D=16\n",
    "S=32\n",
    "feature_file = \"./dihed_xyz_features_pdbbind.pkl\"\n",
    "#if not os.path.exists(feature_file):\n",
    "if 1== 1:\n",
    "    pdbbind_dir = \"/home/evan/Documents/deep_docking/datasets/v2015/\"\n",
    "    def find_files(directory, pattern):\n",
    "        for root, dirs, files in os.walk(directory):\n",
    "            for basename in files:\n",
    "                if fnmatch.fnmatch(basename, pattern):\n",
    "                    filename = os.path.join(root, basename)\n",
    "                    yield filename\n",
    "    ligand_files = []\n",
    "    for f in find_files(pdbbind_dir, \"*ligand.mol2\"):\n",
    "        ligand_files += [f]\n",
    "    ligand_files = ligand_files[:] + [\"CCCC\"]*32 #[\"/home/evan/Documents/deep_docking/alanine_dipeptide.pdb\"]*S  \n",
    "    features = featurize_mols(ligand_files, max_n_atoms, n_bonds=D)\n",
    "    with open(feature_file, \"wb\") as f:\n",
    "        pickle.dump(features, f, protocol=2)\n",
    "else:\n",
    "    with open(feature_file, \"rb\") as f:\n",
    "        features = pickle.load(f)"
   ]
  },
  {
   "cell_type": "code",
   "execution_count": 1042,
   "metadata": {},
   "outputs": [
    {
     "name": "stdout",
     "output_type": "stream",
     "text": [
      "6888\n"
     ]
    }
   ],
   "source": [
    "features = [f for f in features if f is not None]\n",
    "print(len(features))"
   ]
  },
  {
   "cell_type": "code",
   "execution_count": 1043,
   "metadata": {},
   "outputs": [
    {
     "data": {
      "text/plain": [
       "'/home/evan/Documents/deep_docking/datasets/v2015/4wks/4wks_ligand.mol2'"
      ]
     },
     "execution_count": 1043,
     "metadata": {},
     "output_type": "execute_result"
    }
   ],
   "source": [
    "features[4][0]"
   ]
  },
  {
   "cell_type": "code",
   "execution_count": 2104,
   "metadata": {
    "collapsed": true
   },
   "outputs": [],
   "source": [
    "import tensorflow as tf\n",
    "tf.reset_default_graph()\n",
    "\n",
    "alpha = 0.01\n",
    "n_layers = 0\n",
    "\n",
    "S = 32\n",
    "\n",
    "B = max_n_atoms\n",
    "D = 16\n",
    "p = 75\n",
    "\n",
    "z_dim = 32\n",
    "\n",
    "L_list = [p, 16, 64, 128, 256]\n",
    "\n",
    "dihed_per_bond = 1\n",
    "valence = 4\n",
    "\n"
   ]
  },
  {
   "cell_type": "code",
   "execution_count": 2105,
   "metadata": {
    "collapsed": true
   },
   "outputs": [],
   "source": [
    "#with tf.device('/gpu:0'):\n",
    "if 1==1:\n",
    "    x = tf.placeholder(tf.float32, [S, B, L_list[0]], name=\"atom_features\")\n",
    "    keep_prob = tf.placeholder(tf.float32, name=\"keep_prob\")\n",
    "    \n",
    "    adj_matrix = tf.placeholder(tf.float32, shape=[S, B, B], name=\"adj_matrix\")\n",
    "    \n",
    "    non_adj_matrix = tf.subtract(tf.ones_like(adj_matrix), adj_matrix)\n",
    "    \n",
    "    mol_xyz = tf.placeholder(tf.float32, shape=[S, B, 3], name=\"molxyz\")\n",
    "    \n",
    "    z = tf.random_uniform([S, D, z_dim], -1, 1)\n",
    "    zg = tf.random_uniform([S, D], -2, 2)\n",
    "    \n",
    "    mol_noise = tf.random_normal([S,D,1], mean=0,stddev=0.01)\n",
    "    \n",
    "    dihed_indices = tf.placeholder(tf.float32, shape=[S, D, B, 4])\n",
    "    dihed_tensor = tf.placeholder(tf.float32, shape=[S, D, 1])\n",
    "    rot_vectors = tf.placeholder(tf.float32, shape=[S, D, 3])\n",
    "    atom_index_of_bond = tf.placeholder(tf.float32, shape=[S, D, B])\n",
    "    subgraph = tf.placeholder(tf.float32, shape=[S, D, B, B])\n",
    "    \n",
    "    phase = tf.placeholder(tf.bool)\n"
   ]
  },
  {
   "cell_type": "code",
   "execution_count": 2106,
   "metadata": {
    "collapsed": true
   },
   "outputs": [],
   "source": [
    "#adapted from: http://stackoverflow.com/questions/37009647/compute-pairwise-distance-in-a-batch-without-replicating-tensor-in-tensorflow\n",
    "def compute_distance_matrix(A):\n",
    "    r = tf.reduce_sum(A*A, 1) # turn r into column vector \n",
    "    r = tf.reshape(r, [-1, 1]) \n",
    "    D = r - 2*tf.matmul(A, tf.transpose(A)) + tf.transpose(r)\n",
    "    return(D)"
   ]
  },
  {
   "cell_type": "code",
   "execution_count": 2107,
   "metadata": {},
   "outputs": [
    {
     "name": "stdout",
     "output_type": "stream",
     "text": [
      "building clades and adj\n",
      "Building hidden layers\n"
     ]
    }
   ],
   "source": [
    "GW_list = [None for i in range(n_layers)]\n",
    "Gb_list = [None for i in range(n_layers)]\n",
    "\n",
    "DW_list = [None for i in range(n_layers)]\n",
    "Db_list = [None for i in range(n_layers)]\n",
    "\n",
    "\n",
    "Gh_list = [x]\n",
    "Dh_list = [x]\n",
    "\n",
    "adj_list = [adj_matrix]\n",
    "B_list = [B]\n",
    "clades_list = []\n",
    "graph_stride = 1.\n",
    "\n",
    "#with tf.device('/gpu:0'):\n",
    "if 1==1:\n",
    "\n",
    "    print(\"building clades and adj\")\n",
    "    for i in range(n_layers):\n",
    "        print(i)\n",
    "        B_list.append(int(np.ceil(B_list[i]/graph_stride)))\n",
    "        print(B_list)\n",
    "        clades_list.append(tf.stack([tf.one_hot(range(0,B_list[i],int(graph_stride)), depth=B_list[i])]*S, axis=0)) \n",
    "\n",
    "\n",
    "        adj_temp = tf.matmul(clades_list[i], adj_list[i])\n",
    "        sub_adj = tf.matmul(adj_temp, tf.transpose(adj_temp, perm=[0, 2, 1]))\n",
    "        sub_adj = tf.minimum(sub_adj, 1.)\n",
    "        adj_list.append(sub_adj)\n",
    "\n",
    "    print(\"Building hidden layers\")\n",
    "    for layer_idx in range(n_layers):\n",
    "        GW_list[layer_idx] = tf.Variable(tf.truncated_normal([L_list[layer_idx], L_list[layer_idx+1]], seed=2017), name=\"GW_list%d\" %layer_idx)\n",
    "        Gb_list[layer_idx] = tf.Variable(tf.ones([1, L_list[layer_idx+1]]))\n",
    "\n",
    "        DW_list[layer_idx] = tf.Variable(tf.truncated_normal([L_list[layer_idx], L_list[layer_idx+1]], seed=2017), name=\"DW_list%d\" %layer_idx)\n",
    "        Db_list[layer_idx] = tf.Variable(tf.ones([1, L_list[layer_idx+1]]))\n",
    "\n",
    "    f_dw1 = tf.Variable(tf.truncated_normal([L_list[n_layers], L_list[n_layers]]), name=\"f_dw1\")\n",
    "    f_db1 = tf.Variable(tf.ones([L_list[n_layers]]))\n",
    "\n",
    "    f_gw1 = tf.Variable(tf.truncated_normal([L_list[n_layers], L_list[n_layers]]))\n",
    "    f_gb1 = tf.Variable(tf.ones([L_list[n_layers]]))\n",
    "\n",
    "    g_w1_ini = tf.Variable(tf.truncated_normal([1, L_list[n_layers]*4+z_dim, 64], stddev=1.))\n",
    "    g_w1 = tf.tile(g_w1_ini, [S, 1, 1])\n",
    "    g_g1 = tf.Variable(tf.ones([1,1,64]))\n",
    "\n",
    "    g_b1 = tf.Variable(tf.ones([1, 1, 64]))\n",
    "\n",
    "    g_w2_ini = tf.Variable(tf.truncated_normal([1, 64, 64], stddev=1.))\n",
    "    g_w2 = tf.tile(g_w2_ini, [S, 1, 1])\n",
    "    g_g2 = tf.Variable(tf.ones([1,1,64]))\n",
    "\n",
    "    g_b2 = tf.Variable(tf.ones([1, 1, 64]))\n",
    "\n",
    "    g_w3_ini = tf.Variable(tf.truncated_normal([1, 64, 1], stddev=1.))\n",
    "    g_w3 = tf.tile(g_w3_ini, [S, 1, 1])\n",
    "    g_b3 = tf.Variable(tf.ones([1, 1, 1]))\n",
    "    g_g3 = tf.Variable(tf.ones([1,1,1]))\n",
    "\n",
    "    dd_w1_ini = tf.Variable(tf.truncated_normal([1, L_list[n_layers]*4+1, 32]))\n",
    "    dd_w1 = tf.tile(dd_w1_ini, [S, 1, 1])\n",
    "    dd_b1 = tf.Variable(tf.truncated_normal([1, 1, 32]))\n",
    "\n",
    "    dd_w2_ini = tf.Variable(tf.truncated_normal([1,32, 32]))\n",
    "    dd_w2 = tf.tile(dd_w2_ini, [S, 1, 1])\n",
    "    dd_b2 = tf.Variable(tf.truncated_normal([1,1,32]))\n",
    "\n",
    "    dd_w3_ini = tf.Variable(tf.truncated_normal([1,32, 1]))\n",
    "    dd_w3 = tf.tile(dd_w2_ini, [S, 1, 1])\n",
    "    dd_b3 = tf.Variable(tf.truncated_normal([1,1,1]))\n",
    "    \n",
    "    \n",
    "    d_w1_ini = tf.Variable(tf.truncated_normal([1, B*(L_list[n_layers]*2+1), 32]))\n",
    "    d_w1 = tf.tile(d_w1_ini, [S, 1, 1])\n",
    "    d_b1 = tf.Variable(tf.ones([1, 1, 32]))\n",
    "\n",
    "    d_w2_ini = tf.Variable(tf.truncated_normal([1, 32, 1]))\n",
    "    d_w2 = tf.tile(d_w2_ini, [S, 1, 1])\n",
    "    d_b2 = tf.Variable(tf.ones([1, 1, 1]))\n",
    "\n",
    "    lam1 = tf.Variable(tf.constant(0.01))\n",
    "    lam2 = tf.Variable(tf.constant(0.01))\n",
    "    lam3 = tf.Variable(tf.constant(0.01))"
   ]
  },
  {
   "cell_type": "code",
   "execution_count": 2108,
   "metadata": {
    "collapsed": true
   },
   "outputs": [],
   "source": [
    "def adjacency_conv_layer(x, W, b, adj, clades, L_in, L_out, layer_idx, S, B):\n",
    "    with tf.device('/gpu:0'):\n",
    "        print(\"layer_idx: %d\" %(layer_idx))\n",
    "        h = tf.matmul(adj, x, name=\"adj_mult_%d\" %layer_idx)\n",
    "        h = tf.reshape(h, shape=(S*B, L_in), name=\"adj_reshape_1_%d\" %layer_idx)\n",
    "\n",
    "        h = tf.matmul(h, W, name=\"adjconv_%d\" %layer_idx) + b\n",
    "    \n",
    "        h = tf.nn.tanh(h)\n",
    "        h = tf.reshape(h, (S, B, L_out), name=\"adj_reshape_2_%d\" %layer_idx)  \n",
    "\n",
    "        h = tf.matmul(clades, h)\n",
    "\n",
    "        print(\"within func h:\")\n",
    "        print(h)                                                                                                                              \n",
    "\n",
    "    return(h)"
   ]
  },
  {
   "cell_type": "code",
   "execution_count": 2109,
   "metadata": {
    "collapsed": true
   },
   "outputs": [],
   "source": [
    "#t = sess.run(tf.matmul(dihed_indices[:,:,:,0], x))\n",
    "#t = np.reshape(t, [t.shape[0]*t.shape[1],t.shape[2]])"
   ]
  },
  {
   "cell_type": "code",
   "execution_count": 2110,
   "metadata": {},
   "outputs": [
    {
     "data": {
      "text/plain": [
       "'\\ndef compute_dihedral_tensor(mols_batch, angle_tuples_batch):\\n    i_vec = tf.reshape(mols_batch, [S, B, 1, 3])\\n    i_vec = tf.tile(i_vec, [1, 1, B, 1])\\n\\n    j_vec = tf.reshape(mols_batch, [S, 1, B, 3])\\n    j_vec = tf.tile(j_vec, [1, B, 1, 1])\\n\\n    diff = tf.subtract(i_vec, j_vec)\\n    temp = tf.eye(B, batch_shape=[S])\\n    temp = tf.reshape(temp, [S, B, B, 1])\\n    temp = tf.tile(temp, [1, 1, 1, 3])\\n    diff = diff + temp\\n    diff = diff / tf.sqrt(tf.reduce_sum(tf.square(diff), axis=3, keep_dims=True))\\n    temp = tf.sqrt(tf.reduce_sum(tf.square(temp), axis=3, keep_dims=True))\\n    diff = tf.subtract(diff, temp)\\n\\n    print(\"diff should be [S, B, B, 3]\")\\n    print(diff)\\n\\n    ij = tf.tile(tf.reshape(diff, [S, B, 1, B, 3]), [1, 1, B, 1, 1])\\n    ik = tf.tile(tf.reshape(diff, [S, B, B, 1, 3]), [1, 1, 1, B, 1])\\n    cross = tf.cross(ij, ik)\\n    cross = cross / tf.sqrt(tf.reduce_sum(tf.square(cross), axis=4, keep_dims=True))\\n    \\n    ijk = tf.tile(tf.reshape(cross, [S, B, B, 1, B, 3]), [1m 1])\\n    \\n    dps = tf.reduce_sum(tf.multiply(ij ,ik), axis=4)\\n    #dps = tf.where(tf.is_nan(dps), tf.ones_like(dps) * 0., dps)\\n    print(\"dps should be [S, B, B, B]\")\\n    print(dps)\\n\\n    #angles_gen = tf.acos(tf.clip_by_value(dps, -1.0, 1.0))\\n    angles_computed = tf.where(tf.is_nan(dps), tf.zeros_like(dps), dps)\\n    angles_computed = tf.multiply(angles_computed, angle_tuples_batch)\\n    return(angles_computed)\\n'"
      ]
     },
     "execution_count": 2110,
     "metadata": {},
     "output_type": "execute_result"
    }
   ],
   "source": [
    "def compute_angle_tensor(mols_batch, angle_tuples_batch):\n",
    "    i_vec = tf.reshape(mols_batch, [S, B, 1, 3])\n",
    "    i_vec = tf.tile(i_vec, [1, 1, B, 1])\n",
    "\n",
    "    j_vec = tf.reshape(mols_batch, [S, 1, B, 3])\n",
    "    j_vec = tf.tile(j_vec, [1, B, 1, 1])\n",
    "\n",
    "    diff = tf.subtract(i_vec, j_vec)\n",
    "    temp = tf.eye(B, batch_shape=[S])\n",
    "    temp = tf.reshape(temp, [S, B, B, 1])\n",
    "    temp = tf.tile(temp, [1, 1, 1, 3])\n",
    "    diff = diff + temp\n",
    "    diff = diff / tf.sqrt(tf.reduce_sum(tf.square(diff), axis=3, keep_dims=True))\n",
    "    temp = tf.sqrt(tf.reduce_sum(tf.square(temp), axis=3, keep_dims=True))\n",
    "    diff = tf.subtract(diff, temp)\n",
    "\n",
    "    print(\"diff should be [S, B, B, 3]\")\n",
    "    print(diff)\n",
    "\n",
    "    ij = tf.tile(tf.reshape(diff, [S, B, 1, B, 3]), [1, 1, B, 1, 1])\n",
    "    ik = tf.tile(tf.reshape(diff, [S, B, B, 1, 3]), [1, 1, 1, B, 1])\n",
    "    dps = tf.reduce_sum(tf.multiply(ij ,ik), axis=4)\n",
    "    #dps = tf.where(tf.is_nan(dps), tf.ones_like(dps) * 0., dps)\n",
    "    print(\"dps should be [S, B, B, B]\")\n",
    "    print(dps)\n",
    "\n",
    "    #angles_gen = tf.acos(tf.clip_by_value(dps, -1.0, 1.0))\n",
    "    angles_computed = tf.where(tf.is_nan(dps), tf.zeros_like(dps), dps)\n",
    "    angles_computed = tf.multiply(angles_computed, angle_tuples_batch)\n",
    "    return(angles_computed)\n",
    "\n",
    "def compute_dist_tensor(mols_batch):\n",
    "    dist_matrix = tf.concat([tf.reshape(compute_distance_matrix(tf.reshape(mol, [B, 3])), (1, B, B)) for mol in tf.split(mols_batch, S, axis=0)], axis=0)\n",
    "    #dist_matrix = tf.where(tf.is_nan(dist_matrix), tf.ones_like(dist_matrix) * 0., dist_matrix)\n",
    "    print(\"dist_matrix\")\n",
    "    print(dist_matrix)\n",
    "    #dist_matrix = compute_distance_matrix(mol)\n",
    "    return(dist_matrix)\n",
    "\n",
    "def compute_rot_matrix(t, vec):\n",
    "    x, y, z = vec[0], vec[1], vec[2]\n",
    "    rot_matrix = tf.reshape(tf.stack([tf.cos(t) + tf.square(x) * (1 - tf.cos(t)), \n",
    "                               x*y*(1-tf.cos(t)) - z*tf.sin(t),\n",
    "                               x*z*(1-tf.cos(t)) + y*tf.sin(t),\n",
    "                              y*x*(1-tf.cos(t)) + z*tf.sin(t),\n",
    "                               tf.cos(t) + y*y*(1-tf.cos(t)),\n",
    "                               y*z*(1-tf.cos(t)) - x*tf.sin(t),\n",
    "                              z*x*(1-tf.cos(t)) - y*tf.sin(t),\n",
    "                               z*y*(1-tf.cos(t)) + x*tf.sin(t),\n",
    "                               tf.cos(t)+ z*z*(1-tf.cos(t))]), (3,3))\n",
    "    return(rot_matrix)\n",
    "\n",
    "\"\"\"\n",
    "def compute_dihedral_tensor(mols_batch, angle_tuples_batch):\n",
    "    i_vec = tf.reshape(mols_batch, [S, B, 1, 3])\n",
    "    i_vec = tf.tile(i_vec, [1, 1, B, 1])\n",
    "\n",
    "    j_vec = tf.reshape(mols_batch, [S, 1, B, 3])\n",
    "    j_vec = tf.tile(j_vec, [1, B, 1, 1])\n",
    "\n",
    "    diff = tf.subtract(i_vec, j_vec)\n",
    "    temp = tf.eye(B, batch_shape=[S])\n",
    "    temp = tf.reshape(temp, [S, B, B, 1])\n",
    "    temp = tf.tile(temp, [1, 1, 1, 3])\n",
    "    diff = diff + temp\n",
    "    diff = diff / tf.sqrt(tf.reduce_sum(tf.square(diff), axis=3, keep_dims=True))\n",
    "    temp = tf.sqrt(tf.reduce_sum(tf.square(temp), axis=3, keep_dims=True))\n",
    "    diff = tf.subtract(diff, temp)\n",
    "\n",
    "    print(\"diff should be [S, B, B, 3]\")\n",
    "    print(diff)\n",
    "\n",
    "    ij = tf.tile(tf.reshape(diff, [S, B, 1, B, 3]), [1, 1, B, 1, 1])\n",
    "    ik = tf.tile(tf.reshape(diff, [S, B, B, 1, 3]), [1, 1, 1, B, 1])\n",
    "    cross = tf.cross(ij, ik)\n",
    "    cross = cross / tf.sqrt(tf.reduce_sum(tf.square(cross), axis=4, keep_dims=True))\n",
    "    \n",
    "    ijk = tf.tile(tf.reshape(cross, [S, B, B, 1, B, 3]), [1m 1])\n",
    "    \n",
    "    dps = tf.reduce_sum(tf.multiply(ij ,ik), axis=4)\n",
    "    #dps = tf.where(tf.is_nan(dps), tf.ones_like(dps) * 0., dps)\n",
    "    print(\"dps should be [S, B, B, B]\")\n",
    "    print(dps)\n",
    "\n",
    "    #angles_gen = tf.acos(tf.clip_by_value(dps, -1.0, 1.0))\n",
    "    angles_computed = tf.where(tf.is_nan(dps), tf.zeros_like(dps), dps)\n",
    "    angles_computed = tf.multiply(angles_computed, angle_tuples_batch)\n",
    "    return(angles_computed)\n",
    "\"\"\""
   ]
  },
  {
   "cell_type": "code",
   "execution_count": 2111,
   "metadata": {
    "collapsed": true
   },
   "outputs": [],
   "source": [
    "def wnorm_layer(w, x, gamma, alpha):\n",
    "    axes = range(0, len(w.get_shape()))\n",
    "    wn = tf.nn.l2_normalize(w, -1)*gamma\n",
    "    y = tf.nn.tanh(tf.matmul(x, wn) - alpha) + alpha\n",
    "    return(y)"
   ]
  },
  {
   "cell_type": "code",
   "execution_count": 2112,
   "metadata": {
    "collapsed": true
   },
   "outputs": [],
   "source": [
    "def generator(W_list, b_list, h_list, L_list, n_layers, mols):\n",
    "    if 1==1:\n",
    "    #with tf.variable_scope(\"generator\"):\n",
    "        for layer_idx in range(n_layers):\n",
    "            h_list.append(tf.nn.dropout(adjacency_conv_layer(h_list[layer_idx], W_list[layer_idx],\n",
    "                                                         b_list[layer_idx], adj_list[layer_idx], \n",
    "                                                         clades_list[layer_idx],\n",
    "                                                         L_list[layer_idx], L_list[layer_idx+1],\n",
    "                                                         layer_idx, S, B_list[layer_idx]), keep_prob))\n",
    "        L_final = L_list[n_layers]  \n",
    "\n",
    "        print(\"h_list[-1]\")\n",
    "        print(h_list[-1])\n",
    "\n",
    "        print(\"B_list\")\n",
    "        print(B_list)\n",
    "\n",
    "        fingerprints = tf.tile(tf.reshape(tf.nn.tanh(tf.matmul(tf.reduce_sum(h_list[-1], axis=1), f_gw1) + f_gb1), [S, 1, L_final]), [1, D, 1])\n",
    "\n",
    "        #fingerprints = tf.tile(tf.reshape(tf.layers.batch_normalization(tf.nn.tanh(tf.matmul(tf.reduce_sum(h_list[-1], axis=1), f_gw1) + f_gb1), training=phase, name=\"gbn1\"), [S, 1, L_final]), [1, D, 1])\n",
    "        h_final = h_list[-1]\n",
    "\n",
    "        d0 = []\n",
    "        for l in range(0, valence*dihed_per_bond):\n",
    "            d0.append(tf.matmul(dihed_indices[:,:,:,l], h_final, name=\"dihed_mult\"))\n",
    "\n",
    "        d0 = tf.concat(d0, axis=2)\n",
    "        print(\"d0 should be shape %s\" %(str((S, D, L_list[n_layers]*4))))\n",
    "        d0 = tf.concat([d0, z], axis=2)\n",
    "\n",
    "        #PREDICT ANGLES:\n",
    "        g_h1 = tf.nn.dropout(tf.nn.tanh(tf.matmul(d0, g_w1) + g_b1), keep_prob)\n",
    "        #g_h1 = wnorm_layer(g_w1, d0, g_g1, g_b1)\n",
    "        #g_h1 = tf.nn.tanh(tf.matmul(d0, wnorm(g_w1, g_g1)) + g_b1)\n",
    "        #g_h1 = tf.reshape(g_h1, [S, 5, 16])\n",
    "        print(\"g_h1\")\n",
    "        print(g_h1)\n",
    "        #g_h2 = tf.nn.dropout(tf.nn.tanh(tf.matmul(g_h1, g_w2) + g_b2), 1.)\n",
    "        g_h2 = tf.nn.dropout(tf.nn.tanh(tf.matmul(g_h1, g_w2)+g_b2), keep_prob)\n",
    "        \n",
    "        print(\"g_h2\")\n",
    "        print(g_h2)\n",
    "        \n",
    "        #g_h2 = wnorm_layer(g_w2, g_h1, g_g2, g_b2)\n",
    "        \n",
    "        g_h3 = tf.reshape(tf.matmul(g_h2, g_w3) + g_b3, [S, D, 1])\n",
    "        #g_h3 = wnorm_layer(g_w3, g_h2, g_g3, g_b3)\n",
    "        \n",
    "        print(\"g_h3\")\n",
    "        print(g_h3)\n",
    "        #g_h3 = tf.atan2(tf.sin(g_h3), tf.cos(g_h3))\n",
    "\n",
    "        output = g_h3\n",
    "        \"\"\"\n",
    "        def sample_gen_cdf(params, noise):\n",
    "            angle = 0.\n",
    "            for i in range(0,3):\n",
    "                comp = tf.nn.tanh(tf.add(tf.multiply(params[:,:,i*3+1], noise), params[:,:,i*3+2]))\n",
    "                print(\"comp1\")\n",
    "                print(comp)\n",
    "                comp = tf.multiply(params[:,:,i*3], comp)\n",
    "                print(\"comp2\")\n",
    "                print(comp)\n",
    "                angle = tf.add(angle, comp)\n",
    "            return(angle)\n",
    "        \n",
    "        output = sample_gen_cdf(g_h3, zg)\n",
    "        \"\"\"\n",
    "\n",
    "\n",
    "        #ROTATE MOLECULE: \n",
    "        #for i in range(n_bonds):\n",
    "            #rotation point: atom_index_of_bond * mol_xyz\n",
    "            #\n",
    "            #rot_mat = compute_rotation_matrix(old_angle - g_h2, axis)\n",
    "            #new_xyz = rot_mat*subgraph*xyz + (1-subgraph)*xyz\n",
    "        \n",
    "        \"\"\"\n",
    "        new_mols = []\n",
    "        for i in range(0,S):\n",
    "            mol = mol_xyz[i]\n",
    "            for j in range(0,D):\n",
    "                rot_point = tf.matmul(tf.reshape(atom_index_of_bond[i,j,:], (1, B)), mol)\n",
    "                mol = tf.subtract(mol, rot_point)\n",
    "                rot_mat = compute_rot_matrix(tf.subtract(g_h3[i, j], dihed_tensor[i, j]), rot_vectors[i, j])\n",
    "                if i ==0 and j ==0:\n",
    "                    rot_mat_i = rot_mat\n",
    "\n",
    "                frag_i = tf.transpose(tf.matmul(subgraph[i, j, :, :], mol), perm=[1,0])\n",
    "                new_xyz = tf.transpose(tf.matmul(rot_mat, frag_i), perm=[1,0])\n",
    "\n",
    "                other_subgraph = tf.subtract(tf.eye(B), subgraph[i, j, :, :])\n",
    "                mol = tf.add(new_xyz, tf.matmul(other_subgraph, mol))\n",
    "            new_mols.append(mol)\n",
    "        new_mol = tf.stack(new_mols, axis=0)\n",
    "        \"\"\"\n",
    "\n",
    "        \"\"\"\n",
    "        for i in range(D):\n",
    "            rot_point = tf.matmul(tf.reshape(atom_index_of_bond[:,i,:], (S, 1, B)), mol_xyz)\n",
    "            tf.subtract(mol_xyz, rot_point)\n",
    "            rot_mat = []\n",
    "            for j in range(0,S):\n",
    "                rot_mat.append(tf.reshape(compute_rot_matrix(tf.subtract(g_h3[j, i], dihed_tensor[j, i]), rot_vectors[j, i]), [1, 3, 3]))\n",
    "            rot_mat = tf.concat(rot_mat, axis=0)\n",
    "            if i == 0:\n",
    "                rot_mat_i = rot_mat\n",
    "\n",
    "            frag_i = tf.transpose(tf.matmul(subgraph[:, i, :, :], mol_xyz), perm=[0,2,1])\n",
    "            new_xyz = tf.transpose(tf.matmul(rot_mat, frag_i), perm=[0,2,1])\n",
    "\n",
    "            other_subgraph = tf.subtract(tf.tile(tf.reshape(tf.eye(B), [1, B, B]), [S, 1, 1]), subgraph[:, i, :, :])\n",
    "            new_xyz = tf.add(new_xyz, tf.matmul(other_subgraph, mol_xyz))\n",
    "        \"\"\"\n",
    "        return(mols, output, tf.ones([3,3]))\n",
    "\n"
   ]
  },
  {
   "cell_type": "code",
   "execution_count": 2113,
   "metadata": {
    "collapsed": true
   },
   "outputs": [],
   "source": [
    "def Normal(mu, sigma, a):\n",
    "    return(tf.sqrt(1/(2*3.14159*(sigma**2))) * tf.exp(-((a-mu)**2) / (2*sigma**2)))"
   ]
  },
  {
   "cell_type": "code",
   "execution_count": 2114,
   "metadata": {
    "collapsed": true
   },
   "outputs": [],
   "source": [
    "def discriminator(W_list, b_list, h_list, L_list, n_layers, mol_real, dihed, reuse=False):\n",
    "    with tf.variable_scope(\"discriminator\"):\n",
    "\n",
    "        #with tf.device('/gpu:0'):\n",
    "        if 1==1:\n",
    "            for layer_idx in range(n_layers):\n",
    "                h_list.append(tf.nn.dropout(adjacency_conv_layer(h_list[layer_idx], W_list[layer_idx],\n",
    "                                                 b_list[layer_idx], adj_list[layer_idx], \n",
    "                                                 clades_list[layer_idx],\n",
    "                                                 L_list[layer_idx], L_list[layer_idx+1],\n",
    "                                                 layer_idx, S, B_list[layer_idx]), keep_prob))        \n",
    "            #DIHEDRAL LOSS:\n",
    "            fingerprints = tf.tile(tf.reshape(tf.nn.tanh(tf.matmul(tf.reduce_sum(h_list[-1], axis=1), f_dw1) + f_db1), [S, 1, L_list[n_layers]]), [1, D, 1])\n",
    "            #fingerprints = tf.tile(tf.reshape(tf.layers.batch_normalization(tf.nn.tanh(tf.matmul(tf.reduce_sum(h_list[-1], axis=1), f_dw1) + f_db1), training=phase, name=\"dbn1\", reuse=reuse), [S, 1, L_list[n_layers]]), [1, D, 1])\n",
    "            h_final = h_list[-1]\n",
    "\n",
    "            d0 = []\n",
    "            for l in range(0, valence*dihed_per_bond):\n",
    "                d0.append(tf.matmul(dihed_indices[:,:,:,l], h_final, name=\"dihed_mult\"))\n",
    "\n",
    "            d0 = tf.concat(d0, axis=2)\n",
    "            print(\"d0 should be shape %s\" %(str((S, D, L_list[n_layers]*4+1))))\n",
    "            print(d0)\n",
    "            d0 = tf.concat([d0, dihed], axis=2)\n",
    "            d0 = tf.reshape(d0, [S, D, L_list[n_layers]*4 + 1])\n",
    "            \n",
    "            d1 = tf.nn.dropout(tf.nn.tanh(tf.matmul(d0, dd_w1) + dd_b1), 1.)\n",
    "            #d1 = tf.layers.batch_normalization(tf.nn.tanh(tf.matmul(d0, dd_w1) + dd_b1), training=phase, name=\"dbn2\", reuse=reuse, scale=True)\n",
    "            d2 = tf.nn.tanh(tf.matmul(d1, dd_w2) + dd_b2)\n",
    "            d3 = tf.reduce_mean(tf.matmul(d2, dd_w3) + dd_b3, axis=1, keep_dims=True)\n",
    "            return(d3)\n",
    "            \"\"\"\n",
    "            \n",
    "            #prob = tf.nn.sigmoid(d2)\n",
    "            \n",
    "            print(\"d2\")\n",
    "            print(d2)\n",
    "            \n",
    "            prob = 0.\n",
    "            for i in range(0,3):\n",
    "                prob += d2[:, :, i*3] * Normal(mu=d2[:, :, i*3+1], sigma=d2[:, :, i*3+2], a=tf.reshape(dihed, (S,D)))\n",
    "            \n",
    "            return(prob)\n",
    "            \"\"\"\n",
    "            \n",
    "            #prob = tf.reduce_mean(tf.reshape(prob, [S, D]), axis=1, keep_dims=True)\n",
    "            #prob = tf.nn.tanh(tf.reduce_mean(prob, axis=1, keep_dims=True))\n",
    "\n",
    "\n",
    "            #COMPUTE CONTACT LOSS:\n",
    "            \"\"\"\n",
    "            new_mols = []\n",
    "            for i in range(0,S):\n",
    "                mol = mol_real[i]\n",
    "                for j in range(0,D):\n",
    "                    rot_point = tf.matmul(tf.reshape(atom_index_of_bond[i,j,:], (1, B)), mol)\n",
    "                    mol = tf.subtract(mol, rot_point)\n",
    "                    rot_mat = compute_rot_matrix(tf.subtract(dihed[i, j], dihed_tensor[i, j]), rot_vectors[i, j])\n",
    "                    if i ==0 and j ==0:\n",
    "                        rot_mat_i = rot_mat\n",
    "\n",
    "                    frag_i = tf.transpose(tf.matmul(subgraph[i, j, :, :], mol), perm=[1,0])\n",
    "                    new_xyz = tf.transpose(tf.matmul(rot_mat, frag_i), perm=[1,0])\n",
    "\n",
    "                    other_subgraph = tf.subtract(tf.eye(B), subgraph[i, j, :, :])\n",
    "                    mol = tf.add(new_xyz, tf.matmul(other_subgraph, mol))\n",
    "                new_mols.append(mol)\n",
    "            mol_gen = tf.stack(new_mols, axis=0)\n",
    "\n",
    "\n",
    "            dist_real = compute_dist_tensor(mol_real)\n",
    "            dist_fake = compute_dist_tensor(mol_gen)\n",
    "\n",
    "            dist_loss = tf.multiply(tf.reduce_sum(tf.squared_difference(dist_fake, dist_real), axis=[1,2]), lam1)\n",
    "            \"\"\"\n",
    "\n",
    "            \"\"\"\n",
    "            contact_dist = tf.multiply(dist_matrix_gen, non_adj_matrix)\n",
    "            contact_loss = tf.multiply(tf.reshape(tf.reduce_mean(tf.exp(tf.multiply(tf.multiply(tf.subtract(contact_dist, 2.), -1.), 3.)), axis=[1,2]), (S,1)), lam3)        \n",
    "\n",
    "            feat_i = tf.reshape(h_final, (S, B, 1, L_list[n_layers]))\n",
    "            feat_i = tf.tile(feat_i, [1, 1, B, 1])\n",
    "\n",
    "            feat_j = tf.reshape(h_final, (S, B, 1, L_list[n_layers]))\n",
    "            feat_j = tf.transpose(feat_j, perm=[0, 2, 1, 3])\n",
    "            feat_j = tf.tile(feat_j, [1, B, 1, 1])\n",
    "\n",
    "            d_h1 = tf.concat([tf.reshape(dist_matrix_gen, [S, B, B, 1]), feat_i, feat_j], axis=3)\n",
    "            d_h1 = tf.reshape(d_h1, [S, B, B*(L_list[n_layers]*2+1)])\n",
    "            d_h2 = tf.nn.dropout(tf.nn.tanh(tf.matmul(d_h1, d_w1) + d_b1), keep_prob)\n",
    "            d_h2 = tf.divide(tf.reduce_sum(tf.matmul(d_h2, d_w2) + d_b2, axis=1), n_bonds)#, axis=1\n",
    "            print(\"d_h2\")\n",
    "            print(d_h2)\n",
    "            \"\"\"\n",
    "\n"
   ]
  },
  {
   "cell_type": "code",
   "execution_count": 2115,
   "metadata": {
    "collapsed": true
   },
   "outputs": [],
   "source": [
    "theta_D = DW_list[:n_layers] + Db_list[:n_layers] + [d_w1_ini, d_b1, d_w2_ini, d_b2, dd_w1_ini, dd_b1, dd_w2_ini, dd_b2, dd_w3_ini, dd_b3, f_dw1, f_db1, lam1] + [n for n in tf.trainable_variables() if \"dbn\" in str(n)]\n",
    "theta_G = GW_list[:n_layers] + Gb_list[:n_layers] + [g_w1_ini, g_b1, g_w2_ini, g_b2, g_w3_ini, g_b3, f_gw1, f_gb1, g_g1, g_g2, g_g3] + [n for n in tf.trainable_variables() if \"gbn\" in str(n)]"
   ]
  },
  {
   "cell_type": "code",
   "execution_count": 2116,
   "metadata": {
    "scrolled": true
   },
   "outputs": [
    {
     "name": "stdout",
     "output_type": "stream",
     "text": [
      "h_list[-1]\n",
      "Tensor(\"atom_features:0\", shape=(32, 48, 75), dtype=float32)\n",
      "B_list\n",
      "[48]\n",
      "d0 should be shape (32, 16, 300)\n",
      "g_h1\n",
      "Tensor(\"dropout/mul:0\", shape=(32, 16, 64), dtype=float32)\n",
      "g_h2\n",
      "Tensor(\"dropout_1/mul:0\", shape=(32, 16, 64), dtype=float32)\n",
      "g_h3\n",
      "Tensor(\"Reshape_1:0\", shape=(32, 16, 1), dtype=float32)\n",
      "dihed, returned\n",
      "Tensor(\"Reshape_1:0\", shape=(32, 16, 1), dtype=float32)\n",
      "d0 should be shape (32, 16, 301)\n",
      "Tensor(\"discriminator/concat:0\", shape=(32, 16, 300), dtype=float32)\n",
      "d0 should be shape (32, 16, 301)\n",
      "Tensor(\"discriminator_1/concat:0\", shape=(32, 16, 300), dtype=float32)\n"
     ]
    }
   ],
   "source": [
    "import time \n",
    "\n",
    "#with tf.device('/gpu:0'):\n",
    "if 1==1:\n",
    "\n",
    "    G_sample, dihed, rot_mat_i = generator(GW_list, Gb_list, Gh_list, L_list, n_layers, mol_xyz)\n",
    "    print(\"dihed, returned\")\n",
    "    print(dihed)\n",
    "    #dihed = tf.clip_by_value(dihed, -3.2, 3.2)\n",
    "    \n",
    "    D_real = discriminator(DW_list, Db_list, Dh_list, L_list, n_layers, mol_xyz, dihed_tensor + mol_noise, reuse=False)\n",
    "    D_fake = discriminator(DW_list, Db_list, Dh_list, L_list, n_layers, mol_xyz, dihed, reuse=True)\n",
    "\n",
    "    #D_loss = tf.reduce_mean(D_real) - tf.reduce_mean(D_fake)\n",
    "    #G_loss = -tf.reduce_mean(D_fake)\n",
    "    \n",
    "    D_loss = tf.reduce_sum(tf.square(D_real-1) + tf.square(D_fake))/2\n",
    "    G_loss = tf.reduce_sum(tf.square(D_fake-1))/2\n",
    "    \n",
    "    D_solver = (tf.train.RMSPropOptimizer(learning_rate=5e-4)\n",
    "                .minimize(D_loss, var_list=theta_D))\n",
    "    G_solver = (tf.train.RMSPropOptimizer(learning_rate=5e-4)\n",
    "                .minimize(G_loss, var_list=theta_G))\n",
    "    \n",
    "    d_ops = [op for op in tf.get_collection(tf.GraphKeys.UPDATE_OPS) if \"dbn\" in str(op)]\n",
    "    g_ops = [op for op in tf.get_collection(tf.GraphKeys.UPDATE_OPS) if \"gbn\" in str(op)]\n",
    "\n",
    "    \n",
    "    \n",
    "    \n",
    "    # WGAN lipschitz-penalty\n",
    "    \"\"\"\n",
    "    alpha = tf.random_uniform(\n",
    "        shape=[S,1,1], \n",
    "        minval=0.,\n",
    "        maxval=1.\n",
    "    )\n",
    "    differences = dihed_tensor - dihed\n",
    "    interpolates = dihed_tensor + (alpha*differences)\n",
    "    print(\"interpolates\")\n",
    "    print(interpolates)\n",
    "    \n",
    "    gradients = tf.gradients(discriminator(DW_list, Db_list, Dh_list, L_list, n_layers, mol_xyz, interpolates), [interpolates])[0]\n",
    "    print(\"Gradients\")\n",
    "    print(gradients)\n",
    "    slopes = tf.sqrt(tf.reduce_sum(tf.square(gradients), reduction_indices=[1,2]))\n",
    "    gradient_penalty = tf.reduce_mean((slopes-1.)**2)\n",
    "    LAMBDA = 10\n",
    "    D_loss += LAMBDA*gradient_penalty\n",
    "    \n",
    "    G_solver = tf.train.AdamOptimizer(learning_rate=1e-3, beta1=0.5, beta2=0.9).minimize(G_loss, var_list=gen_params)\n",
    "    D_solver = tf.train.AdamOptimizer(learning_rate=1e-3, beta1=0.5, beta2=0.9).minimize(D_loss, var_list=disc_params)\n",
    "    \"\"\"\n",
    "\n",
    "    \"\"\"\n",
    "    clip_D = []\n",
    "    for p in theta_D[:-1]:\n",
    "        #print(p)\n",
    "        clip_D.append(p.assign(tf.clip_by_value(p, -0.01, 0.01)))\n",
    "    clip_D.append(lam1.assign(tf.clip_by_value(lam1, 0.001, 0.01)))\n",
    "\n",
    "    \n",
    "    D_solver = (tf.train.RMSPropOptimizer(learning_rate=5e-4)\n",
    "                .minimize(-D_loss, var_list=theta_D))\n",
    "    G_solver = (tf.train.RMSPropOptimizer(learning_rate=5e-4)\n",
    "                .minimize(G_loss, var_list=theta_G))\n",
    "    \"\"\"\n",
    "    "
   ]
  },
  {
   "cell_type": "code",
   "execution_count": 2117,
   "metadata": {},
   "outputs": [
    {
     "data": {
      "text/plain": [
       "[]"
      ]
     },
     "execution_count": 2117,
     "metadata": {},
     "output_type": "execute_result"
    }
   ],
   "source": [
    "tf.get_collection(tf.GraphKeys.UPDATE_OPS)"
   ]
  },
  {
   "cell_type": "code",
   "execution_count": 2118,
   "metadata": {
    "collapsed": true
   },
   "outputs": [],
   "source": [
    "mb_size = S\n",
    "\n",
    "sess = tf.Session(config=tf.ConfigProto(log_device_placement=True))\n",
    "sess.run(tf.global_variables_initializer())\n",
    "\n",
    "\n",
    "preds = []\n",
    "\n",
    "d_losses = []\n",
    "g_losses = []\n",
    "#print(sess.run(label_placeholder))\n",
    "\n"
   ]
  },
  {
   "cell_type": "code",
   "execution_count": 2119,
   "metadata": {
    "collapsed": true
   },
   "outputs": [],
   "source": [
    "\n",
    "\n",
    "def construct_feed_dict(X, start=None,\n",
    "                      stop=None, y=None,\n",
    "                      keep_prob_val=1., train=True,\n",
    "                       shuffle_inds=True):\n",
    "    a = time.time()\n",
    "    if start is None:\n",
    "      start = 0\n",
    "      stop = len(X)\n",
    "    \n",
    "    inds = range(start, stop)\n",
    "    if shuffle_inds:\n",
    "        random.shuffle(inds)\n",
    "\n",
    "    atom_adj_batch = [X[idx][7][0] for idx in inds]\n",
    "    \n",
    "    A_batch = np.array([X[idx][7][1] for idx in inds])\n",
    "    mol_xyz_batch = [X[idx][1] for idx in inds]\n",
    "    dihed_tuples_batch = [X[idx][2] for idx in inds]\n",
    "    dihed_tensor_batch = [X[idx][3] for idx in inds]\n",
    "    subgraph_batch = [X[idx][4] for idx in inds]\n",
    "    atom_index_of_bond_batch = [X[idx][5] for idx in inds]\n",
    "    rot_vectors_batch = [X[idx][6] for idx in inds]\n",
    "\n",
    "    feed_dict = {x: A_batch,\n",
    "                 adj_matrix: atom_adj_batch,\n",
    "                 mol_xyz: mol_xyz_batch,\n",
    "                 dihed_indices: dihed_tuples_batch,\n",
    "                 dihed_tensor: dihed_tensor_batch,\n",
    "                 subgraph: subgraph_batch,\n",
    "                 atom_index_of_bond: atom_index_of_bond_batch,\n",
    "                 rot_vectors: rot_vectors_batch,\n",
    "                 keep_prob: keep_prob_val,\n",
    "                 phase: train\n",
    "                }\n",
    "    t = time.time()-a\n",
    "    #print(\"Construct feed dict: %f\" %(t))\n",
    "    return(feed_dict)\n",
    "\n"
   ]
  },
  {
   "cell_type": "code",
   "execution_count": 2120,
   "metadata": {},
   "outputs": [
    {
     "data": {
      "text/plain": [
       "array([[-0.9129],\n",
       "       [ 3.097 ],\n",
       "       [ 1.0673],\n",
       "       [ 2.94  ],\n",
       "       [-1.0918],\n",
       "       [ 0.9408],\n",
       "       [-0.2029],\n",
       "       [ 2.0485],\n",
       "       [-2.2021],\n",
       "       [ 1.5615],\n",
       "       [ 2.6378],\n",
       "       [-0.9512],\n",
       "       [ 2.1866],\n",
       "       [ 2.2421],\n",
       "       [-0.9033],\n",
       "       [ 0.    ]])"
      ]
     },
     "execution_count": 2120,
     "metadata": {},
     "output_type": "execute_result"
    }
   ],
   "source": [
    "features[0][3]"
   ]
  },
  {
   "cell_type": "code",
   "execution_count": null,
   "metadata": {
    "collapsed": true
   },
   "outputs": [],
   "source": []
  },
  {
   "cell_type": "code",
   "execution_count": 2121,
   "metadata": {
    "collapsed": true
   },
   "outputs": [],
   "source": [
    "def generate_molecule(mol_file, new_coords, new_file):\n",
    "    print(mol_file)\n",
    "    print(new_coords[:4])\n",
    "    if \".pdb\" in mol_file:\n",
    "        mol = Chem.MolFromPDBFile(mol_file)\n",
    "    else:\n",
    "        mol = Chem.MolFromMol2File(mol_file)\n",
    "    c = mol.GetConformer(0)\n",
    "    for i in range(mol.GetNumAtoms()):\n",
    "        c.SetAtomPosition(i, new_coords[i].tolist())\n",
    "    Chem.MolToMolFile(mol, new_file)"
   ]
  },
  {
   "cell_type": "code",
   "execution_count": 2122,
   "metadata": {
    "scrolled": true
   },
   "outputs": [
    {
     "name": "stdout",
     "output_type": "stream",
     "text": [
      "0.145103931427\n",
      "Training epoch 0\n",
      "Iter: 0\n",
      "D loss: 8.762e+03\n",
      "G_loss: 3.829e+03\n",
      "4wks:\n",
      "\n",
      "real:\n",
      "[[ 1.514   1.9077 -1.4783]\n",
      " [ 0.174   1.7917 -1.9773]\n",
      " [-0.051   1.5367 -3.3643]\n",
      " [-0.589   3.1577 -1.6003]]\n",
      "fake:\n",
      "[[ 1.514   1.9077 -1.4783]\n",
      " [ 0.174   1.7917 -1.9773]\n",
      " [-0.051   1.5367 -3.3643]\n",
      " [-0.589   3.1577 -1.6003]]\n",
      "fake:\n",
      "[[ 1.  1.  1.]\n",
      " [ 1.  1.  1.]\n",
      " [ 1.  1.  1.]]\n",
      "-0.912921\n",
      "-0.310534\n"
     ]
    },
    {
     "data": {
      "image/png": "[encoded data removed]",
      "text/plain": [
       "<matplotlib.figure.Figure at 0x7f4a0f53dcd0>"
      ]
     },
     "metadata": {},
     "output_type": "display_data"
    },
    {
     "name": "stdout",
     "output_type": "stream",
     "text": [
      "/home/evan/Documents/deep_docking/datasets/v2015/4a9n/4a9n_ligand.mol2\n",
      "[[ 1.514   1.9077 -1.4783]\n",
      " [ 0.174   1.7917 -1.9773]\n",
      " [-0.051   1.5367 -3.3643]\n",
      " [-0.589   3.1577 -1.6003]]\n",
      "Butane:\n",
      "\n"
     ]
    },
    {
     "data": {
      "image/png": "[encoded data removed]",
      "text/plain": [
       "<matplotlib.figure.Figure at 0x7f4a698f1450>"
      ]
     },
     "metadata": {},
     "output_type": "display_data"
    },
    {
     "name": "stdout",
     "output_type": "stream",
     "text": [
      "0.0414018630981\n",
      "Training epoch 1000\n",
      "Iter: 1000\n",
      "D loss: 79.31\n",
      "G_loss: 412.7\n",
      "4wks:\n",
      "\n",
      "real:\n",
      "[[ 1.514   1.9077 -1.4783]\n",
      " [ 0.174   1.7917 -1.9773]\n",
      " [-0.051   1.5367 -3.3643]\n",
      " [-0.589   3.1577 -1.6003]]\n",
      "fake:\n",
      "[[ 1.514   1.9077 -1.4783]\n",
      " [ 0.174   1.7917 -1.9773]\n",
      " [-0.051   1.5367 -3.3643]\n",
      " [-0.589   3.1577 -1.6003]]\n",
      "fake:\n",
      "[[ 1.  1.  1.]\n",
      " [ 1.  1.  1.]\n",
      " [ 1.  1.  1.]]\n",
      "-0.912921\n",
      "0.961161\n"
     ]
    },
    {
     "data": {
      "image/png": "[encoded data removed]",
      "text/plain": [
       "<matplotlib.figure.Figure at 0x7f4a68a6c090>"
      ]
     },
     "metadata": {},
     "output_type": "display_data"
    },
    {
     "name": "stdout",
     "output_type": "stream",
     "text": [
      "/home/evan/Documents/deep_docking/datasets/v2015/4a9n/4a9n_ligand.mol2\n",
      "[[ 1.514   1.9077 -1.4783]\n",
      " [ 0.174   1.7917 -1.9773]\n",
      " [-0.051   1.5367 -3.3643]\n",
      " [-0.589   3.1577 -1.6003]]\n",
      "Butane:\n",
      "\n"
     ]
    },
    {
     "data": {
      "image/png": "[encoded data removed]",
      "text/plain": [
       "<matplotlib.figure.Figure at 0x7f4a0e1a9750>"
      ]
     },
     "metadata": {},
     "output_type": "display_data"
    },
    {
     "name": "stdout",
     "output_type": "stream",
     "text": [
      "0.039078950882\n",
      "Training epoch 2000\n",
      "Iter: 2000\n",
      "D loss: 56.85\n",
      "G_loss: 416.0\n",
      "4wks:\n",
      "\n",
      "real:\n",
      "[[ 1.514   1.9077 -1.4783]\n",
      " [ 0.174   1.7917 -1.9773]\n",
      " [-0.051   1.5367 -3.3643]\n",
      " [-0.589   3.1577 -1.6003]]\n",
      "fake:\n",
      "[[ 1.514   1.9077 -1.4783]\n",
      " [ 0.174   1.7917 -1.9773]\n",
      " [-0.051   1.5367 -3.3643]\n",
      " [-0.589   3.1577 -1.6003]]\n",
      "fake:\n",
      "[[ 1.  1.  1.]\n",
      " [ 1.  1.  1.]\n",
      " [ 1.  1.  1.]]\n",
      "-0.912921\n",
      "1.7725\n"
     ]
    },
    {
     "data": {
      "image/png": "[encoded data removed]",
      "text/plain": [
       "<matplotlib.figure.Figure at 0x7f4a6b144610>"
      ]
     },
     "metadata": {},
     "output_type": "display_data"
    },
    {
     "name": "stdout",
     "output_type": "stream",
     "text": [
      "/home/evan/Documents/deep_docking/datasets/v2015/4a9n/4a9n_ligand.mol2\n",
      "[[ 1.514   1.9077 -1.4783]\n",
      " [ 0.174   1.7917 -1.9773]\n",
      " [-0.051   1.5367 -3.3643]\n",
      " [-0.589   3.1577 -1.6003]]\n",
      "Butane:\n",
      "\n"
     ]
    },
    {
     "data": {
      "image/png": "[encoded data removed]",
      "text/plain": [
       "<matplotlib.figure.Figure at 0x7f4a0f09b510>"
      ]
     },
     "metadata": {},
     "output_type": "display_data"
    },
    {
     "name": "stdout",
     "output_type": "stream",
     "text": [
      "0.0386309623718\n",
      "Training epoch 3000\n",
      "Iter: 3000\n",
      "D loss: 39.27\n",
      "G_loss: 501.4\n",
      "4wks:\n",
      "\n",
      "real:\n",
      "[[ 1.514   1.9077 -1.4783]\n",
      " [ 0.174   1.7917 -1.9773]\n",
      " [-0.051   1.5367 -3.3643]\n",
      " [-0.589   3.1577 -1.6003]]\n",
      "fake:\n",
      "[[ 1.514   1.9077 -1.4783]\n",
      " [ 0.174   1.7917 -1.9773]\n",
      " [-0.051   1.5367 -3.3643]\n",
      " [-0.589   3.1577 -1.6003]]\n",
      "fake:\n",
      "[[ 1.  1.  1.]\n",
      " [ 1.  1.  1.]\n",
      " [ 1.  1.  1.]]\n",
      "-0.912921\n",
      "1.67418\n"
     ]
    },
    {
     "data": {
      "image/png": "[encoded data removed]",
      "text/plain": [
       "<matplotlib.figure.Figure at 0x7f4a1771aa10>"
      ]
     },
     "metadata": {},
     "output_type": "display_data"
    },
    {
     "name": "stdout",
     "output_type": "stream",
     "text": [
      "/home/evan/Documents/deep_docking/datasets/v2015/4a9n/4a9n_ligand.mol2\n",
      "[[ 1.514   1.9077 -1.4783]\n",
      " [ 0.174   1.7917 -1.9773]\n",
      " [-0.051   1.5367 -3.3643]\n",
      " [-0.589   3.1577 -1.6003]]\n",
      "Butane:\n",
      "\n"
     ]
    },
    {
     "data": {
      "image/png": "[encoded data removed]",
      "text/plain": [
       "<matplotlib.figure.Figure at 0x7f4a0e03fa10>"
      ]
     },
     "metadata": {},
     "output_type": "display_data"
    },
    {
     "name": "stdout",
     "output_type": "stream",
     "text": [
      "0.0394699573517\n",
      "Training epoch 4000\n",
      "Iter: 4000\n",
      "D loss: 40.02\n",
      "G_loss: 428.0\n",
      "4wks:\n",
      "\n",
      "real:\n",
      "[[ 1.514   1.9077 -1.4783]\n",
      " [ 0.174   1.7917 -1.9773]\n",
      " [-0.051   1.5367 -3.3643]\n",
      " [-0.589   3.1577 -1.6003]]\n",
      "fake:\n",
      "[[ 1.514   1.9077 -1.4783]\n",
      " [ 0.174   1.7917 -1.9773]\n",
      " [-0.051   1.5367 -3.3643]\n",
      " [-0.589   3.1577 -1.6003]]\n",
      "fake:\n",
      "[[ 1.  1.  1.]\n",
      " [ 1.  1.  1.]\n",
      " [ 1.  1.  1.]]\n",
      "-0.912921\n",
      "0.99161\n"
     ]
    },
    {
     "data": {
      "image/png": "[encoded data removed]",
      "text/plain": [
       "<matplotlib.figure.Figure at 0x7f4a15bdcfd0>"
      ]
     },
     "metadata": {},
     "output_type": "display_data"
    },
    {
     "name": "stdout",
     "output_type": "stream",
     "text": [
      "/home/evan/Documents/deep_docking/datasets/v2015/4a9n/4a9n_ligand.mol2\n",
      "[[ 1.514   1.9077 -1.4783]\n",
      " [ 0.174   1.7917 -1.9773]\n",
      " [-0.051   1.5367 -3.3643]\n",
      " [-0.589   3.1577 -1.6003]]\n",
      "Butane:\n",
      "\n"
     ]
    },
    {
     "data": {
      "image/png": "[encoded data removed]",
      "text/plain": [
       "<matplotlib.figure.Figure at 0x7f4a696d9650>"
      ]
     },
     "metadata": {},
     "output_type": "display_data"
    },
    {
     "name": "stdout",
     "output_type": "stream",
     "text": [
      "0.0383331775665\n",
      "Training epoch 5000\n",
      "Iter: 5000\n",
      "D loss: 37.41\n",
      "G_loss: 390.6\n",
      "4wks:\n",
      "\n",
      "real:\n",
      "[[ 1.514   1.9077 -1.4783]\n",
      " [ 0.174   1.7917 -1.9773]\n",
      " [-0.051   1.5367 -3.3643]\n",
      " [-0.589   3.1577 -1.6003]]\n",
      "fake:\n",
      "[[ 1.514   1.9077 -1.4783]\n",
      " [ 0.174   1.7917 -1.9773]\n",
      " [-0.051   1.5367 -3.3643]\n",
      " [-0.589   3.1577 -1.6003]]\n",
      "fake:\n",
      "[[ 1.  1.  1.]\n",
      " [ 1.  1.  1.]\n",
      " [ 1.  1.  1.]]\n",
      "-0.912921\n",
      "1.10145\n"
     ]
    },
    {
     "data": {
      "image/png": "[encoded data removed]",
      "text/plain": [
       "<matplotlib.figure.Figure at 0x7f4a0e003810>"
      ]
     },
     "metadata": {},
     "output_type": "display_data"
    },
    {
     "name": "stdout",
     "output_type": "stream",
     "text": [
      "/home/evan/Documents/deep_docking/datasets/v2015/4a9n/4a9n_ligand.mol2\n",
      "[[ 1.514   1.9077 -1.4783]\n",
      " [ 0.174   1.7917 -1.9773]\n",
      " [-0.051   1.5367 -3.3643]\n",
      " [-0.589   3.1577 -1.6003]]\n",
      "Butane:\n",
      "\n"
     ]
    },
    {
     "data": {
      "image/png": "[encoded data removed]",
      "text/plain": [
       "<matplotlib.figure.Figure at 0x7f4a1596dbd0>"
      ]
     },
     "metadata": {},
     "output_type": "display_data"
    },
    {
     "name": "stdout",
     "output_type": "stream",
     "text": [
      "0.0385119915009\n",
      "Training epoch 6000\n",
      "Iter: 6000\n",
      "D loss: 34.3\n",
      "G_loss: 522.1\n",
      "4wks:\n",
      "\n",
      "real:\n",
      "[[ 1.514   1.9077 -1.4783]\n",
      " [ 0.174   1.7917 -1.9773]\n",
      " [-0.051   1.5367 -3.3643]\n",
      " [-0.589   3.1577 -1.6003]]\n",
      "fake:\n",
      "[[ 1.514   1.9077 -1.4783]\n",
      " [ 0.174   1.7917 -1.9773]\n",
      " [-0.051   1.5367 -3.3643]\n",
      " [-0.589   3.1577 -1.6003]]\n",
      "fake:\n",
      "[[ 1.  1.  1.]\n",
      " [ 1.  1.  1.]\n",
      " [ 1.  1.  1.]]\n",
      "-0.912921\n",
      "-1.03182\n"
     ]
    },
    {
     "data": {
      "image/png": "[encoded data removed]",
      "text/plain": [
       "<matplotlib.figure.Figure at 0x7f4a0ea39f10>"
      ]
     },
     "metadata": {},
     "output_type": "display_data"
    },
    {
     "name": "stdout",
     "output_type": "stream",
     "text": [
      "/home/evan/Documents/deep_docking/datasets/v2015/4a9n/4a9n_ligand.mol2\n",
      "[[ 1.514   1.9077 -1.4783]\n",
      " [ 0.174   1.7917 -1.9773]\n",
      " [-0.051   1.5367 -3.3643]\n",
      " [-0.589   3.1577 -1.6003]]\n",
      "Butane:\n",
      "\n"
     ]
    },
    {
     "data": {
      "image/png": "[encoded data removed]",
      "text/plain": [
       "<matplotlib.figure.Figure at 0x7f4a696e9690>"
      ]
     },
     "metadata": {},
     "output_type": "display_data"
    },
    {
     "name": "stdout",
     "output_type": "stream",
     "text": [
      "0.0400648117065\n",
      "Training epoch 7000\n",
      "Iter: 7000\n",
      "D loss: 27.44\n",
      "G_loss: 424.7\n",
      "4wks:\n",
      "\n",
      "real:\n",
      "[[ 1.514   1.9077 -1.4783]\n",
      " [ 0.174   1.7917 -1.9773]\n",
      " [-0.051   1.5367 -3.3643]\n",
      " [-0.589   3.1577 -1.6003]]\n",
      "fake:\n",
      "[[ 1.514   1.9077 -1.4783]\n",
      " [ 0.174   1.7917 -1.9773]\n",
      " [-0.051   1.5367 -3.3643]\n",
      " [-0.589   3.1577 -1.6003]]\n",
      "fake:\n",
      "[[ 1.  1.  1.]\n",
      " [ 1.  1.  1.]\n",
      " [ 1.  1.  1.]]\n",
      "-0.912921\n",
      "-0.689853\n"
     ]
    },
    {
     "data": {
      "image/png": "[encoded data removed]",
      "text/plain": [
       "<matplotlib.figure.Figure at 0x7f4a0df6c790>"
      ]
     },
     "metadata": {},
     "output_type": "display_data"
    },
    {
     "name": "stdout",
     "output_type": "stream",
     "text": [
      "/home/evan/Documents/deep_docking/datasets/v2015/4a9n/4a9n_ligand.mol2\n",
      "[[ 1.514   1.9077 -1.4783]\n",
      " [ 0.174   1.7917 -1.9773]\n",
      " [-0.051   1.5367 -3.3643]\n",
      " [-0.589   3.1577 -1.6003]]\n",
      "Butane:\n",
      "\n"
     ]
    },
    {
     "data": {
      "image/png": "[encoded data removed]",
      "text/plain": [
       "<matplotlib.figure.Figure at 0x7f4a6a7d6e10>"
      ]
     },
     "metadata": {},
     "output_type": "display_data"
    },
    {
     "name": "stdout",
     "output_type": "stream",
     "text": [
      "0.0482308864594\n",
      "Training epoch 8000\n",
      "Iter: 8000\n",
      "D loss: 34.09\n",
      "G_loss: 455.3\n",
      "4wks:\n",
      "\n",
      "real:\n",
      "[[ 1.514   1.9077 -1.4783]\n",
      " [ 0.174   1.7917 -1.9773]\n",
      " [-0.051   1.5367 -3.3643]\n",
      " [-0.589   3.1577 -1.6003]]\n",
      "fake:\n",
      "[[ 1.514   1.9077 -1.4783]\n",
      " [ 0.174   1.7917 -1.9773]\n",
      " [-0.051   1.5367 -3.3643]\n",
      " [-0.589   3.1577 -1.6003]]\n",
      "fake:\n",
      "[[ 1.  1.  1.]\n",
      " [ 1.  1.  1.]\n",
      " [ 1.  1.  1.]]\n",
      "-0.912921\n",
      "0.554189\n"
     ]
    },
    {
     "data": {
      "image/png": "[encoded data removed]",
      "text/plain": [
       "<matplotlib.figure.Figure at 0x7f4a0eb92390>"
      ]
     },
     "metadata": {},
     "output_type": "display_data"
    },
    {
     "name": "stdout",
     "output_type": "stream",
     "text": [
      "/home/evan/Documents/deep_docking/datasets/v2015/4a9n/4a9n_ligand.mol2\n",
      "[[ 1.514   1.9077 -1.4783]\n",
      " [ 0.174   1.7917 -1.9773]\n",
      " [-0.051   1.5367 -3.3643]\n",
      " [-0.589   3.1577 -1.6003]]\n",
      "Butane:\n",
      "\n"
     ]
    },
    {
     "data": {
      "image/png": "[encoded data removed]",
      "text/plain": [
       "<matplotlib.figure.Figure at 0x7f4a696e8f10>"
      ]
     },
     "metadata": {},
     "output_type": "display_data"
    },
    {
     "name": "stdout",
     "output_type": "stream",
     "text": [
      "0.0398738384247\n",
      "Training epoch 9000\n",
      "Iter: 9000\n",
      "D loss: 33.11\n",
      "G_loss: 488.6\n",
      "4wks:\n",
      "\n",
      "real:\n",
      "[[ 1.514   1.9077 -1.4783]\n",
      " [ 0.174   1.7917 -1.9773]\n",
      " [-0.051   1.5367 -3.3643]\n",
      " [-0.589   3.1577 -1.6003]]\n",
      "fake:\n",
      "[[ 1.514   1.9077 -1.4783]\n",
      " [ 0.174   1.7917 -1.9773]\n",
      " [-0.051   1.5367 -3.3643]\n",
      " [-0.589   3.1577 -1.6003]]\n",
      "fake:\n",
      "[[ 1.  1.  1.]\n",
      " [ 1.  1.  1.]\n",
      " [ 1.  1.  1.]]\n",
      "-0.912921\n",
      "0.33986\n"
     ]
    },
    {
     "data": {
      "image/png": "[encoded data removed]",
      "text/plain": [
       "<matplotlib.figure.Figure at 0x7f4a70f2bf10>"
      ]
     },
     "metadata": {},
     "output_type": "display_data"
    },
    {
     "name": "stdout",
     "output_type": "stream",
     "text": [
      "/home/evan/Documents/deep_docking/datasets/v2015/4a9n/4a9n_ligand.mol2\n",
      "[[ 1.514   1.9077 -1.4783]\n",
      " [ 0.174   1.7917 -1.9773]\n",
      " [-0.051   1.5367 -3.3643]\n",
      " [-0.589   3.1577 -1.6003]]\n",
      "Butane:\n",
      "\n"
     ]
    },
    {
     "data": {
      "image/png": "[encoded data removed]",
      "text/plain": [
       "<matplotlib.figure.Figure at 0x7f4a6f8c2b10>"
      ]
     },
     "metadata": {},
     "output_type": "display_data"
    },
    {
     "name": "stdout",
     "output_type": "stream",
     "text": [
      "0.0455288887024\n",
      "Training epoch 10000\n",
      "Iter: 10000\n",
      "D loss: 28.68\n",
      "G_loss: 481.7\n",
      "4wks:\n",
      "\n",
      "real:\n",
      "[[ 1.514   1.9077 -1.4783]\n",
      " [ 0.174   1.7917 -1.9773]\n",
      " [-0.051   1.5367 -3.3643]\n",
      " [-0.589   3.1577 -1.6003]]\n",
      "fake:\n",
      "[[ 1.514   1.9077 -1.4783]\n",
      " [ 0.174   1.7917 -1.9773]\n",
      " [-0.051   1.5367 -3.3643]\n",
      " [-0.589   3.1577 -1.6003]]\n",
      "fake:\n",
      "[[ 1.  1.  1.]\n",
      " [ 1.  1.  1.]\n",
      " [ 1.  1.  1.]]\n",
      "-0.912921\n",
      "1.08175\n"
     ]
    },
    {
     "data": {
      "image/png": "[encoded data removed]",
      "text/plain": [
       "<matplotlib.figure.Figure at 0x7f4a723ac610>"
      ]
     },
     "metadata": {},
     "output_type": "display_data"
    },
    {
     "name": "stdout",
     "output_type": "stream",
     "text": [
      "/home/evan/Documents/deep_docking/datasets/v2015/4a9n/4a9n_ligand.mol2\n",
      "[[ 1.514   1.9077 -1.4783]\n",
      " [ 0.174   1.7917 -1.9773]\n",
      " [-0.051   1.5367 -3.3643]\n",
      " [-0.589   3.1577 -1.6003]]\n",
      "Butane:\n",
      "\n"
     ]
    },
    {
     "data": {
      "image/png": "[encoded data removed]",
      "text/plain": [
       "<matplotlib.figure.Figure at 0x7f4a69f41e90>"
      ]
     },
     "metadata": {},
     "output_type": "display_data"
    },
    {
     "name": "stdout",
     "output_type": "stream",
     "text": [
      "0.0411930084229\n",
      "Training epoch 11000\n",
      "Iter: 11000\n",
      "D loss: 25.09\n",
      "G_loss: 417.1\n",
      "4wks:\n",
      "\n",
      "real:\n",
      "[[ 1.514   1.9077 -1.4783]\n",
      " [ 0.174   1.7917 -1.9773]\n",
      " [-0.051   1.5367 -3.3643]\n",
      " [-0.589   3.1577 -1.6003]]\n",
      "fake:\n",
      "[[ 1.514   1.9077 -1.4783]\n",
      " [ 0.174   1.7917 -1.9773]\n",
      " [-0.051   1.5367 -3.3643]\n",
      " [-0.589   3.1577 -1.6003]]\n",
      "fake:\n",
      "[[ 1.  1.  1.]\n",
      " [ 1.  1.  1.]\n",
      " [ 1.  1.  1.]]\n",
      "-0.912921\n",
      "1.10809\n"
     ]
    },
    {
     "data": {
      "image/png": "[encoded data removed]",
      "text/plain": [
       "<matplotlib.figure.Figure at 0x7f4a16c0c1d0>"
      ]
     },
     "metadata": {},
     "output_type": "display_data"
    },
    {
     "name": "stdout",
     "output_type": "stream",
     "text": [
      "/home/evan/Documents/deep_docking/datasets/v2015/4a9n/4a9n_ligand.mol2\n",
      "[[ 1.514   1.9077 -1.4783]\n",
      " [ 0.174   1.7917 -1.9773]\n",
      " [-0.051   1.5367 -3.3643]\n",
      " [-0.589   3.1577 -1.6003]]\n",
      "Butane:\n",
      "\n"
     ]
    },
    {
     "data": {
      "image/png": "[encoded data removed]",
      "text/plain": [
       "<matplotlib.figure.Figure at 0x7f4a7013d950>"
      ]
     },
     "metadata": {},
     "output_type": "display_data"
    },
    {
     "name": "stdout",
     "output_type": "stream",
     "text": [
      "0.0387620925903\n",
      "Training epoch 12000\n",
      "Iter: 12000\n",
      "D loss: 33.16\n",
      "G_loss: 471.8\n",
      "4wks:\n",
      "\n",
      "real:\n",
      "[[ 1.514   1.9077 -1.4783]\n",
      " [ 0.174   1.7917 -1.9773]\n",
      " [-0.051   1.5367 -3.3643]\n",
      " [-0.589   3.1577 -1.6003]]\n",
      "fake:\n",
      "[[ 1.514   1.9077 -1.4783]\n",
      " [ 0.174   1.7917 -1.9773]\n",
      " [-0.051   1.5367 -3.3643]\n",
      " [-0.589   3.1577 -1.6003]]\n",
      "fake:\n",
      "[[ 1.  1.  1.]\n",
      " [ 1.  1.  1.]\n",
      " [ 1.  1.  1.]]\n",
      "-0.912921\n",
      "1.07731\n"
     ]
    },
    {
     "data": {
      "image/png": "[encoded data removed]",
      "text/plain": [
       "<matplotlib.figure.Figure at 0x7f4a6dd39250>"
      ]
     },
     "metadata": {},
     "output_type": "display_data"
    },
    {
     "name": "stdout",
     "output_type": "stream",
     "text": [
      "/home/evan/Documents/deep_docking/datasets/v2015/4a9n/4a9n_ligand.mol2\n",
      "[[ 1.514   1.9077 -1.4783]\n",
      " [ 0.174   1.7917 -1.9773]\n",
      " [-0.051   1.5367 -3.3643]\n",
      " [-0.589   3.1577 -1.6003]]\n",
      "Butane:\n",
      "\n"
     ]
    },
    {
     "data": {
      "image/png": "[encoded data removed]",
      "text/plain": [
       "<matplotlib.figure.Figure at 0x7f4a69a16750>"
      ]
     },
     "metadata": {},
     "output_type": "display_data"
    },
    {
     "name": "stdout",
     "output_type": "stream",
     "text": [
      "0.042240858078\n",
      "Training epoch 13000\n",
      "Iter: 13000\n",
      "D loss: 28.04\n",
      "G_loss: 449.2\n",
      "4wks:\n",
      "\n",
      "real:\n",
      "[[ 1.514   1.9077 -1.4783]\n",
      " [ 0.174   1.7917 -1.9773]\n",
      " [-0.051   1.5367 -3.3643]\n",
      " [-0.589   3.1577 -1.6003]]\n",
      "fake:\n",
      "[[ 1.514   1.9077 -1.4783]\n",
      " [ 0.174   1.7917 -1.9773]\n",
      " [-0.051   1.5367 -3.3643]\n",
      " [-0.589   3.1577 -1.6003]]\n",
      "fake:\n",
      "[[ 1.  1.  1.]\n",
      " [ 1.  1.  1.]\n",
      " [ 1.  1.  1.]]\n",
      "-0.912921\n",
      "0.975813\n"
     ]
    },
    {
     "data": {
      "image/png": "[encoded data removed]",
      "text/plain": [
       "<matplotlib.figure.Figure at 0x7f4a6aaed650>"
      ]
     },
     "metadata": {},
     "output_type": "display_data"
    },
    {
     "name": "stdout",
     "output_type": "stream",
     "text": [
      "/home/evan/Documents/deep_docking/datasets/v2015/4a9n/4a9n_ligand.mol2\n",
      "[[ 1.514   1.9077 -1.4783]\n",
      " [ 0.174   1.7917 -1.9773]\n",
      " [-0.051   1.5367 -3.3643]\n",
      " [-0.589   3.1577 -1.6003]]\n",
      "Butane:\n",
      "\n"
     ]
    },
    {
     "data": {
      "image/png": "[encoded data removed]",
      "text/plain": [
       "<matplotlib.figure.Figure at 0x7f4a6d6a8110>"
      ]
     },
     "metadata": {},
     "output_type": "display_data"
    },
    {
     "name": "stdout",
     "output_type": "stream",
     "text": [
      "0.0449500083923\n",
      "Training epoch 14000\n",
      "Iter: 14000\n",
      "D loss: 25.84\n",
      "G_loss: 453.1\n",
      "4wks:\n",
      "\n",
      "real:\n",
      "[[ 1.514   1.9077 -1.4783]\n",
      " [ 0.174   1.7917 -1.9773]\n",
      " [-0.051   1.5367 -3.3643]\n",
      " [-0.589   3.1577 -1.6003]]\n",
      "fake:\n",
      "[[ 1.514   1.9077 -1.4783]\n",
      " [ 0.174   1.7917 -1.9773]\n",
      " [-0.051   1.5367 -3.3643]\n",
      " [-0.589   3.1577 -1.6003]]\n",
      "fake:\n",
      "[[ 1.  1.  1.]\n",
      " [ 1.  1.  1.]\n",
      " [ 1.  1.  1.]]\n",
      "-0.912921\n",
      "1.39114\n"
     ]
    },
    {
     "data": {
      "image/png": "[encoded data removed]",
      "text/plain": [
       "<matplotlib.figure.Figure at 0x7f4a687aa790>"
      ]
     },
     "metadata": {},
     "output_type": "display_data"
    },
    {
     "name": "stdout",
     "output_type": "stream",
     "text": [
      "/home/evan/Documents/deep_docking/datasets/v2015/4a9n/4a9n_ligand.mol2\n",
      "[[ 1.514   1.9077 -1.4783]\n",
      " [ 0.174   1.7917 -1.9773]\n",
      " [-0.051   1.5367 -3.3643]\n",
      " [-0.589   3.1577 -1.6003]]\n",
      "Butane:\n",
      "\n"
     ]
    },
    {
     "data": {
      "image/png": "[encoded data removed]",
      "text/plain": [
       "<matplotlib.figure.Figure at 0x7f4a6b2c6090>"
      ]
     },
     "metadata": {},
     "output_type": "display_data"
    },
    {
     "name": "stdout",
     "output_type": "stream",
     "text": [
      "0.0395560264587\n",
      "Training epoch 15000\n",
      "Iter: 15000\n",
      "D loss: 38.13\n",
      "G_loss: 460.1\n",
      "4wks:\n",
      "\n",
      "real:\n",
      "[[ 1.514   1.9077 -1.4783]\n",
      " [ 0.174   1.7917 -1.9773]\n",
      " [-0.051   1.5367 -3.3643]\n",
      " [-0.589   3.1577 -1.6003]]\n",
      "fake:\n",
      "[[ 1.514   1.9077 -1.4783]\n",
      " [ 0.174   1.7917 -1.9773]\n",
      " [-0.051   1.5367 -3.3643]\n",
      " [-0.589   3.1577 -1.6003]]\n",
      "fake:\n",
      "[[ 1.  1.  1.]\n",
      " [ 1.  1.  1.]\n",
      " [ 1.  1.  1.]]\n",
      "-0.912921\n",
      "0.890358\n"
     ]
    },
    {
     "data": {
      "image/png": "[encoded data removed]",
      "text/plain": [
       "<matplotlib.figure.Figure at 0x7f4a69798350>"
      ]
     },
     "metadata": {},
     "output_type": "display_data"
    },
    {
     "name": "stdout",
     "output_type": "stream",
     "text": [
      "/home/evan/Documents/deep_docking/datasets/v2015/4a9n/4a9n_ligand.mol2\n",
      "[[ 1.514   1.9077 -1.4783]\n",
      " [ 0.174   1.7917 -1.9773]\n",
      " [-0.051   1.5367 -3.3643]\n",
      " [-0.589   3.1577 -1.6003]]\n",
      "Butane:\n",
      "\n"
     ]
    },
    {
     "data": {
      "image/png": "[encoded data removed]",
      "text/plain": [
       "<matplotlib.figure.Figure at 0x7f4a6fc5e1d0>"
      ]
     },
     "metadata": {},
     "output_type": "display_data"
    },
    {
     "name": "stdout",
     "output_type": "stream",
     "text": [
      "0.0475578308105\n",
      "Training epoch 16000\n",
      "Iter: 16000\n",
      "D loss: 31.79\n",
      "G_loss: 513.1\n",
      "4wks:\n",
      "\n",
      "real:\n",
      "[[ 1.514   1.9077 -1.4783]\n",
      " [ 0.174   1.7917 -1.9773]\n",
      " [-0.051   1.5367 -3.3643]\n",
      " [-0.589   3.1577 -1.6003]]\n",
      "fake:\n",
      "[[ 1.514   1.9077 -1.4783]\n",
      " [ 0.174   1.7917 -1.9773]\n",
      " [-0.051   1.5367 -3.3643]\n",
      " [-0.589   3.1577 -1.6003]]\n",
      "fake:\n",
      "[[ 1.  1.  1.]\n",
      " [ 1.  1.  1.]\n",
      " [ 1.  1.  1.]]\n",
      "-0.912921\n",
      "1.12556\n"
     ]
    },
    {
     "data": {
      "image/png": "[encoded data removed]",
      "text/plain": [
       "<matplotlib.figure.Figure at 0x7f4a17b6f150>"
      ]
     },
     "metadata": {},
     "output_type": "display_data"
    },
    {
     "name": "stdout",
     "output_type": "stream",
     "text": [
      "/home/evan/Documents/deep_docking/datasets/v2015/4a9n/4a9n_ligand.mol2\n",
      "[[ 1.514   1.9077 -1.4783]\n",
      " [ 0.174   1.7917 -1.9773]\n",
      " [-0.051   1.5367 -3.3643]\n",
      " [-0.589   3.1577 -1.6003]]\n",
      "Butane:\n",
      "\n"
     ]
    },
    {
     "data": {
      "image/png": "[encoded data removed]",
      "text/plain": [
       "<matplotlib.figure.Figure at 0x7f4a0e201d50>"
      ]
     },
     "metadata": {},
     "output_type": "display_data"
    },
    {
     "name": "stdout",
     "output_type": "stream",
     "text": [
      "0.0396540164948\n",
      "Training epoch 17000\n",
      "Iter: 17000\n",
      "D loss: 38.56\n",
      "G_loss: 512.3\n",
      "4wks:\n",
      "\n",
      "real:\n",
      "[[ 1.514   1.9077 -1.4783]\n",
      " [ 0.174   1.7917 -1.9773]\n",
      " [-0.051   1.5367 -3.3643]\n",
      " [-0.589   3.1577 -1.6003]]\n",
      "fake:\n",
      "[[ 1.514   1.9077 -1.4783]\n",
      " [ 0.174   1.7917 -1.9773]\n",
      " [-0.051   1.5367 -3.3643]\n",
      " [-0.589   3.1577 -1.6003]]\n",
      "fake:\n",
      "[[ 1.  1.  1.]\n",
      " [ 1.  1.  1.]\n",
      " [ 1.  1.  1.]]\n",
      "-0.912921\n",
      "1.54136\n"
     ]
    },
    {
     "data": {
      "image/png": "[encoded data removed]",
      "text/plain": [
       "<matplotlib.figure.Figure at 0x7f4a680808d0>"
      ]
     },
     "metadata": {},
     "output_type": "display_data"
    },
    {
     "name": "stdout",
     "output_type": "stream",
     "text": [
      "/home/evan/Documents/deep_docking/datasets/v2015/4a9n/4a9n_ligand.mol2\n",
      "[[ 1.514   1.9077 -1.4783]\n",
      " [ 0.174   1.7917 -1.9773]\n",
      " [-0.051   1.5367 -3.3643]\n",
      " [-0.589   3.1577 -1.6003]]\n",
      "Butane:\n",
      "\n"
     ]
    },
    {
     "data": {
      "image/png": "[encoded data removed]",
      "text/plain": [
       "<matplotlib.figure.Figure at 0x7f4a3c10fd90>"
      ]
     },
     "metadata": {},
     "output_type": "display_data"
    },
    {
     "name": "stdout",
     "output_type": "stream",
     "text": [
      "0.049309015274\n",
      "Training epoch 18000\n",
      "Iter: 18000\n",
      "D loss: 39.76\n",
      "G_loss: 444.8\n",
      "4wks:\n",
      "\n",
      "real:\n",
      "[[ 1.514   1.9077 -1.4783]\n",
      " [ 0.174   1.7917 -1.9773]\n",
      " [-0.051   1.5367 -3.3643]\n",
      " [-0.589   3.1577 -1.6003]]\n",
      "fake:\n",
      "[[ 1.514   1.9077 -1.4783]\n",
      " [ 0.174   1.7917 -1.9773]\n",
      " [-0.051   1.5367 -3.3643]\n",
      " [-0.589   3.1577 -1.6003]]\n",
      "fake:\n",
      "[[ 1.  1.  1.]\n",
      " [ 1.  1.  1.]\n",
      " [ 1.  1.  1.]]\n",
      "-0.912921\n",
      "0.6201\n"
     ]
    },
    {
     "data": {
      "image/png": "[encoded data removed]",
      "text/plain": [
       "<matplotlib.figure.Figure at 0x7f4a68765fd0>"
      ]
     },
     "metadata": {},
     "output_type": "display_data"
    },
    {
     "name": "stdout",
     "output_type": "stream",
     "text": [
      "/home/evan/Documents/deep_docking/datasets/v2015/4a9n/4a9n_ligand.mol2\n",
      "[[ 1.514   1.9077 -1.4783]\n",
      " [ 0.174   1.7917 -1.9773]\n",
      " [-0.051   1.5367 -3.3643]\n",
      " [-0.589   3.1577 -1.6003]]\n",
      "Butane:\n",
      "\n"
     ]
    },
    {
     "data": {
      "image/png": "[encoded data removed]",
      "text/plain": [
       "<matplotlib.figure.Figure at 0x7f4a15bf02d0>"
      ]
     },
     "metadata": {},
     "output_type": "display_data"
    },
    {
     "name": "stdout",
     "output_type": "stream",
     "text": [
      "0.0393059253693\n",
      "Training epoch 19000\n",
      "Iter: 19000\n",
      "D loss: 36.37\n",
      "G_loss: 409.8\n",
      "4wks:\n",
      "\n",
      "real:\n",
      "[[ 1.514   1.9077 -1.4783]\n",
      " [ 0.174   1.7917 -1.9773]\n",
      " [-0.051   1.5367 -3.3643]\n",
      " [-0.589   3.1577 -1.6003]]\n",
      "fake:\n",
      "[[ 1.514   1.9077 -1.4783]\n",
      " [ 0.174   1.7917 -1.9773]\n",
      " [-0.051   1.5367 -3.3643]\n",
      " [-0.589   3.1577 -1.6003]]\n",
      "fake:\n",
      "[[ 1.  1.  1.]\n",
      " [ 1.  1.  1.]\n",
      " [ 1.  1.  1.]]\n",
      "-0.912921\n",
      "0.319298\n"
     ]
    },
    {
     "data": {
      "image/png": "[encoded data removed]",
      "text/plain": [
       "<matplotlib.figure.Figure at 0x7f4a0e42e290>"
      ]
     },
     "metadata": {},
     "output_type": "display_data"
    },
    {
     "name": "stdout",
     "output_type": "stream",
     "text": [
      "/home/evan/Documents/deep_docking/datasets/v2015/4a9n/4a9n_ligand.mol2\n",
      "[[ 1.514   1.9077 -1.4783]\n",
      " [ 0.174   1.7917 -1.9773]\n",
      " [-0.051   1.5367 -3.3643]\n",
      " [-0.589   3.1577 -1.6003]]\n",
      "Butane:\n",
      "\n"
     ]
    },
    {
     "data": {
      "image/png": "[encoded data removed]",
      "text/plain": [
       "<matplotlib.figure.Figure at 0x7f4a0ea22bd0>"
      ]
     },
     "metadata": {},
     "output_type": "display_data"
    },
    {
     "name": "stdout",
     "output_type": "stream",
     "text": [
      "0.0638530254364\n",
      "Training epoch 20000\n",
      "Iter: 20000\n",
      "D loss: 41.49\n",
      "G_loss: 433.5\n",
      "4wks:\n",
      "\n",
      "real:\n",
      "[[ 1.514   1.9077 -1.4783]\n",
      " [ 0.174   1.7917 -1.9773]\n",
      " [-0.051   1.5367 -3.3643]\n",
      " [-0.589   3.1577 -1.6003]]\n",
      "fake:\n",
      "[[ 1.514   1.9077 -1.4783]\n",
      " [ 0.174   1.7917 -1.9773]\n",
      " [-0.051   1.5367 -3.3643]\n",
      " [-0.589   3.1577 -1.6003]]\n",
      "fake:\n",
      "[[ 1.  1.  1.]\n",
      " [ 1.  1.  1.]\n",
      " [ 1.  1.  1.]]\n",
      "-0.912921\n",
      "0.685496\n"
     ]
    },
    {
     "data": {
      "image/png": "[encoded data removed]",
      "text/plain": [
       "<matplotlib.figure.Figure at 0x7f4a0fb4c790>"
      ]
     },
     "metadata": {},
     "output_type": "display_data"
    },
    {
     "name": "stdout",
     "output_type": "stream",
     "text": [
      "/home/evan/Documents/deep_docking/datasets/v2015/4a9n/4a9n_ligand.mol2\n",
      "[[ 1.514   1.9077 -1.4783]\n",
      " [ 0.174   1.7917 -1.9773]\n",
      " [-0.051   1.5367 -3.3643]\n",
      " [-0.589   3.1577 -1.6003]]\n",
      "Butane:\n",
      "\n"
     ]
    },
    {
     "data": {
      "image/png": "[encoded data removed]",
      "text/plain": [
       "<matplotlib.figure.Figure at 0x7f4a0fb4c750>"
      ]
     },
     "metadata": {},
     "output_type": "display_data"
    },
    {
     "name": "stdout",
     "output_type": "stream",
     "text": [
      "0.0473470687866\n",
      "Training epoch 21000\n",
      "Iter: 21000\n",
      "D loss: 37.63\n",
      "G_loss: 494.9\n",
      "4wks:\n",
      "\n",
      "real:\n",
      "[[ 1.514   1.9077 -1.4783]\n",
      " [ 0.174   1.7917 -1.9773]\n",
      " [-0.051   1.5367 -3.3643]\n",
      " [-0.589   3.1577 -1.6003]]\n",
      "fake:\n",
      "[[ 1.514   1.9077 -1.4783]\n",
      " [ 0.174   1.7917 -1.9773]\n",
      " [-0.051   1.5367 -3.3643]\n",
      " [-0.589   3.1577 -1.6003]]\n",
      "fake:\n",
      "[[ 1.  1.  1.]\n",
      " [ 1.  1.  1.]\n",
      " [ 1.  1.  1.]]\n",
      "-0.912921\n",
      "-0.0701949\n"
     ]
    },
    {
     "data": {
      "image/png": "[encoded data removed]",
      "text/plain": [
       "<matplotlib.figure.Figure at 0x7f4a0fb69a50>"
      ]
     },
     "metadata": {},
     "output_type": "display_data"
    },
    {
     "name": "stdout",
     "output_type": "stream",
     "text": [
      "/home/evan/Documents/deep_docking/datasets/v2015/4a9n/4a9n_ligand.mol2\n",
      "[[ 1.514   1.9077 -1.4783]\n",
      " [ 0.174   1.7917 -1.9773]\n",
      " [-0.051   1.5367 -3.3643]\n",
      " [-0.589   3.1577 -1.6003]]\n",
      "Butane:\n",
      "\n"
     ]
    },
    {
     "data": {
      "image/png": "[encoded data removed]",
      "text/plain": [
       "<matplotlib.figure.Figure at 0x7f4a688f0290>"
      ]
     },
     "metadata": {},
     "output_type": "display_data"
    },
    {
     "name": "stdout",
     "output_type": "stream",
     "text": [
      "0.0395810604095\n",
      "Training epoch 22000\n",
      "Iter: 22000\n",
      "D loss: 25.46\n",
      "G_loss: 455.8\n",
      "4wks:\n",
      "\n",
      "real:\n",
      "[[ 1.514   1.9077 -1.4783]\n",
      " [ 0.174   1.7917 -1.9773]\n",
      " [-0.051   1.5367 -3.3643]\n",
      " [-0.589   3.1577 -1.6003]]\n",
      "fake:\n",
      "[[ 1.514   1.9077 -1.4783]\n",
      " [ 0.174   1.7917 -1.9773]\n",
      " [-0.051   1.5367 -3.3643]\n",
      " [-0.589   3.1577 -1.6003]]\n",
      "fake:\n",
      "[[ 1.  1.  1.]\n",
      " [ 1.  1.  1.]\n",
      " [ 1.  1.  1.]]\n",
      "-0.912921\n",
      "-0.0896592\n"
     ]
    },
    {
     "data": {
      "image/png": "[encoded data removed]",
      "text/plain": [
       "<matplotlib.figure.Figure at 0x7f4a676a4fd0>"
      ]
     },
     "metadata": {},
     "output_type": "display_data"
    },
    {
     "name": "stdout",
     "output_type": "stream",
     "text": [
      "/home/evan/Documents/deep_docking/datasets/v2015/4a9n/4a9n_ligand.mol2\n",
      "[[ 1.514   1.9077 -1.4783]\n",
      " [ 0.174   1.7917 -1.9773]\n",
      " [-0.051   1.5367 -3.3643]\n",
      " [-0.589   3.1577 -1.6003]]\n",
      "Butane:\n",
      "\n"
     ]
    },
    {
     "data": {
      "image/png": "[encoded data removed]",
      "text/plain": [
       "<matplotlib.figure.Figure at 0x7f4a14055210>"
      ]
     },
     "metadata": {},
     "output_type": "display_data"
    },
    {
     "name": "stdout",
     "output_type": "stream",
     "text": [
      "0.0410490036011\n",
      "Training epoch 23000\n",
      "Iter: 23000\n",
      "D loss: 45.41\n",
      "G_loss: 418.5\n",
      "4wks:\n",
      "\n",
      "real:\n",
      "[[ 1.514   1.9077 -1.4783]\n",
      " [ 0.174   1.7917 -1.9773]\n",
      " [-0.051   1.5367 -3.3643]\n",
      " [-0.589   3.1577 -1.6003]]\n",
      "fake:\n",
      "[[ 1.514   1.9077 -1.4783]\n",
      " [ 0.174   1.7917 -1.9773]\n",
      " [-0.051   1.5367 -3.3643]\n",
      " [-0.589   3.1577 -1.6003]]\n",
      "fake:\n",
      "[[ 1.  1.  1.]\n",
      " [ 1.  1.  1.]\n",
      " [ 1.  1.  1.]]\n",
      "-0.912921\n",
      "0.947869\n"
     ]
    },
    {
     "data": {
      "image/png": "[encoded data removed]",
      "text/plain": [
       "<matplotlib.figure.Figure at 0x7f4a1783e810>"
      ]
     },
     "metadata": {},
     "output_type": "display_data"
    },
    {
     "name": "stdout",
     "output_type": "stream",
     "text": [
      "/home/evan/Documents/deep_docking/datasets/v2015/4a9n/4a9n_ligand.mol2\n",
      "[[ 1.514   1.9077 -1.4783]\n",
      " [ 0.174   1.7917 -1.9773]\n",
      " [-0.051   1.5367 -3.3643]\n",
      " [-0.589   3.1577 -1.6003]]\n",
      "Butane:\n",
      "\n"
     ]
    },
    {
     "data": {
      "image/png": "[encoded data removed]",
      "text/plain": [
       "<matplotlib.figure.Figure at 0x7f4a0f1fc290>"
      ]
     },
     "metadata": {},
     "output_type": "display_data"
    },
    {
     "name": "stdout",
     "output_type": "stream",
     "text": [
      "0.0386230945587\n",
      "Training epoch 24000\n",
      "Iter: 24000\n",
      "D loss: 56.22\n",
      "G_loss: 444.4\n",
      "4wks:\n",
      "\n",
      "real:\n",
      "[[ 1.514   1.9077 -1.4783]\n",
      " [ 0.174   1.7917 -1.9773]\n",
      " [-0.051   1.5367 -3.3643]\n",
      " [-0.589   3.1577 -1.6003]]\n",
      "fake:\n",
      "[[ 1.514   1.9077 -1.4783]\n",
      " [ 0.174   1.7917 -1.9773]\n",
      " [-0.051   1.5367 -3.3643]\n",
      " [-0.589   3.1577 -1.6003]]\n",
      "fake:\n",
      "[[ 1.  1.  1.]\n",
      " [ 1.  1.  1.]\n",
      " [ 1.  1.  1.]]\n",
      "-0.912921\n",
      "-0.980091\n"
     ]
    },
    {
     "data": {
      "image/png": "[encoded data removed]",
      "text/plain": [
       "<matplotlib.figure.Figure at 0x7f4a67e0b990>"
      ]
     },
     "metadata": {},
     "output_type": "display_data"
    },
    {
     "name": "stdout",
     "output_type": "stream",
     "text": [
      "/home/evan/Documents/deep_docking/datasets/v2015/4a9n/4a9n_ligand.mol2\n",
      "[[ 1.514   1.9077 -1.4783]\n",
      " [ 0.174   1.7917 -1.9773]\n",
      " [-0.051   1.5367 -3.3643]\n",
      " [-0.589   3.1577 -1.6003]]\n",
      "Butane:\n",
      "\n"
     ]
    },
    {
     "data": {
      "image/png": "[encoded data removed]",
      "text/plain": [
       "<matplotlib.figure.Figure at 0x7f4a679e6c50>"
      ]
     },
     "metadata": {},
     "output_type": "display_data"
    },
    {
     "name": "stdout",
     "output_type": "stream",
     "text": [
      "0.0438480377197\n",
      "Training epoch 25000\n",
      "Iter: 25000\n",
      "D loss: 49.21\n",
      "G_loss: 508.5\n",
      "4wks:\n",
      "\n",
      "real:\n",
      "[[ 1.514   1.9077 -1.4783]\n",
      " [ 0.174   1.7917 -1.9773]\n",
      " [-0.051   1.5367 -3.3643]\n",
      " [-0.589   3.1577 -1.6003]]\n",
      "fake:\n",
      "[[ 1.514   1.9077 -1.4783]\n",
      " [ 0.174   1.7917 -1.9773]\n",
      " [-0.051   1.5367 -3.3643]\n",
      " [-0.589   3.1577 -1.6003]]\n",
      "fake:\n",
      "[[ 1.  1.  1.]\n",
      " [ 1.  1.  1.]\n",
      " [ 1.  1.  1.]]\n",
      "-0.912921\n",
      "-0.851486\n"
     ]
    },
    {
     "data": {
      "image/png": "[encoded data removed]",
      "text/plain": [
       "<matplotlib.figure.Figure at 0x7f4a0eed30d0>"
      ]
     },
     "metadata": {},
     "output_type": "display_data"
    },
    {
     "name": "stdout",
     "output_type": "stream",
     "text": [
      "/home/evan/Documents/deep_docking/datasets/v2015/4a9n/4a9n_ligand.mol2\n",
      "[[ 1.514   1.9077 -1.4783]\n",
      " [ 0.174   1.7917 -1.9773]\n",
      " [-0.051   1.5367 -3.3643]\n",
      " [-0.589   3.1577 -1.6003]]\n",
      "Butane:\n",
      "\n"
     ]
    },
    {
     "data": {
      "image/png": "[encoded data removed]",
      "text/plain": [
       "<matplotlib.figure.Figure at 0x7f4a67dd1210>"
      ]
     },
     "metadata": {},
     "output_type": "display_data"
    },
    {
     "name": "stdout",
     "output_type": "stream",
     "text": [
      "0.0554959774017\n",
      "Training epoch 26000\n",
      "Iter: 26000\n",
      "D loss: 54.55\n",
      "G_loss: 470.3\n",
      "4wks:\n",
      "\n",
      "real:\n",
      "[[ 1.514   1.9077 -1.4783]\n",
      " [ 0.174   1.7917 -1.9773]\n",
      " [-0.051   1.5367 -3.3643]\n",
      " [-0.589   3.1577 -1.6003]]\n",
      "fake:\n",
      "[[ 1.514   1.9077 -1.4783]\n",
      " [ 0.174   1.7917 -1.9773]\n",
      " [-0.051   1.5367 -3.3643]\n",
      " [-0.589   3.1577 -1.6003]]\n",
      "fake:\n",
      "[[ 1.  1.  1.]\n",
      " [ 1.  1.  1.]\n",
      " [ 1.  1.  1.]]\n",
      "-0.912921\n",
      "0.50325\n"
     ]
    },
    {
     "data": {
      "image/png": "[encoded data removed]",
      "text/plain": [
       "<matplotlib.figure.Figure at 0x7f4a0e03ea90>"
      ]
     },
     "metadata": {},
     "output_type": "display_data"
    },
    {
     "name": "stdout",
     "output_type": "stream",
     "text": [
      "/home/evan/Documents/deep_docking/datasets/v2015/4a9n/4a9n_ligand.mol2\n",
      "[[ 1.514   1.9077 -1.4783]\n",
      " [ 0.174   1.7917 -1.9773]\n",
      " [-0.051   1.5367 -3.3643]\n",
      " [-0.589   3.1577 -1.6003]]\n",
      "Butane:\n",
      "\n"
     ]
    },
    {
     "data": {
      "image/png": "[encoded data removed]",
      "text/plain": [
       "<matplotlib.figure.Figure at 0x7f4a0d7416d0>"
      ]
     },
     "metadata": {},
     "output_type": "display_data"
    },
    {
     "name": "stdout",
     "output_type": "stream",
     "text": [
      "0.0588347911835\n",
      "Training epoch 27000\n",
      "Iter: 27000\n",
      "D loss: 38.24\n",
      "G_loss: 509.1\n",
      "4wks:\n",
      "\n",
      "real:\n",
      "[[ 1.514   1.9077 -1.4783]\n",
      " [ 0.174   1.7917 -1.9773]\n",
      " [-0.051   1.5367 -3.3643]\n",
      " [-0.589   3.1577 -1.6003]]\n",
      "fake:\n",
      "[[ 1.514   1.9077 -1.4783]\n",
      " [ 0.174   1.7917 -1.9773]\n",
      " [-0.051   1.5367 -3.3643]\n",
      " [-0.589   3.1577 -1.6003]]\n",
      "fake:\n",
      "[[ 1.  1.  1.]\n",
      " [ 1.  1.  1.]\n",
      " [ 1.  1.  1.]]\n",
      "-0.912921\n",
      "0.386497\n"
     ]
    },
    {
     "data": {
      "image/png": "[encoded data removed]",
      "text/plain": [
       "<matplotlib.figure.Figure at 0x7f4a0e2fdfd0>"
      ]
     },
     "metadata": {},
     "output_type": "display_data"
    },
    {
     "name": "stdout",
     "output_type": "stream",
     "text": [
      "/home/evan/Documents/deep_docking/datasets/v2015/4a9n/4a9n_ligand.mol2\n",
      "[[ 1.514   1.9077 -1.4783]\n",
      " [ 0.174   1.7917 -1.9773]\n",
      " [-0.051   1.5367 -3.3643]\n",
      " [-0.589   3.1577 -1.6003]]\n",
      "Butane:\n",
      "\n"
     ]
    },
    {
     "data": {
      "image/png": "[encoded data removed]",
      "text/plain": [
       "<matplotlib.figure.Figure at 0x7f4a70d7c4d0>"
      ]
     },
     "metadata": {},
     "output_type": "display_data"
    },
    {
     "name": "stdout",
     "output_type": "stream",
     "text": [
      "0.0420100688934\n",
      "Training epoch 28000\n",
      "Iter: 28000\n",
      "D loss: 35.24\n",
      "G_loss: 396.7\n",
      "4wks:\n",
      "\n",
      "real:\n",
      "[[ 1.514   1.9077 -1.4783]\n",
      " [ 0.174   1.7917 -1.9773]\n",
      " [-0.051   1.5367 -3.3643]\n",
      " [-0.589   3.1577 -1.6003]]\n",
      "fake:\n",
      "[[ 1.514   1.9077 -1.4783]\n",
      " [ 0.174   1.7917 -1.9773]\n",
      " [-0.051   1.5367 -3.3643]\n",
      " [-0.589   3.1577 -1.6003]]\n",
      "fake:\n",
      "[[ 1.  1.  1.]\n",
      " [ 1.  1.  1.]\n",
      " [ 1.  1.  1.]]\n",
      "-0.912921\n",
      "2.89364\n"
     ]
    },
    {
     "data": {
      "image/png": "[encoded data removed]",
      "text/plain": [
       "<matplotlib.figure.Figure at 0x7f4a6dd3b610>"
      ]
     },
     "metadata": {},
     "output_type": "display_data"
    },
    {
     "name": "stdout",
     "output_type": "stream",
     "text": [
      "/home/evan/Documents/deep_docking/datasets/v2015/4a9n/4a9n_ligand.mol2\n",
      "[[ 1.514   1.9077 -1.4783]\n",
      " [ 0.174   1.7917 -1.9773]\n",
      " [-0.051   1.5367 -3.3643]\n",
      " [-0.589   3.1577 -1.6003]]\n",
      "Butane:\n",
      "\n"
     ]
    },
    {
     "data": {
      "image/png": "[encoded data removed]",
      "text/plain": [
       "<matplotlib.figure.Figure at 0x7f4a696c7090>"
      ]
     },
     "metadata": {},
     "output_type": "display_data"
    },
    {
     "name": "stdout",
     "output_type": "stream",
     "text": [
      "0.0407059192657\n",
      "Training epoch 29000\n",
      "Iter: 29000\n",
      "D loss: 39.92\n",
      "G_loss: 424.8\n",
      "4wks:\n",
      "\n",
      "real:\n",
      "[[ 1.514   1.9077 -1.4783]\n",
      " [ 0.174   1.7917 -1.9773]\n",
      " [-0.051   1.5367 -3.3643]\n",
      " [-0.589   3.1577 -1.6003]]\n",
      "fake:\n",
      "[[ 1.514   1.9077 -1.4783]\n",
      " [ 0.174   1.7917 -1.9773]\n",
      " [-0.051   1.5367 -3.3643]\n",
      " [-0.589   3.1577 -1.6003]]\n",
      "fake:\n",
      "[[ 1.  1.  1.]\n",
      " [ 1.  1.  1.]\n",
      " [ 1.  1.  1.]]\n",
      "-0.912921\n",
      "3.19341\n"
     ]
    },
    {
     "data": {
      "image/png": "[encoded data removed]",
      "text/plain": [
       "<matplotlib.figure.Figure at 0x7f4a0e2fe210>"
      ]
     },
     "metadata": {},
     "output_type": "display_data"
    },
    {
     "name": "stdout",
     "output_type": "stream",
     "text": [
      "/home/evan/Documents/deep_docking/datasets/v2015/4a9n/4a9n_ligand.mol2\n",
      "[[ 1.514   1.9077 -1.4783]\n",
      " [ 0.174   1.7917 -1.9773]\n",
      " [-0.051   1.5367 -3.3643]\n",
      " [-0.589   3.1577 -1.6003]]\n",
      "Butane:\n",
      "\n"
     ]
    },
    {
     "data": {
      "image/png": "[encoded data removed]",
      "text/plain": [
       "<matplotlib.figure.Figure at 0x7f4a15f81e50>"
      ]
     },
     "metadata": {},
     "output_type": "display_data"
    },
    {
     "name": "stdout",
     "output_type": "stream",
     "text": [
      "0.039381980896\n",
      "Training epoch 30000\n",
      "Iter: 30000\n",
      "D loss: 42.6\n",
      "G_loss: 451.2\n",
      "4wks:\n",
      "\n",
      "real:\n",
      "[[ 1.514   1.9077 -1.4783]\n",
      " [ 0.174   1.7917 -1.9773]\n",
      " [-0.051   1.5367 -3.3643]\n",
      " [-0.589   3.1577 -1.6003]]\n",
      "fake:\n",
      "[[ 1.514   1.9077 -1.4783]\n",
      " [ 0.174   1.7917 -1.9773]\n",
      " [-0.051   1.5367 -3.3643]\n",
      " [-0.589   3.1577 -1.6003]]\n",
      "fake:\n",
      "[[ 1.  1.  1.]\n",
      " [ 1.  1.  1.]\n",
      " [ 1.  1.  1.]]\n",
      "-0.912921\n",
      "3.3572\n"
     ]
    },
    {
     "data": {
      "image/png": "[encoded data removed]",
      "text/plain": [
       "<matplotlib.figure.Figure at 0x7f4a68934290>"
      ]
     },
     "metadata": {},
     "output_type": "display_data"
    },
    {
     "name": "stdout",
     "output_type": "stream",
     "text": [
      "/home/evan/Documents/deep_docking/datasets/v2015/4a9n/4a9n_ligand.mol2\n",
      "[[ 1.514   1.9077 -1.4783]\n",
      " [ 0.174   1.7917 -1.9773]\n",
      " [-0.051   1.5367 -3.3643]\n",
      " [-0.589   3.1577 -1.6003]]\n",
      "Butane:\n",
      "\n"
     ]
    },
    {
     "data": {
      "image/png": "[encoded data removed]",
      "text/plain": [
       "<matplotlib.figure.Figure at 0x7f4a70651450>"
      ]
     },
     "metadata": {},
     "output_type": "display_data"
    },
    {
     "name": "stdout",
     "output_type": "stream",
     "text": [
      "0.0385148525238\n",
      "Training epoch 31000\n",
      "Iter: 31000\n",
      "D loss: 34.07\n",
      "G_loss: 423.2\n",
      "4wks:\n",
      "\n",
      "real:\n",
      "[[ 1.514   1.9077 -1.4783]\n",
      " [ 0.174   1.7917 -1.9773]\n",
      " [-0.051   1.5367 -3.3643]\n",
      " [-0.589   3.1577 -1.6003]]\n",
      "fake:\n",
      "[[ 1.514   1.9077 -1.4783]\n",
      " [ 0.174   1.7917 -1.9773]\n",
      " [-0.051   1.5367 -3.3643]\n",
      " [-0.589   3.1577 -1.6003]]\n",
      "fake:\n",
      "[[ 1.  1.  1.]\n",
      " [ 1.  1.  1.]\n",
      " [ 1.  1.  1.]]\n",
      "-0.912921\n",
      "3.14981\n"
     ]
    },
    {
     "data": {
      "image/png": "[encoded data removed]",
      "text/plain": [
       "<matplotlib.figure.Figure at 0x7f4a6a6dca10>"
      ]
     },
     "metadata": {},
     "output_type": "display_data"
    },
    {
     "name": "stdout",
     "output_type": "stream",
     "text": [
      "/home/evan/Documents/deep_docking/datasets/v2015/4a9n/4a9n_ligand.mol2\n",
      "[[ 1.514   1.9077 -1.4783]\n",
      " [ 0.174   1.7917 -1.9773]\n",
      " [-0.051   1.5367 -3.3643]\n",
      " [-0.589   3.1577 -1.6003]]\n",
      "Butane:\n",
      "\n"
     ]
    },
    {
     "data": {
      "image/png": "[encoded data removed]",
      "text/plain": [
       "<matplotlib.figure.Figure at 0x7f4a0ecf4b50>"
      ]
     },
     "metadata": {},
     "output_type": "display_data"
    },
    {
     "name": "stdout",
     "output_type": "stream",
     "text": [
      "0.0389831066132\n",
      "Training epoch 32000\n",
      "Iter: 32000\n",
      "D loss: 31.69\n",
      "G_loss: 485.9\n",
      "4wks:\n",
      "\n",
      "real:\n",
      "[[ 1.514   1.9077 -1.4783]\n",
      " [ 0.174   1.7917 -1.9773]\n",
      " [-0.051   1.5367 -3.3643]\n",
      " [-0.589   3.1577 -1.6003]]\n",
      "fake:\n",
      "[[ 1.514   1.9077 -1.4783]\n",
      " [ 0.174   1.7917 -1.9773]\n",
      " [-0.051   1.5367 -3.3643]\n",
      " [-0.589   3.1577 -1.6003]]\n",
      "fake:\n",
      "[[ 1.  1.  1.]\n",
      " [ 1.  1.  1.]\n",
      " [ 1.  1.  1.]]\n",
      "-0.912921\n",
      "3.08571\n"
     ]
    },
    {
     "data": {
      "image/png": "[encoded data removed]",
      "text/plain": [
       "<matplotlib.figure.Figure at 0x7f4a0e52c0d0>"
      ]
     },
     "metadata": {},
     "output_type": "display_data"
    },
    {
     "name": "stdout",
     "output_type": "stream",
     "text": [
      "/home/evan/Documents/deep_docking/datasets/v2015/4a9n/4a9n_ligand.mol2\n",
      "[[ 1.514   1.9077 -1.4783]\n",
      " [ 0.174   1.7917 -1.9773]\n",
      " [-0.051   1.5367 -3.3643]\n",
      " [-0.589   3.1577 -1.6003]]\n",
      "Butane:\n",
      "\n"
     ]
    },
    {
     "data": {
      "image/png": "[encoded data removed]",
      "text/plain": [
       "<matplotlib.figure.Figure at 0x7f4a0ed55fd0>"
      ]
     },
     "metadata": {},
     "output_type": "display_data"
    },
    {
     "name": "stdout",
     "output_type": "stream",
     "text": [
      "0.0479900836945\n",
      "Training epoch 33000\n",
      "Iter: 33000\n",
      "D loss: 41.4\n",
      "G_loss: 410.5\n",
      "4wks:\n",
      "\n",
      "real:\n",
      "[[ 1.514   1.9077 -1.4783]\n",
      " [ 0.174   1.7917 -1.9773]\n",
      " [-0.051   1.5367 -3.3643]\n",
      " [-0.589   3.1577 -1.6003]]\n",
      "fake:\n",
      "[[ 1.514   1.9077 -1.4783]\n",
      " [ 0.174   1.7917 -1.9773]\n",
      " [-0.051   1.5367 -3.3643]\n",
      " [-0.589   3.1577 -1.6003]]\n",
      "fake:\n",
      "[[ 1.  1.  1.]\n",
      " [ 1.  1.  1.]\n",
      " [ 1.  1.  1.]]\n",
      "-0.912921\n",
      "3.22078\n"
     ]
    },
    {
     "data": {
      "image/png": "[encoded data removed]",
      "text/plain": [
       "<matplotlib.figure.Figure at 0x7f4a0ec560d0>"
      ]
     },
     "metadata": {},
     "output_type": "display_data"
    },
    {
     "name": "stdout",
     "output_type": "stream",
     "text": [
      "/home/evan/Documents/deep_docking/datasets/v2015/4a9n/4a9n_ligand.mol2\n",
      "[[ 1.514   1.9077 -1.4783]\n",
      " [ 0.174   1.7917 -1.9773]\n",
      " [-0.051   1.5367 -3.3643]\n",
      " [-0.589   3.1577 -1.6003]]\n",
      "Butane:\n",
      "\n"
     ]
    },
    {
     "data": {
      "image/png": "[encoded data removed]",
      "text/plain": [
       "<matplotlib.figure.Figure at 0x7f4a6c5bfed0>"
      ]
     },
     "metadata": {},
     "output_type": "display_data"
    },
    {
     "name": "stdout",
     "output_type": "stream",
     "text": [
      "0.0407609939575\n",
      "Training epoch 34000\n",
      "Iter: 34000\n",
      "D loss: 29.64\n",
      "G_loss: 493.0\n",
      "4wks:\n",
      "\n",
      "real:\n",
      "[[ 1.514   1.9077 -1.4783]\n",
      " [ 0.174   1.7917 -1.9773]\n",
      " [-0.051   1.5367 -3.3643]\n",
      " [-0.589   3.1577 -1.6003]]\n",
      "fake:\n",
      "[[ 1.514   1.9077 -1.4783]\n",
      " [ 0.174   1.7917 -1.9773]\n",
      " [-0.051   1.5367 -3.3643]\n",
      " [-0.589   3.1577 -1.6003]]\n",
      "fake:\n",
      "[[ 1.  1.  1.]\n",
      " [ 1.  1.  1.]\n",
      " [ 1.  1.  1.]]\n",
      "-0.912921\n",
      "3.39497\n"
     ]
    },
    {
     "data": {
      "image/png": "[encoded data removed]",
      "text/plain": [
       "<matplotlib.figure.Figure at 0x7f4a68b60c50>"
      ]
     },
     "metadata": {},
     "output_type": "display_data"
    },
    {
     "name": "stdout",
     "output_type": "stream",
     "text": [
      "/home/evan/Documents/deep_docking/datasets/v2015/4a9n/4a9n_ligand.mol2\n",
      "[[ 1.514   1.9077 -1.4783]\n",
      " [ 0.174   1.7917 -1.9773]\n",
      " [-0.051   1.5367 -3.3643]\n",
      " [-0.589   3.1577 -1.6003]]\n",
      "Butane:\n",
      "\n"
     ]
    },
    {
     "data": {
      "image/png": "[encoded data removed]",
      "text/plain": [
       "<matplotlib.figure.Figure at 0x7f4a6a657110>"
      ]
     },
     "metadata": {},
     "output_type": "display_data"
    },
    {
     "name": "stdout",
     "output_type": "stream",
     "text": [
      "0.0496101379395\n",
      "Training epoch 35000\n",
      "Iter: 35000\n",
      "D loss: 29.05\n",
      "G_loss: 412.1\n",
      "4wks:\n",
      "\n",
      "real:\n",
      "[[ 1.514   1.9077 -1.4783]\n",
      " [ 0.174   1.7917 -1.9773]\n",
      " [-0.051   1.5367 -3.3643]\n",
      " [-0.589   3.1577 -1.6003]]\n",
      "fake:\n",
      "[[ 1.514   1.9077 -1.4783]\n",
      " [ 0.174   1.7917 -1.9773]\n",
      " [-0.051   1.5367 -3.3643]\n",
      " [-0.589   3.1577 -1.6003]]\n",
      "fake:\n",
      "[[ 1.  1.  1.]\n",
      " [ 1.  1.  1.]\n",
      " [ 1.  1.  1.]]\n",
      "-0.912921\n",
      "3.04546\n"
     ]
    },
    {
     "data": {
      "image/png": "[encoded data removed]",
      "text/plain": [
       "<matplotlib.figure.Figure at 0x7f4a697be090>"
      ]
     },
     "metadata": {},
     "output_type": "display_data"
    },
    {
     "name": "stdout",
     "output_type": "stream",
     "text": [
      "/home/evan/Documents/deep_docking/datasets/v2015/4a9n/4a9n_ligand.mol2\n",
      "[[ 1.514   1.9077 -1.4783]\n",
      " [ 0.174   1.7917 -1.9773]\n",
      " [-0.051   1.5367 -3.3643]\n",
      " [-0.589   3.1577 -1.6003]]\n",
      "Butane:\n",
      "\n"
     ]
    },
    {
     "data": {
      "image/png": "[encoded data removed]",
      "text/plain": [
       "<matplotlib.figure.Figure at 0x7f4a17848f10>"
      ]
     },
     "metadata": {},
     "output_type": "display_data"
    },
    {
     "name": "stdout",
     "output_type": "stream",
     "text": [
      "0.0397350788116\n",
      "Training epoch 36000\n",
      "Iter: 36000\n",
      "D loss: 26.95\n",
      "G_loss: 433.7\n",
      "4wks:\n",
      "\n",
      "real:\n",
      "[[ 1.514   1.9077 -1.4783]\n",
      " [ 0.174   1.7917 -1.9773]\n",
      " [-0.051   1.5367 -3.3643]\n",
      " [-0.589   3.1577 -1.6003]]\n",
      "fake:\n",
      "[[ 1.514   1.9077 -1.4783]\n",
      " [ 0.174   1.7917 -1.9773]\n",
      " [-0.051   1.5367 -3.3643]\n",
      " [-0.589   3.1577 -1.6003]]\n",
      "fake:\n",
      "[[ 1.  1.  1.]\n",
      " [ 1.  1.  1.]\n",
      " [ 1.  1.  1.]]\n",
      "-0.912921\n",
      "3.14683\n"
     ]
    },
    {
     "data": {
      "image/png": "[encoded data removed]",
      "text/plain": [
       "<matplotlib.figure.Figure at 0x7f4a67ed5bd0>"
      ]
     },
     "metadata": {},
     "output_type": "display_data"
    },
    {
     "name": "stdout",
     "output_type": "stream",
     "text": [
      "/home/evan/Documents/deep_docking/datasets/v2015/4a9n/4a9n_ligand.mol2\n",
      "[[ 1.514   1.9077 -1.4783]\n",
      " [ 0.174   1.7917 -1.9773]\n",
      " [-0.051   1.5367 -3.3643]\n",
      " [-0.589   3.1577 -1.6003]]\n",
      "Butane:\n",
      "\n"
     ]
    },
    {
     "data": {
      "image/png": "[encoded data removed]",
      "text/plain": [
       "<matplotlib.figure.Figure at 0x7f4a71722850>"
      ]
     },
     "metadata": {},
     "output_type": "display_data"
    },
    {
     "name": "stdout",
     "output_type": "stream",
     "text": [
      "0.0418510437012\n",
      "Training epoch 37000\n",
      "Iter: 37000\n",
      "D loss: 20.53\n",
      "G_loss: 477.0\n",
      "4wks:\n",
      "\n",
      "real:\n",
      "[[ 1.514   1.9077 -1.4783]\n",
      " [ 0.174   1.7917 -1.9773]\n",
      " [-0.051   1.5367 -3.3643]\n",
      " [-0.589   3.1577 -1.6003]]\n",
      "fake:\n",
      "[[ 1.514   1.9077 -1.4783]\n",
      " [ 0.174   1.7917 -1.9773]\n",
      " [-0.051   1.5367 -3.3643]\n",
      " [-0.589   3.1577 -1.6003]]\n",
      "fake:\n",
      "[[ 1.  1.  1.]\n",
      " [ 1.  1.  1.]\n",
      " [ 1.  1.  1.]]\n",
      "-0.912921\n",
      "3.24569\n"
     ]
    },
    {
     "data": {
      "image/png": "[encoded data removed]",
      "text/plain": [
       "<matplotlib.figure.Figure at 0x7f4a7172ee10>"
      ]
     },
     "metadata": {},
     "output_type": "display_data"
    },
    {
     "name": "stdout",
     "output_type": "stream",
     "text": [
      "/home/evan/Documents/deep_docking/datasets/v2015/4a9n/4a9n_ligand.mol2\n",
      "[[ 1.514   1.9077 -1.4783]\n",
      " [ 0.174   1.7917 -1.9773]\n",
      " [-0.051   1.5367 -3.3643]\n",
      " [-0.589   3.1577 -1.6003]]\n",
      "Butane:\n",
      "\n"
     ]
    },
    {
     "data": {
      "image/png": "[encoded data removed]",
      "text/plain": [
       "<matplotlib.figure.Figure at 0x7f4a0fcf7b90>"
      ]
     },
     "metadata": {},
     "output_type": "display_data"
    },
    {
     "name": "stdout",
     "output_type": "stream",
     "text": [
      "0.0386190414429\n",
      "Training epoch 38000\n",
      "Iter: 38000\n",
      "D loss: 17.21\n",
      "G_loss: 494.1\n",
      "4wks:\n",
      "\n",
      "real:\n",
      "[[ 1.514   1.9077 -1.4783]\n",
      " [ 0.174   1.7917 -1.9773]\n",
      " [-0.051   1.5367 -3.3643]\n",
      " [-0.589   3.1577 -1.6003]]\n",
      "fake:\n",
      "[[ 1.514   1.9077 -1.4783]\n",
      " [ 0.174   1.7917 -1.9773]\n",
      " [-0.051   1.5367 -3.3643]\n",
      " [-0.589   3.1577 -1.6003]]\n",
      "fake:\n",
      "[[ 1.  1.  1.]\n",
      " [ 1.  1.  1.]\n",
      " [ 1.  1.  1.]]\n",
      "-0.912921\n",
      "3.18578\n"
     ]
    },
    {
     "data": {
      "image/png": "[encoded data removed]",
      "text/plain": [
       "<matplotlib.figure.Figure at 0x7f4a7179fcd0>"
      ]
     },
     "metadata": {},
     "output_type": "display_data"
    },
    {
     "name": "stdout",
     "output_type": "stream",
     "text": [
      "/home/evan/Documents/deep_docking/datasets/v2015/4a9n/4a9n_ligand.mol2\n",
      "[[ 1.514   1.9077 -1.4783]\n",
      " [ 0.174   1.7917 -1.9773]\n",
      " [-0.051   1.5367 -3.3643]\n",
      " [-0.589   3.1577 -1.6003]]\n",
      "Butane:\n",
      "\n"
     ]
    },
    {
     "data": {
      "image/png": "[encoded data removed]",
      "text/plain": [
       "<matplotlib.figure.Figure at 0x7f4a68a25710>"
      ]
     },
     "metadata": {},
     "output_type": "display_data"
    },
    {
     "name": "stdout",
     "output_type": "stream",
     "text": [
      "0.0372970104218\n",
      "Training epoch 39000\n",
      "Iter: 39000\n",
      "D loss: 13.3\n",
      "G_loss: 499.5\n",
      "4wks:\n",
      "\n",
      "real:\n",
      "[[ 1.514   1.9077 -1.4783]\n",
      " [ 0.174   1.7917 -1.9773]\n",
      " [-0.051   1.5367 -3.3643]\n",
      " [-0.589   3.1577 -1.6003]]\n",
      "fake:\n",
      "[[ 1.514   1.9077 -1.4783]\n",
      " [ 0.174   1.7917 -1.9773]\n",
      " [-0.051   1.5367 -3.3643]\n",
      " [-0.589   3.1577 -1.6003]]\n",
      "fake:\n",
      "[[ 1.  1.  1.]\n",
      " [ 1.  1.  1.]\n",
      " [ 1.  1.  1.]]\n",
      "-0.912921\n",
      "3.8302\n"
     ]
    },
    {
     "data": {
      "image/png": "[encoded data removed]",
      "text/plain": [
       "<matplotlib.figure.Figure at 0x7f4a15bc8350>"
      ]
     },
     "metadata": {},
     "output_type": "display_data"
    },
    {
     "name": "stdout",
     "output_type": "stream",
     "text": [
      "/home/evan/Documents/deep_docking/datasets/v2015/4a9n/4a9n_ligand.mol2\n",
      "[[ 1.514   1.9077 -1.4783]\n",
      " [ 0.174   1.7917 -1.9773]\n",
      " [-0.051   1.5367 -3.3643]\n",
      " [-0.589   3.1577 -1.6003]]\n",
      "Butane:\n",
      "\n"
     ]
    },
    {
     "data": {
      "image/png": "[encoded data removed]",
      "text/plain": [
       "<matplotlib.figure.Figure at 0x7f4a7132fed0>"
      ]
     },
     "metadata": {},
     "output_type": "display_data"
    },
    {
     "name": "stdout",
     "output_type": "stream",
     "text": [
      "0.047278881073\n",
      "Training epoch 40000\n",
      "Iter: 40000\n",
      "D loss: 11.26\n",
      "G_loss: 523.2\n",
      "4wks:\n",
      "\n",
      "real:\n",
      "[[ 1.514   1.9077 -1.4783]\n",
      " [ 0.174   1.7917 -1.9773]\n",
      " [-0.051   1.5367 -3.3643]\n",
      " [-0.589   3.1577 -1.6003]]\n",
      "fake:\n",
      "[[ 1.514   1.9077 -1.4783]\n",
      " [ 0.174   1.7917 -1.9773]\n",
      " [-0.051   1.5367 -3.3643]\n",
      " [-0.589   3.1577 -1.6003]]\n",
      "fake:\n",
      "[[ 1.  1.  1.]\n",
      " [ 1.  1.  1.]\n",
      " [ 1.  1.  1.]]\n",
      "-0.912921\n",
      "3.78915\n"
     ]
    },
    {
     "data": {
      "image/png": "[encoded data removed]",
      "text/plain": [
       "<matplotlib.figure.Figure at 0x7f4a679caf90>"
      ]
     },
     "metadata": {},
     "output_type": "display_data"
    },
    {
     "name": "stdout",
     "output_type": "stream",
     "text": [
      "/home/evan/Documents/deep_docking/datasets/v2015/4a9n/4a9n_ligand.mol2\n",
      "[[ 1.514   1.9077 -1.4783]\n",
      " [ 0.174   1.7917 -1.9773]\n",
      " [-0.051   1.5367 -3.3643]\n",
      " [-0.589   3.1577 -1.6003]]\n",
      "Butane:\n",
      "\n"
     ]
    },
    {
     "data": {
      "image/png": "[encoded data removed]",
      "text/plain": [
       "<matplotlib.figure.Figure at 0x7f4a0ea32f90>"
      ]
     },
     "metadata": {},
     "output_type": "display_data"
    },
    {
     "name": "stdout",
     "output_type": "stream",
     "text": [
      "0.0412428379059\n",
      "Training epoch 41000\n",
      "Iter: 41000\n",
      "D loss: 12.48\n",
      "G_loss: 484.1\n",
      "4wks:\n",
      "\n",
      "real:\n",
      "[[ 1.514   1.9077 -1.4783]\n",
      " [ 0.174   1.7917 -1.9773]\n",
      " [-0.051   1.5367 -3.3643]\n",
      " [-0.589   3.1577 -1.6003]]\n",
      "fake:\n",
      "[[ 1.514   1.9077 -1.4783]\n",
      " [ 0.174   1.7917 -1.9773]\n",
      " [-0.051   1.5367 -3.3643]\n",
      " [-0.589   3.1577 -1.6003]]\n",
      "fake:\n",
      "[[ 1.  1.  1.]\n",
      " [ 1.  1.  1.]\n",
      " [ 1.  1.  1.]]\n",
      "-0.912921\n",
      "3.64369\n"
     ]
    },
    {
     "data": {
      "image/png": "[encoded data removed]",
      "text/plain": [
       "<matplotlib.figure.Figure at 0x7f4a0eff7b90>"
      ]
     },
     "metadata": {},
     "output_type": "display_data"
    },
    {
     "name": "stdout",
     "output_type": "stream",
     "text": [
      "/home/evan/Documents/deep_docking/datasets/v2015/4a9n/4a9n_ligand.mol2\n",
      "[[ 1.514   1.9077 -1.4783]\n",
      " [ 0.174   1.7917 -1.9773]\n",
      " [-0.051   1.5367 -3.3643]\n",
      " [-0.589   3.1577 -1.6003]]\n",
      "Butane:\n",
      "\n"
     ]
    },
    {
     "data": {
      "image/png": "[encoded data removed]",
      "text/plain": [
       "<matplotlib.figure.Figure at 0x7f4a68226890>"
      ]
     },
     "metadata": {},
     "output_type": "display_data"
    },
    {
     "name": "stdout",
     "output_type": "stream",
     "text": [
      "0.041424036026\n",
      "Training epoch 42000\n",
      "Iter: 42000\n",
      "D loss: 16.21\n",
      "G_loss: 453.7\n",
      "4wks:\n",
      "\n",
      "real:\n",
      "[[ 1.514   1.9077 -1.4783]\n",
      " [ 0.174   1.7917 -1.9773]\n",
      " [-0.051   1.5367 -3.3643]\n",
      " [-0.589   3.1577 -1.6003]]\n",
      "fake:\n",
      "[[ 1.514   1.9077 -1.4783]\n",
      " [ 0.174   1.7917 -1.9773]\n",
      " [-0.051   1.5367 -3.3643]\n",
      " [-0.589   3.1577 -1.6003]]\n",
      "fake:\n",
      "[[ 1.  1.  1.]\n",
      " [ 1.  1.  1.]\n",
      " [ 1.  1.  1.]]\n",
      "-0.912921\n",
      "3.37845\n"
     ]
    },
    {
     "data": {
      "image/png": "[encoded data removed]",
      "text/plain": [
       "<matplotlib.figure.Figure at 0x7f4a0e52fa90>"
      ]
     },
     "metadata": {},
     "output_type": "display_data"
    },
    {
     "name": "stdout",
     "output_type": "stream",
     "text": [
      "/home/evan/Documents/deep_docking/datasets/v2015/4a9n/4a9n_ligand.mol2\n",
      "[[ 1.514   1.9077 -1.4783]\n",
      " [ 0.174   1.7917 -1.9773]\n",
      " [-0.051   1.5367 -3.3643]\n",
      " [-0.589   3.1577 -1.6003]]\n",
      "Butane:\n",
      "\n"
     ]
    },
    {
     "data": {
      "image/png": "[encoded data removed]",
      "text/plain": [
       "<matplotlib.figure.Figure at 0x7f4a69a7d650>"
      ]
     },
     "metadata": {},
     "output_type": "display_data"
    },
    {
     "name": "stdout",
     "output_type": "stream",
     "text": [
      "0.0447158813477\n",
      "Training epoch 43000\n",
      "Iter: 43000\n",
      "D loss: 21.09\n",
      "G_loss: 488.7\n",
      "4wks:\n",
      "\n",
      "real:\n",
      "[[ 1.514   1.9077 -1.4783]\n",
      " [ 0.174   1.7917 -1.9773]\n",
      " [-0.051   1.5367 -3.3643]\n",
      " [-0.589   3.1577 -1.6003]]\n",
      "fake:\n",
      "[[ 1.514   1.9077 -1.4783]\n",
      " [ 0.174   1.7917 -1.9773]\n",
      " [-0.051   1.5367 -3.3643]\n",
      " [-0.589   3.1577 -1.6003]]\n",
      "fake:\n",
      "[[ 1.  1.  1.]\n",
      " [ 1.  1.  1.]\n",
      " [ 1.  1.  1.]]\n",
      "-0.912921\n",
      "3.29136\n"
     ]
    },
    {
     "data": {
      "image/png": "[encoded data removed]",
      "text/plain": [
       "<matplotlib.figure.Figure at 0x7f4a15787910>"
      ]
     },
     "metadata": {},
     "output_type": "display_data"
    },
    {
     "name": "stdout",
     "output_type": "stream",
     "text": [
      "/home/evan/Documents/deep_docking/datasets/v2015/4a9n/4a9n_ligand.mol2\n",
      "[[ 1.514   1.9077 -1.4783]\n",
      " [ 0.174   1.7917 -1.9773]\n",
      " [-0.051   1.5367 -3.3643]\n",
      " [-0.589   3.1577 -1.6003]]\n",
      "Butane:\n",
      "\n"
     ]
    },
    {
     "data": {
      "image/png": "[encoded data removed]",
      "text/plain": [
       "<matplotlib.figure.Figure at 0x7f4a15fb4cd0>"
      ]
     },
     "metadata": {},
     "output_type": "display_data"
    },
    {
     "name": "stdout",
     "output_type": "stream",
     "text": [
      "0.0710680484772\n",
      "Training epoch 44000\n",
      "Iter: 44000\n",
      "D loss: 14.14\n",
      "G_loss: 484.7\n",
      "4wks:\n",
      "\n",
      "real:\n",
      "[[ 1.514   1.9077 -1.4783]\n",
      " [ 0.174   1.7917 -1.9773]\n",
      " [-0.051   1.5367 -3.3643]\n",
      " [-0.589   3.1577 -1.6003]]\n",
      "fake:\n",
      "[[ 1.514   1.9077 -1.4783]\n",
      " [ 0.174   1.7917 -1.9773]\n",
      " [-0.051   1.5367 -3.3643]\n",
      " [-0.589   3.1577 -1.6003]]\n",
      "fake:\n",
      "[[ 1.  1.  1.]\n",
      " [ 1.  1.  1.]\n",
      " [ 1.  1.  1.]]\n",
      "-0.912921\n",
      "2.48531\n"
     ]
    },
    {
     "data": {
      "image/png": "[encoded data removed]",
      "text/plain": [
       "<matplotlib.figure.Figure at 0x7f4a15787810>"
      ]
     },
     "metadata": {},
     "output_type": "display_data"
    },
    {
     "name": "stdout",
     "output_type": "stream",
     "text": [
      "/home/evan/Documents/deep_docking/datasets/v2015/4a9n/4a9n_ligand.mol2\n",
      "[[ 1.514   1.9077 -1.4783]\n",
      " [ 0.174   1.7917 -1.9773]\n",
      " [-0.051   1.5367 -3.3643]\n",
      " [-0.589   3.1577 -1.6003]]\n",
      "Butane:\n",
      "\n"
     ]
    },
    {
     "data": {
      "image/png": "[encoded data removed]",
      "text/plain": [
       "<matplotlib.figure.Figure at 0x7f4a0e05d1d0>"
      ]
     },
     "metadata": {},
     "output_type": "display_data"
    },
    {
     "name": "stdout",
     "output_type": "stream",
     "text": [
      "0.0400800704956\n",
      "Training epoch 45000\n",
      "Iter: 45000\n",
      "D loss: 10.71\n",
      "G_loss: 464.6\n",
      "4wks:\n",
      "\n",
      "real:\n",
      "[[ 1.514   1.9077 -1.4783]\n",
      " [ 0.174   1.7917 -1.9773]\n",
      " [-0.051   1.5367 -3.3643]\n",
      " [-0.589   3.1577 -1.6003]]\n",
      "fake:\n",
      "[[ 1.514   1.9077 -1.4783]\n",
      " [ 0.174   1.7917 -1.9773]\n",
      " [-0.051   1.5367 -3.3643]\n",
      " [-0.589   3.1577 -1.6003]]\n",
      "fake:\n",
      "[[ 1.  1.  1.]\n",
      " [ 1.  1.  1.]\n",
      " [ 1.  1.  1.]]\n",
      "-0.912921\n",
      "2.62931\n"
     ]
    },
    {
     "data": {
      "image/png": "[encoded data removed]",
      "text/plain": [
       "<matplotlib.figure.Figure at 0x7f4a0e269650>"
      ]
     },
     "metadata": {},
     "output_type": "display_data"
    },
    {
     "name": "stdout",
     "output_type": "stream",
     "text": [
      "/home/evan/Documents/deep_docking/datasets/v2015/4a9n/4a9n_ligand.mol2\n",
      "[[ 1.514   1.9077 -1.4783]\n",
      " [ 0.174   1.7917 -1.9773]\n",
      " [-0.051   1.5367 -3.3643]\n",
      " [-0.589   3.1577 -1.6003]]\n",
      "Butane:\n",
      "\n"
     ]
    },
    {
     "data": {
      "image/png": "[encoded data removed]",
      "text/plain": [
       "<matplotlib.figure.Figure at 0x7f4a15853810>"
      ]
     },
     "metadata": {},
     "output_type": "display_data"
    },
    {
     "name": "stdout",
     "output_type": "stream",
     "text": [
      "0.0486690998077\n",
      "Training epoch 46000\n",
      "Iter: 46000\n",
      "D loss: 10.01\n",
      "G_loss: 488.9\n",
      "4wks:\n",
      "\n",
      "real:\n",
      "[[ 1.514   1.9077 -1.4783]\n",
      " [ 0.174   1.7917 -1.9773]\n",
      " [-0.051   1.5367 -3.3643]\n",
      " [-0.589   3.1577 -1.6003]]\n",
      "fake:\n",
      "[[ 1.514   1.9077 -1.4783]\n",
      " [ 0.174   1.7917 -1.9773]\n",
      " [-0.051   1.5367 -3.3643]\n",
      " [-0.589   3.1577 -1.6003]]\n",
      "fake:\n",
      "[[ 1.  1.  1.]\n",
      " [ 1.  1.  1.]\n",
      " [ 1.  1.  1.]]\n",
      "-0.912921\n",
      "2.73721\n"
     ]
    },
    {
     "data": {
      "image/png": "[encoded data removed]",
      "text/plain": [
       "<matplotlib.figure.Figure at 0x7f4a6a535e10>"
      ]
     },
     "metadata": {},
     "output_type": "display_data"
    },
    {
     "name": "stdout",
     "output_type": "stream",
     "text": [
      "/home/evan/Documents/deep_docking/datasets/v2015/4a9n/4a9n_ligand.mol2\n",
      "[[ 1.514   1.9077 -1.4783]\n",
      " [ 0.174   1.7917 -1.9773]\n",
      " [-0.051   1.5367 -3.3643]\n",
      " [-0.589   3.1577 -1.6003]]\n",
      "Butane:\n",
      "\n"
     ]
    },
    {
     "data": {
      "image/png": "[encoded data removed]",
      "text/plain": [
       "<matplotlib.figure.Figure at 0x7f4a0fa5b890>"
      ]
     },
     "metadata": {},
     "output_type": "display_data"
    },
    {
     "name": "stdout",
     "output_type": "stream",
     "text": [
      "0.0406711101532\n",
      "Training epoch 47000\n",
      "Iter: 47000\n",
      "D loss: 8.629\n",
      "G_loss: 469.8\n",
      "4wks:\n",
      "\n",
      "real:\n",
      "[[ 1.514   1.9077 -1.4783]\n",
      " [ 0.174   1.7917 -1.9773]\n",
      " [-0.051   1.5367 -3.3643]\n",
      " [-0.589   3.1577 -1.6003]]\n",
      "fake:\n",
      "[[ 1.514   1.9077 -1.4783]\n",
      " [ 0.174   1.7917 -1.9773]\n",
      " [-0.051   1.5367 -3.3643]\n",
      " [-0.589   3.1577 -1.6003]]\n",
      "fake:\n",
      "[[ 1.  1.  1.]\n",
      " [ 1.  1.  1.]\n",
      " [ 1.  1.  1.]]\n",
      "-0.912921\n",
      "2.63958\n"
     ]
    },
    {
     "data": {
      "image/png": "[encoded data removed]",
      "text/plain": [
       "<matplotlib.figure.Figure at 0x7f4a70b10d50>"
      ]
     },
     "metadata": {},
     "output_type": "display_data"
    },
    {
     "name": "stdout",
     "output_type": "stream",
     "text": [
      "/home/evan/Documents/deep_docking/datasets/v2015/4a9n/4a9n_ligand.mol2\n",
      "[[ 1.514   1.9077 -1.4783]\n",
      " [ 0.174   1.7917 -1.9773]\n",
      " [-0.051   1.5367 -3.3643]\n",
      " [-0.589   3.1577 -1.6003]]\n",
      "Butane:\n",
      "\n"
     ]
    },
    {
     "data": {
      "image/png": "[encoded data removed]",
      "text/plain": [
       "<matplotlib.figure.Figure at 0x7f4a6f313850>"
      ]
     },
     "metadata": {},
     "output_type": "display_data"
    },
    {
     "name": "stdout",
     "output_type": "stream",
     "text": [
      "0.0407001972198\n",
      "Training epoch 48000\n",
      "Iter: 48000\n",
      "D loss: 21.56\n",
      "G_loss: 495.9\n",
      "4wks:\n",
      "\n",
      "real:\n",
      "[[ 1.514   1.9077 -1.4783]\n",
      " [ 0.174   1.7917 -1.9773]\n",
      " [-0.051   1.5367 -3.3643]\n",
      " [-0.589   3.1577 -1.6003]]\n",
      "fake:\n",
      "[[ 1.514   1.9077 -1.4783]\n",
      " [ 0.174   1.7917 -1.9773]\n",
      " [-0.051   1.5367 -3.3643]\n",
      " [-0.589   3.1577 -1.6003]]\n",
      "fake:\n",
      "[[ 1.  1.  1.]\n",
      " [ 1.  1.  1.]\n",
      " [ 1.  1.  1.]]\n",
      "-0.912921\n",
      "2.61457\n"
     ]
    },
    {
     "data": {
      "image/png": "[encoded data removed]",
      "text/plain": [
       "<matplotlib.figure.Figure at 0x7f4a0eb4b210>"
      ]
     },
     "metadata": {},
     "output_type": "display_data"
    },
    {
     "name": "stdout",
     "output_type": "stream",
     "text": [
      "/home/evan/Documents/deep_docking/datasets/v2015/4a9n/4a9n_ligand.mol2\n",
      "[[ 1.514   1.9077 -1.4783]\n",
      " [ 0.174   1.7917 -1.9773]\n",
      " [-0.051   1.5367 -3.3643]\n",
      " [-0.589   3.1577 -1.6003]]\n",
      "Butane:\n",
      "\n"
     ]
    },
    {
     "data": {
      "image/png": "[encoded data removed]",
      "text/plain": [
       "<matplotlib.figure.Figure at 0x7f4a153bbf50>"
      ]
     },
     "metadata": {},
     "output_type": "display_data"
    },
    {
     "name": "stdout",
     "output_type": "stream",
     "text": [
      "0.0395050048828\n",
      "Training epoch 49000\n",
      "Iter: 49000\n",
      "D loss: 11.08\n",
      "G_loss: 498.0\n",
      "4wks:\n",
      "\n",
      "real:\n",
      "[[ 1.514   1.9077 -1.4783]\n",
      " [ 0.174   1.7917 -1.9773]\n",
      " [-0.051   1.5367 -3.3643]\n",
      " [-0.589   3.1577 -1.6003]]\n",
      "fake:\n",
      "[[ 1.514   1.9077 -1.4783]\n",
      " [ 0.174   1.7917 -1.9773]\n",
      " [-0.051   1.5367 -3.3643]\n",
      " [-0.589   3.1577 -1.6003]]\n",
      "fake:\n",
      "[[ 1.  1.  1.]\n",
      " [ 1.  1.  1.]\n",
      " [ 1.  1.  1.]]\n",
      "-0.912921\n",
      "3.07381\n"
     ]
    },
    {
     "data": {
      "image/png": "[encoded data removed]",
      "text/plain": [
       "<matplotlib.figure.Figure at 0x7f4a6f8c2dd0>"
      ]
     },
     "metadata": {},
     "output_type": "display_data"
    },
    {
     "name": "stdout",
     "output_type": "stream",
     "text": [
      "/home/evan/Documents/deep_docking/datasets/v2015/4a9n/4a9n_ligand.mol2\n",
      "[[ 1.514   1.9077 -1.4783]\n",
      " [ 0.174   1.7917 -1.9773]\n",
      " [-0.051   1.5367 -3.3643]\n",
      " [-0.589   3.1577 -1.6003]]\n",
      "Butane:\n",
      "\n"
     ]
    },
    {
     "data": {
      "image/png": "[encoded data removed]",
      "text/plain": [
       "<matplotlib.figure.Figure at 0x7f4a16ddbb10>"
      ]
     },
     "metadata": {},
     "output_type": "display_data"
    },
    {
     "name": "stdout",
     "output_type": "stream",
     "text": [
      "0.0417008399963\n",
      "Training epoch 50000\n",
      "Iter: 50000\n",
      "D loss: 13.13\n",
      "G_loss: 443.2\n",
      "4wks:\n",
      "\n",
      "real:\n",
      "[[ 1.514   1.9077 -1.4783]\n",
      " [ 0.174   1.7917 -1.9773]\n",
      " [-0.051   1.5367 -3.3643]\n",
      " [-0.589   3.1577 -1.6003]]\n",
      "fake:\n",
      "[[ 1.514   1.9077 -1.4783]\n",
      " [ 0.174   1.7917 -1.9773]\n",
      " [-0.051   1.5367 -3.3643]\n",
      " [-0.589   3.1577 -1.6003]]\n",
      "fake:\n",
      "[[ 1.  1.  1.]\n",
      " [ 1.  1.  1.]\n",
      " [ 1.  1.  1.]]\n",
      "-0.912921\n",
      "2.97036\n"
     ]
    },
    {
     "data": {
      "image/png": "[encoded data removed]",
      "text/plain": [
       "<matplotlib.figure.Figure at 0x7f4a0f6c3090>"
      ]
     },
     "metadata": {},
     "output_type": "display_data"
    },
    {
     "name": "stdout",
     "output_type": "stream",
     "text": [
      "/home/evan/Documents/deep_docking/datasets/v2015/4a9n/4a9n_ligand.mol2\n",
      "[[ 1.514   1.9077 -1.4783]\n",
      " [ 0.174   1.7917 -1.9773]\n",
      " [-0.051   1.5367 -3.3643]\n",
      " [-0.589   3.1577 -1.6003]]\n",
      "Butane:\n",
      "\n"
     ]
    },
    {
     "data": {
      "image/png": "[encoded data removed]",
      "text/plain": [
       "<matplotlib.figure.Figure at 0x7f4a16819490>"
      ]
     },
     "metadata": {},
     "output_type": "display_data"
    },
    {
     "name": "stdout",
     "output_type": "stream",
     "text": [
      "0.0610220432281\n",
      "Training epoch 51000\n",
      "Iter: 51000\n",
      "D loss: 10.81\n",
      "G_loss: 500.2\n",
      "4wks:\n",
      "\n",
      "real:\n",
      "[[ 1.514   1.9077 -1.4783]\n",
      " [ 0.174   1.7917 -1.9773]\n",
      " [-0.051   1.5367 -3.3643]\n",
      " [-0.589   3.1577 -1.6003]]\n",
      "fake:\n",
      "[[ 1.514   1.9077 -1.4783]\n",
      " [ 0.174   1.7917 -1.9773]\n",
      " [-0.051   1.5367 -3.3643]\n",
      " [-0.589   3.1577 -1.6003]]\n",
      "fake:\n",
      "[[ 1.  1.  1.]\n",
      " [ 1.  1.  1.]\n",
      " [ 1.  1.  1.]]\n",
      "-0.912921\n",
      "2.83321\n"
     ]
    },
    {
     "data": {
      "image/png": "[encoded data removed]",
      "text/plain": [
       "<matplotlib.figure.Figure at 0x7f4a0ff672d0>"
      ]
     },
     "metadata": {},
     "output_type": "display_data"
    },
    {
     "name": "stdout",
     "output_type": "stream",
     "text": [
      "/home/evan/Documents/deep_docking/datasets/v2015/4a9n/4a9n_ligand.mol2\n",
      "[[ 1.514   1.9077 -1.4783]\n",
      " [ 0.174   1.7917 -1.9773]\n",
      " [-0.051   1.5367 -3.3643]\n",
      " [-0.589   3.1577 -1.6003]]\n",
      "Butane:\n",
      "\n"
     ]
    },
    {
     "data": {
      "image/png": "[encoded data removed]",
      "text/plain": [
       "<matplotlib.figure.Figure at 0x7f4a687e0550>"
      ]
     },
     "metadata": {},
     "output_type": "display_data"
    },
    {
     "name": "stdout",
     "output_type": "stream",
     "text": [
      "0.03946185112\n",
      "Training epoch 52000\n",
      "Iter: 52000\n",
      "D loss: 11.67\n",
      "G_loss: 486.8\n",
      "4wks:\n",
      "\n",
      "real:\n",
      "[[ 1.514   1.9077 -1.4783]\n",
      " [ 0.174   1.7917 -1.9773]\n",
      " [-0.051   1.5367 -3.3643]\n",
      " [-0.589   3.1577 -1.6003]]\n",
      "fake:\n",
      "[[ 1.514   1.9077 -1.4783]\n",
      " [ 0.174   1.7917 -1.9773]\n",
      " [-0.051   1.5367 -3.3643]\n",
      " [-0.589   3.1577 -1.6003]]\n",
      "fake:\n",
      "[[ 1.  1.  1.]\n",
      " [ 1.  1.  1.]\n",
      " [ 1.  1.  1.]]\n",
      "-0.912921\n",
      "2.56722\n"
     ]
    },
    {
     "data": {
      "image/png": "[encoded data removed]",
      "text/plain": [
       "<matplotlib.figure.Figure at 0x7f4a676bebd0>"
      ]
     },
     "metadata": {},
     "output_type": "display_data"
    },
    {
     "name": "stdout",
     "output_type": "stream",
     "text": [
      "/home/evan/Documents/deep_docking/datasets/v2015/4a9n/4a9n_ligand.mol2\n",
      "[[ 1.514   1.9077 -1.4783]\n",
      " [ 0.174   1.7917 -1.9773]\n",
      " [-0.051   1.5367 -3.3643]\n",
      " [-0.589   3.1577 -1.6003]]\n",
      "Butane:\n",
      "\n"
     ]
    },
    {
     "data": {
      "image/png": "[encoded data removed]",
      "text/plain": [
       "<matplotlib.figure.Figure at 0x7f4a7068c690>"
      ]
     },
     "metadata": {},
     "output_type": "display_data"
    },
    {
     "name": "stdout",
     "output_type": "stream",
     "text": [
      "0.0401091575623\n",
      "Training epoch 53000\n",
      "Iter: 53000\n",
      "D loss: 14.38\n",
      "G_loss: 483.3\n",
      "4wks:\n",
      "\n",
      "real:\n",
      "[[ 1.514   1.9077 -1.4783]\n",
      " [ 0.174   1.7917 -1.9773]\n",
      " [-0.051   1.5367 -3.3643]\n",
      " [-0.589   3.1577 -1.6003]]\n",
      "fake:\n",
      "[[ 1.514   1.9077 -1.4783]\n",
      " [ 0.174   1.7917 -1.9773]\n",
      " [-0.051   1.5367 -3.3643]\n",
      " [-0.589   3.1577 -1.6003]]\n",
      "fake:\n",
      "[[ 1.  1.  1.]\n",
      " [ 1.  1.  1.]\n",
      " [ 1.  1.  1.]]\n",
      "-0.912921\n",
      "2.74393\n"
     ]
    },
    {
     "data": {
      "image/png": "[encoded data removed]",
      "text/plain": [
       "<matplotlib.figure.Figure at 0x7f4a697755d0>"
      ]
     },
     "metadata": {},
     "output_type": "display_data"
    },
    {
     "name": "stdout",
     "output_type": "stream",
     "text": [
      "/home/evan/Documents/deep_docking/datasets/v2015/4a9n/4a9n_ligand.mol2\n",
      "[[ 1.514   1.9077 -1.4783]\n",
      " [ 0.174   1.7917 -1.9773]\n",
      " [-0.051   1.5367 -3.3643]\n",
      " [-0.589   3.1577 -1.6003]]\n",
      "Butane:\n",
      "\n"
     ]
    },
    {
     "data": {
      "image/png": "[encoded data removed]",
      "text/plain": [
       "<matplotlib.figure.Figure at 0x7f4a6c58e150>"
      ]
     },
     "metadata": {},
     "output_type": "display_data"
    },
    {
     "name": "stdout",
     "output_type": "stream",
     "text": [
      "0.042445898056\n",
      "Training epoch 54000\n",
      "Iter: 54000\n",
      "D loss: 12.67\n",
      "G_loss: 531.2\n",
      "4wks:\n",
      "\n",
      "real:\n",
      "[[ 1.514   1.9077 -1.4783]\n",
      " [ 0.174   1.7917 -1.9773]\n",
      " [-0.051   1.5367 -3.3643]\n",
      " [-0.589   3.1577 -1.6003]]\n",
      "fake:\n",
      "[[ 1.514   1.9077 -1.4783]\n",
      " [ 0.174   1.7917 -1.9773]\n",
      " [-0.051   1.5367 -3.3643]\n",
      " [-0.589   3.1577 -1.6003]]\n",
      "fake:\n",
      "[[ 1.  1.  1.]\n",
      " [ 1.  1.  1.]\n",
      " [ 1.  1.  1.]]\n",
      "-0.912921\n",
      "3.22969\n"
     ]
    },
    {
     "data": {
      "image/png": "[encoded data removed]",
      "text/plain": [
       "<matplotlib.figure.Figure at 0x7f4a687e0f90>"
      ]
     },
     "metadata": {},
     "output_type": "display_data"
    },
    {
     "name": "stdout",
     "output_type": "stream",
     "text": [
      "/home/evan/Documents/deep_docking/datasets/v2015/4a9n/4a9n_ligand.mol2\n",
      "[[ 1.514   1.9077 -1.4783]\n",
      " [ 0.174   1.7917 -1.9773]\n",
      " [-0.051   1.5367 -3.3643]\n",
      " [-0.589   3.1577 -1.6003]]\n",
      "Butane:\n",
      "\n"
     ]
    },
    {
     "data": {
      "image/png": "[encoded data removed]",
      "text/plain": [
       "<matplotlib.figure.Figure at 0x7f4a17c05790>"
      ]
     },
     "metadata": {},
     "output_type": "display_data"
    },
    {
     "name": "stdout",
     "output_type": "stream",
     "text": [
      "0.0415840148926\n",
      "Training epoch 55000\n",
      "Iter: 55000\n",
      "D loss: 9.076\n",
      "G_loss: 480.9\n",
      "4wks:\n",
      "\n",
      "real:\n",
      "[[ 1.514   1.9077 -1.4783]\n",
      " [ 0.174   1.7917 -1.9773]\n",
      " [-0.051   1.5367 -3.3643]\n",
      " [-0.589   3.1577 -1.6003]]\n",
      "fake:\n",
      "[[ 1.514   1.9077 -1.4783]\n",
      " [ 0.174   1.7917 -1.9773]\n",
      " [-0.051   1.5367 -3.3643]\n",
      " [-0.589   3.1577 -1.6003]]\n",
      "fake:\n",
      "[[ 1.  1.  1.]\n",
      " [ 1.  1.  1.]\n",
      " [ 1.  1.  1.]]\n",
      "-0.912921\n",
      "2.99816\n"
     ]
    },
    {
     "data": {
      "image/png": "[encoded data removed]",
      "text/plain": [
       "<matplotlib.figure.Figure at 0x7f4a178450d0>"
      ]
     },
     "metadata": {},
     "output_type": "display_data"
    },
    {
     "name": "stdout",
     "output_type": "stream",
     "text": [
      "/home/evan/Documents/deep_docking/datasets/v2015/4a9n/4a9n_ligand.mol2\n",
      "[[ 1.514   1.9077 -1.4783]\n",
      " [ 0.174   1.7917 -1.9773]\n",
      " [-0.051   1.5367 -3.3643]\n",
      " [-0.589   3.1577 -1.6003]]\n",
      "Butane:\n",
      "\n"
     ]
    },
    {
     "data": {
      "image/png": "[encoded data removed]",
      "text/plain": [
       "<matplotlib.figure.Figure at 0x7f4a6f9e1f10>"
      ]
     },
     "metadata": {},
     "output_type": "display_data"
    },
    {
     "name": "stdout",
     "output_type": "stream",
     "text": [
      "0.0400221347809\n",
      "Training epoch 56000\n",
      "Iter: 56000\n",
      "D loss: 19.84\n",
      "G_loss: 466.0\n",
      "4wks:\n",
      "\n",
      "real:\n",
      "[[ 1.514   1.9077 -1.4783]\n",
      " [ 0.174   1.7917 -1.9773]\n",
      " [-0.051   1.5367 -3.3643]\n",
      " [-0.589   3.1577 -1.6003]]\n",
      "fake:\n",
      "[[ 1.514   1.9077 -1.4783]\n",
      " [ 0.174   1.7917 -1.9773]\n",
      " [-0.051   1.5367 -3.3643]\n",
      " [-0.589   3.1577 -1.6003]]\n",
      "fake:\n",
      "[[ 1.  1.  1.]\n",
      " [ 1.  1.  1.]\n",
      " [ 1.  1.  1.]]\n",
      "-0.912921\n",
      "2.57393\n"
     ]
    },
    {
     "data": {
      "image/png": "[encoded data removed]",
      "text/plain": [
       "<matplotlib.figure.Figure at 0x7f4a0ff1f850>"
      ]
     },
     "metadata": {},
     "output_type": "display_data"
    },
    {
     "name": "stdout",
     "output_type": "stream",
     "text": [
      "/home/evan/Documents/deep_docking/datasets/v2015/4a9n/4a9n_ligand.mol2\n",
      "[[ 1.514   1.9077 -1.4783]\n",
      " [ 0.174   1.7917 -1.9773]\n",
      " [-0.051   1.5367 -3.3643]\n",
      " [-0.589   3.1577 -1.6003]]\n",
      "Butane:\n",
      "\n"
     ]
    },
    {
     "data": {
      "image/png": "[encoded data removed]",
      "text/plain": [
       "<matplotlib.figure.Figure at 0x7f4a0fbf34d0>"
      ]
     },
     "metadata": {},
     "output_type": "display_data"
    },
    {
     "name": "stdout",
     "output_type": "stream",
     "text": [
      "0.0408918857574\n",
      "Training epoch 57000\n",
      "Iter: 57000\n",
      "D loss: 13.72\n",
      "G_loss: 491.6\n",
      "4wks:\n",
      "\n",
      "real:\n",
      "[[ 1.514   1.9077 -1.4783]\n",
      " [ 0.174   1.7917 -1.9773]\n",
      " [-0.051   1.5367 -3.3643]\n",
      " [-0.589   3.1577 -1.6003]]\n",
      "fake:\n",
      "[[ 1.514   1.9077 -1.4783]\n",
      " [ 0.174   1.7917 -1.9773]\n",
      " [-0.051   1.5367 -3.3643]\n",
      " [-0.589   3.1577 -1.6003]]\n",
      "fake:\n",
      "[[ 1.  1.  1.]\n",
      " [ 1.  1.  1.]\n",
      " [ 1.  1.  1.]]\n",
      "-0.912921\n",
      "-1.25096\n"
     ]
    },
    {
     "data": {
      "image/png": "[encoded data removed]",
      "text/plain": [
       "<matplotlib.figure.Figure at 0x7f4a0e13f590>"
      ]
     },
     "metadata": {},
     "output_type": "display_data"
    },
    {
     "name": "stdout",
     "output_type": "stream",
     "text": [
      "/home/evan/Documents/deep_docking/datasets/v2015/4a9n/4a9n_ligand.mol2\n",
      "[[ 1.514   1.9077 -1.4783]\n",
      " [ 0.174   1.7917 -1.9773]\n",
      " [-0.051   1.5367 -3.3643]\n",
      " [-0.589   3.1577 -1.6003]]\n",
      "Butane:\n",
      "\n"
     ]
    },
    {
     "data": {
      "image/png": "[encoded data removed]",
      "text/plain": [
       "<matplotlib.figure.Figure at 0x7f4a0ff68e10>"
      ]
     },
     "metadata": {},
     "output_type": "display_data"
    },
    {
     "name": "stdout",
     "output_type": "stream",
     "text": [
      "0.0775928497314\n",
      "Training epoch 58000\n",
      "Iter: 58000\n",
      "D loss: 14.13\n",
      "G_loss: 493.6\n",
      "4wks:\n",
      "\n",
      "real:\n",
      "[[ 1.514   1.9077 -1.4783]\n",
      " [ 0.174   1.7917 -1.9773]\n",
      " [-0.051   1.5367 -3.3643]\n",
      " [-0.589   3.1577 -1.6003]]\n",
      "fake:\n",
      "[[ 1.514   1.9077 -1.4783]\n",
      " [ 0.174   1.7917 -1.9773]\n",
      " [-0.051   1.5367 -3.3643]\n",
      " [-0.589   3.1577 -1.6003]]\n",
      "fake:\n",
      "[[ 1.  1.  1.]\n",
      " [ 1.  1.  1.]\n",
      " [ 1.  1.  1.]]\n",
      "-0.912921\n",
      "-1.27497\n"
     ]
    },
    {
     "data": {
      "image/png": "[encoded data removed]",
      "text/plain": [
       "<matplotlib.figure.Figure at 0x7f4a708fa350>"
      ]
     },
     "metadata": {},
     "output_type": "display_data"
    },
    {
     "name": "stdout",
     "output_type": "stream",
     "text": [
      "/home/evan/Documents/deep_docking/datasets/v2015/4a9n/4a9n_ligand.mol2\n",
      "[[ 1.514   1.9077 -1.4783]\n",
      " [ 0.174   1.7917 -1.9773]\n",
      " [-0.051   1.5367 -3.3643]\n",
      " [-0.589   3.1577 -1.6003]]\n",
      "Butane:\n",
      "\n"
     ]
    },
    {
     "data": {
      "image/png": "[encoded data removed]",
      "text/plain": [
       "<matplotlib.figure.Figure at 0x7f4a6fe28ed0>"
      ]
     },
     "metadata": {},
     "output_type": "display_data"
    },
    {
     "ename": "KeyboardInterrupt",
     "evalue": "",
     "output_type": "error",
     "traceback": [
      "\u001b[0;31m---------------------------------------------------------------------------\u001b[0m",
      "\u001b[0;31mKeyboardInterrupt\u001b[0m                         Traceback (most recent call last)",
      "\u001b[0;32m<ipython-input-2122-89bf9846bab7>\u001b[0m in \u001b[0;36m<module>\u001b[0;34m()\u001b[0m\n\u001b[1;32m     17\u001b[0m \u001b[0;34m\u001b[0m\u001b[0m\n\u001b[1;32m     18\u001b[0m         _, D_loss_curr = sess.run(\n\u001b[0;32m---> 19\u001b[0;31m             [D_solver, D_loss] + d_ops, feed_dict=feed_dict)[0:2]\n\u001b[0m\u001b[1;32m     20\u001b[0m \u001b[0;34m\u001b[0m\u001b[0m\n\u001b[1;32m     21\u001b[0m         \u001b[0m_\u001b[0m\u001b[0;34m,\u001b[0m \u001b[0mG_loss_curr\u001b[0m \u001b[0;34m=\u001b[0m \u001b[0msess\u001b[0m\u001b[0;34m.\u001b[0m\u001b[0mrun\u001b[0m\u001b[0;34m(\u001b[0m\u001b[0;34m[\u001b[0m\u001b[0mG_solver\u001b[0m\u001b[0;34m,\u001b[0m \u001b[0mG_loss\u001b[0m\u001b[0;34m]\u001b[0m \u001b[0;34m+\u001b[0m \u001b[0mg_ops\u001b[0m\u001b[0;34m,\u001b[0m \u001b[0mfeed_dict\u001b[0m\u001b[0;34m=\u001b[0m\u001b[0mfeed_dict\u001b[0m\u001b[0;34m)\u001b[0m\u001b[0;34m[\u001b[0m\u001b[0;36m0\u001b[0m\u001b[0;34m:\u001b[0m\u001b[0;36m2\u001b[0m\u001b[0;34m]\u001b[0m\u001b[0;34m\u001b[0m\u001b[0m\n",
      "\u001b[0;32m/home/evan/anaconda2/lib/python2.7/site-packages/tensorflow/python/client/session.pyc\u001b[0m in \u001b[0;36mrun\u001b[0;34m(self, fetches, feed_dict, options, run_metadata)\u001b[0m\n\u001b[1;32m    787\u001b[0m     \u001b[0;32mtry\u001b[0m\u001b[0;34m:\u001b[0m\u001b[0;34m\u001b[0m\u001b[0m\n\u001b[1;32m    788\u001b[0m       result = self._run(None, fetches, feed_dict, options_ptr,\n\u001b[0;32m--> 789\u001b[0;31m                          run_metadata_ptr)\n\u001b[0m\u001b[1;32m    790\u001b[0m       \u001b[0;32mif\u001b[0m \u001b[0mrun_metadata\u001b[0m\u001b[0;34m:\u001b[0m\u001b[0;34m\u001b[0m\u001b[0m\n\u001b[1;32m    791\u001b[0m         \u001b[0mproto_data\u001b[0m \u001b[0;34m=\u001b[0m \u001b[0mtf_session\u001b[0m\u001b[0;34m.\u001b[0m\u001b[0mTF_GetBuffer\u001b[0m\u001b[0;34m(\u001b[0m\u001b[0mrun_metadata_ptr\u001b[0m\u001b[0;34m)\u001b[0m\u001b[0;34m\u001b[0m\u001b[0m\n",
      "\u001b[0;32m/home/evan/anaconda2/lib/python2.7/site-packages/tensorflow/python/client/session.pyc\u001b[0m in \u001b[0;36m_run\u001b[0;34m(self, handle, fetches, feed_dict, options, run_metadata)\u001b[0m\n\u001b[1;32m    995\u001b[0m     \u001b[0;32mif\u001b[0m \u001b[0mfinal_fetches\u001b[0m \u001b[0;32mor\u001b[0m \u001b[0mfinal_targets\u001b[0m\u001b[0;34m:\u001b[0m\u001b[0;34m\u001b[0m\u001b[0m\n\u001b[1;32m    996\u001b[0m       results = self._do_run(handle, final_targets, final_fetches,\n\u001b[0;32m--> 997\u001b[0;31m                              feed_dict_string, options, run_metadata)\n\u001b[0m\u001b[1;32m    998\u001b[0m     \u001b[0;32melse\u001b[0m\u001b[0;34m:\u001b[0m\u001b[0;34m\u001b[0m\u001b[0m\n\u001b[1;32m    999\u001b[0m       \u001b[0mresults\u001b[0m \u001b[0;34m=\u001b[0m \u001b[0;34m[\u001b[0m\u001b[0;34m]\u001b[0m\u001b[0;34m\u001b[0m\u001b[0m\n",
      "\u001b[0;32m/home/evan/anaconda2/lib/python2.7/site-packages/tensorflow/python/client/session.pyc\u001b[0m in \u001b[0;36m_do_run\u001b[0;34m(self, handle, target_list, fetch_list, feed_dict, options, run_metadata)\u001b[0m\n\u001b[1;32m   1130\u001b[0m     \u001b[0;32mif\u001b[0m \u001b[0mhandle\u001b[0m \u001b[0;32mis\u001b[0m \u001b[0mNone\u001b[0m\u001b[0;34m:\u001b[0m\u001b[0;34m\u001b[0m\u001b[0m\n\u001b[1;32m   1131\u001b[0m       return self._do_call(_run_fn, self._session, feed_dict, fetch_list,\n\u001b[0;32m-> 1132\u001b[0;31m                            target_list, options, run_metadata)\n\u001b[0m\u001b[1;32m   1133\u001b[0m     \u001b[0;32melse\u001b[0m\u001b[0;34m:\u001b[0m\u001b[0;34m\u001b[0m\u001b[0m\n\u001b[1;32m   1134\u001b[0m       return self._do_call(_prun_fn, self._session, handle, feed_dict,\n",
      "\u001b[0;32m/home/evan/anaconda2/lib/python2.7/site-packages/tensorflow/python/client/session.pyc\u001b[0m in \u001b[0;36m_do_call\u001b[0;34m(self, fn, *args)\u001b[0m\n\u001b[1;32m   1137\u001b[0m   \u001b[0;32mdef\u001b[0m \u001b[0m_do_call\u001b[0m\u001b[0;34m(\u001b[0m\u001b[0mself\u001b[0m\u001b[0;34m,\u001b[0m \u001b[0mfn\u001b[0m\u001b[0;34m,\u001b[0m \u001b[0;34m*\u001b[0m\u001b[0margs\u001b[0m\u001b[0;34m)\u001b[0m\u001b[0;34m:\u001b[0m\u001b[0;34m\u001b[0m\u001b[0m\n\u001b[1;32m   1138\u001b[0m     \u001b[0;32mtry\u001b[0m\u001b[0;34m:\u001b[0m\u001b[0;34m\u001b[0m\u001b[0m\n\u001b[0;32m-> 1139\u001b[0;31m       \u001b[0;32mreturn\u001b[0m \u001b[0mfn\u001b[0m\u001b[0;34m(\u001b[0m\u001b[0;34m*\u001b[0m\u001b[0margs\u001b[0m\u001b[0;34m)\u001b[0m\u001b[0;34m\u001b[0m\u001b[0m\n\u001b[0m\u001b[1;32m   1140\u001b[0m     \u001b[0;32mexcept\u001b[0m \u001b[0merrors\u001b[0m\u001b[0;34m.\u001b[0m\u001b[0mOpError\u001b[0m \u001b[0;32mas\u001b[0m \u001b[0me\u001b[0m\u001b[0;34m:\u001b[0m\u001b[0;34m\u001b[0m\u001b[0m\n\u001b[1;32m   1141\u001b[0m       \u001b[0mmessage\u001b[0m \u001b[0;34m=\u001b[0m \u001b[0mcompat\u001b[0m\u001b[0;34m.\u001b[0m\u001b[0mas_text\u001b[0m\u001b[0;34m(\u001b[0m\u001b[0me\u001b[0m\u001b[0;34m.\u001b[0m\u001b[0mmessage\u001b[0m\u001b[0;34m)\u001b[0m\u001b[0;34m\u001b[0m\u001b[0m\n",
      "\u001b[0;32m/home/evan/anaconda2/lib/python2.7/site-packages/tensorflow/python/client/session.pyc\u001b[0m in \u001b[0;36m_run_fn\u001b[0;34m(session, feed_dict, fetch_list, target_list, options, run_metadata)\u001b[0m\n\u001b[1;32m   1119\u001b[0m         return tf_session.TF_Run(session, options,\n\u001b[1;32m   1120\u001b[0m                                  \u001b[0mfeed_dict\u001b[0m\u001b[0;34m,\u001b[0m \u001b[0mfetch_list\u001b[0m\u001b[0;34m,\u001b[0m \u001b[0mtarget_list\u001b[0m\u001b[0;34m,\u001b[0m\u001b[0;34m\u001b[0m\u001b[0m\n\u001b[0;32m-> 1121\u001b[0;31m                                  status, run_metadata)\n\u001b[0m\u001b[1;32m   1122\u001b[0m \u001b[0;34m\u001b[0m\u001b[0m\n\u001b[1;32m   1123\u001b[0m     \u001b[0;32mdef\u001b[0m \u001b[0m_prun_fn\u001b[0m\u001b[0;34m(\u001b[0m\u001b[0msession\u001b[0m\u001b[0;34m,\u001b[0m \u001b[0mhandle\u001b[0m\u001b[0;34m,\u001b[0m \u001b[0mfeed_dict\u001b[0m\u001b[0;34m,\u001b[0m \u001b[0mfetch_list\u001b[0m\u001b[0;34m)\u001b[0m\u001b[0;34m:\u001b[0m\u001b[0;34m\u001b[0m\u001b[0m\n",
      "\u001b[0;31mKeyboardInterrupt\u001b[0m: "
     ]
    }
   ],
   "source": [
    "every = 1000\n",
    "#train_dataset = features[:1]*32\n",
    "train_dataset = features[:96*2]\n",
    "n_train = len(train_dataset)\n",
    "\n",
    "for it in range(1000000):\n",
    "    a = time.time()\n",
    "    random.shuffle(train_dataset)\n",
    "    \n",
    "    batch_sched = list(range(0, n_train+1,S))\n",
    "    for j in range(0, len(batch_sched)-1):\n",
    "        start = batch_sched[j]\n",
    "        stop = batch_sched[j+1]\n",
    "        \n",
    "\n",
    "        feed_dict = construct_feed_dict(train_dataset, start, stop)\n",
    "\n",
    "        _, D_loss_curr = sess.run(\n",
    "            [D_solver, D_loss] + d_ops, feed_dict=feed_dict)[0:2]\n",
    "        \n",
    "        _, G_loss_curr = sess.run([G_solver, G_loss] + g_ops, feed_dict=feed_dict)[0:2]\n",
    "        \n",
    "        d_losses.append(D_loss_curr)\n",
    "        g_losses.append(G_loss_curr)\n",
    "    \n",
    "    if it % every == 0:\n",
    "        \n",
    "        print(time.time()-a)\n",
    "        print(\"Training epoch %d\" %it)\n",
    "                \n",
    "        print('Iter: {}'.format(it))\n",
    "        print('D loss: {:.4}'. format(D_loss_curr))\n",
    "        print('G_loss: {:.4}'.format(G_loss_curr))\n",
    "        feed_dict = construct_feed_dict(features[:1]*S, 0, S, shuffle_inds=False, keep_prob_val=1., train=False)\n",
    "        \n",
    "        print(\"4wks:\\n\")\n",
    "        \n",
    "        print(\"real:\")\n",
    "        print(feed_dict[mol_xyz][0][:4])\n",
    "        print(\"fake:\")\n",
    "        print(sess.run(G_sample, feed_dict=feed_dict)[0][:4])\n",
    "        print(\"fake:\")\n",
    "        print(sess.run(rot_mat_i, feed_dict=feed_dict))\n",
    "\n",
    "        print(np.mean(sess.run(dihed_tensor, feed_dict=feed_dict)[:, 0]))\n",
    "        print(np.mean(sess.run(dihed, feed_dict=feed_dict)[:, 0]))\n",
    "        plt.hist(sess.run(dihed, feed_dict=feed_dict)[:, 0], bins=25)\n",
    "        plt.show()\n",
    "        \n",
    "        \n",
    "        generate_molecule(features[0][0], sess.run(G_sample, feed_dict=feed_dict)[0], \"/home/evan/Documents/deep_docking/dcgan_pg/DCGAN-tensorflow/generated_mols/%s_test%d.mol\" %(features[0][0].split(\".\")[0].split(\"/\")[-1], it))\n",
    "        \n",
    "        print(\"Butane:\\n\")\n",
    "        feed_dict = construct_feed_dict(features[len(features)-32:], 0, S, shuffle_inds=False, keep_prob_val=1., train=False)\n",
    "        plt.hist(sess.run(dihed, feed_dict=feed_dict)[:, 0], bins=25)\n",
    "        plt.show()\n",
    "        #generate_molecule(features[1][0], sess.run(G_sample, feed_dict=feed_dict)[1], \"/home/evan/Documents/deep_docking/dcgan_pg/DCGAN-tensorflow/generated_mols/%s_test%d.mol\" %(features[1][0].split(\".\")[0].split(\"/\")[-1], it))\n",
    "\n",
    "        #feed_dict = construct_feed_dict(features, len(features)-S, len(features), shuffle_inds=False, keep_prob_val=1.)\n",
    "        #generate_molecule(features[-1][0], sess.run(G_sample, feed_dict=feed_dict)[0], \"/home/evan/Documents/deep_docking/dcgan_pg/DCGAN-tensorflow/generated_mols/%s_test%d.mol\" %(features[-1][0].split(\".\")[0].split(\"/\")[-1], it))\n",
    "\n",
    "        \n",
    "        \n",
    "\n",
    "        #print(\"output_i\")\n",
    "        #print(sess.run(G_sample_output_i, feed_dict=feed_dict))\n",
    "        #print(sess.run(G_sample, feed_dict=feed_dict))\n",
    "\n",
    "    #random.shuffle(train_dataset)\n",
    "\n"
   ]
  },
  {
   "cell_type": "code",
   "execution_count": null,
   "metadata": {
    "collapsed": true
   },
   "outputs": [],
   "source": [
    "features[4]"
   ]
  },
  {
   "cell_type": "code",
   "execution_count": null,
   "metadata": {
    "collapsed": true,
    "scrolled": true
   },
   "outputs": [],
   "source": [
    "every = 1000\n",
    "#train_dataset = features[:96]\n",
    "train_dataset = features[:1]*S\n",
    "n_train = len(train_dataset)\n",
    "\n",
    "for it in range(1000000):\n",
    "    a = time.time()\n",
    "    random.shuffle(train_dataset)\n",
    "    \n",
    "    batch_sched = list(range(0, n_train+1,S))\n",
    "    for j in range(0, len(batch_sched)-1):\n",
    "        start = batch_sched[j]\n",
    "        stop = batch_sched[j+1]\n",
    "        \n",
    "        for _ in range(5):\n",
    "            feed_dict = construct_feed_dict(train_dataset, start, stop)\n",
    "\n",
    "            _, D_loss_curr, _ = sess.run(\n",
    "                [D_solver, D_loss, clip_D], feed_dict=feed_dict)\n",
    "        \n",
    "        feed_dict = construct_feed_dict(train_dataset, start, stop)\n",
    "\n",
    "        _, G_loss_curr = sess.run([G_solver, G_loss], feed_dict=feed_dict)\n",
    "        \n",
    "        d_losses.append(D_loss_curr)\n",
    "        g_losses.append(G_loss_curr)\n",
    "    \n",
    "    if it % every == 0:\n",
    "        \n",
    "        print(time.time()-a)\n",
    "        print(\"Training epoch %d\" %it)\n",
    "                \n",
    "        print('Iter: {}'.format(it))\n",
    "        print('D loss: {:.4}'. format(D_loss_curr))\n",
    "        print('G_loss: {:.4}'.format(G_loss_curr))\n",
    "        feed_dict = construct_feed_dict(features[:1]*S, 0, S, shuffle_inds=False, keep_prob_val=1.)\n",
    "        \n",
    "        print(\"4wks:\\n\")\n",
    "        \n",
    "        print(\"real:\")\n",
    "        print(feed_dict[mol_xyz][0][:4])\n",
    "        print(\"fake:\")\n",
    "        print(sess.run(G_sample, feed_dict=feed_dict)[0][:4])\n",
    "        print(\"fake:\")\n",
    "        print(sess.run(rot_mat_i, feed_dict=feed_dict))\n",
    "\n",
    "        print(np.mean(sess.run(dihed, feed_dict=feed_dict)[:, 0]))\n",
    "        plt.hist(sess.run(dihed, feed_dict=feed_dict)[:, 0])\n",
    "        plt.show()\n",
    "        \n",
    "        \n",
    "        generate_molecule(features[0][0], sess.run(G_sample, feed_dict=feed_dict)[0], \"/home/evan/Documents/deep_docking/dcgan_pg/DCGAN-tensorflow/generated_mols/%s_test%d.mol\" %(features[0][0].split(\".\")[0].split(\"/\")[-1], it))\n",
    "        \n",
    "        print(\"Butane:\\n\")\n",
    "        feed_dict = construct_feed_dict(features[len(features)-32:], 0, S, shuffle_inds=False, keep_prob_val=1.)\n",
    "        plt.hist(sess.run(dihed, feed_dict=feed_dict)[:, 0])\n",
    "        plt.show()\n",
    "        #generate_molecule(features[1][0], sess.run(G_sample, feed_dict=feed_dict)[1], \"/home/evan/Documents/deep_docking/dcgan_pg/DCGAN-tensorflow/generated_mols/%s_test%d.mol\" %(features[1][0].split(\".\")[0].split(\"/\")[-1], it))\n",
    "\n",
    "        #feed_dict = construct_feed_dict(features, len(features)-S, len(features), shuffle_inds=False, keep_prob_val=1.)\n",
    "        #generate_molecule(features[-1][0], sess.run(G_sample, feed_dict=feed_dict)[0], \"/home/evan/Documents/deep_docking/dcgan_pg/DCGAN-tensorflow/generated_mols/%s_test%d.mol\" %(features[-1][0].split(\".\")[0].split(\"/\")[-1], it))\n",
    "\n",
    "        \n",
    "        \n",
    "\n",
    "        #print(\"output_i\")\n",
    "        #print(sess.run(G_sample_output_i, feed_dict=feed_dict))\n",
    "        #print(sess.run(G_sample, feed_dict=feed_dict))\n",
    "\n",
    "    #random.shuffle(train_dataset)\n",
    "\n"
   ]
  },
  {
   "cell_type": "code",
   "execution_count": 321,
   "metadata": {
    "scrolled": true
   },
   "outputs": [
    {
     "data": {
      "image/png": "[encoded data removed]",
      "text/plain": [
       "<matplotlib.figure.Figure at 0x7feedffcfd50>"
      ]
     },
     "metadata": {},
     "output_type": "display_data"
    }
   ],
   "source": [
    "S=16\n",
    "feed_dict = construct_feed_dict(features, len(features)-S, len(features), shuffle_inds=False)\n",
    "\n",
    "plt.hist(np.squeeze(sess.run(dihed, feed_dict=feed_dict)), bins=25)\n",
    "plt.show()"
   ]
  },
  {
   "cell_type": "code",
   "execution_count": 216,
   "metadata": {},
   "outputs": [
    {
     "data": {
      "text/plain": [
       "('/home/evan/Documents/deep_docking/datasets/v2015/2ohk/2ohk_ligand.mol2',\n",
       " array([[-1.2731,  0.9987, -2.2001],\n",
       "        [-0.5031,  1.0397, -1.0801],\n",
       "        [-0.0411,  2.2447, -0.6841],\n",
       "        [ 0.7269,  2.2857,  0.4109],\n",
       "        [ 1.0309,  1.1747,  1.1729],\n",
       "        [ 0.5309, -0.0663,  0.8089],\n",
       "        [ 0.7909, -1.2213,  1.5379],\n",
       "        [ 0.2719, -2.4343,  1.1299],\n",
       "        [-0.4991, -2.5073, -0.0101],\n",
       "        [-0.7681, -1.3733, -0.7401],\n",
       "        [-0.2671, -0.1413, -0.3461],\n",
       "        [ 0.    ,  0.    ,  0.    ]]),\n",
       " array([[[0, 0, 0, 0],\n",
       "         [0, 0, 0, 0],\n",
       "         [0, 0, 0, 0],\n",
       "         [0, 0, 0, 0],\n",
       "         [0, 0, 0, 0],\n",
       "         [0, 0, 0, 0],\n",
       "         [0, 0, 0, 0],\n",
       "         [0, 0, 0, 0],\n",
       "         [0, 0, 0, 0],\n",
       "         [0, 0, 0, 0],\n",
       "         [0, 0, 0, 0],\n",
       "         [0, 0, 0, 0]]], dtype=uint8),\n",
       " array([[ 0.]]),\n",
       " array([[[0, 0, 0, 0, 0, 0, 0, 0, 0, 0, 0, 0],\n",
       "         [0, 0, 0, 0, 0, 0, 0, 0, 0, 0, 0, 0],\n",
       "         [0, 0, 0, 0, 0, 0, 0, 0, 0, 0, 0, 0],\n",
       "         [0, 0, 0, 0, 0, 0, 0, 0, 0, 0, 0, 0],\n",
       "         [0, 0, 0, 0, 0, 0, 0, 0, 0, 0, 0, 0],\n",
       "         [0, 0, 0, 0, 0, 0, 0, 0, 0, 0, 0, 0],\n",
       "         [0, 0, 0, 0, 0, 0, 0, 0, 0, 0, 0, 0],\n",
       "         [0, 0, 0, 0, 0, 0, 0, 0, 0, 0, 0, 0],\n",
       "         [0, 0, 0, 0, 0, 0, 0, 0, 0, 0, 0, 0],\n",
       "         [0, 0, 0, 0, 0, 0, 0, 0, 0, 0, 0, 0],\n",
       "         [0, 0, 0, 0, 0, 0, 0, 0, 0, 0, 0, 0],\n",
       "         [0, 0, 0, 0, 0, 0, 0, 0, 0, 0, 0, 0]]], dtype=uint8),\n",
       " array([[0, 0, 0, 0, 0, 0, 0, 0, 0, 0, 0, 0]], dtype=uint8),\n",
       " array([[ 0.,  0.,  0.]]),\n",
       " (array([[1, 1, 0, 0, 0, 0, 0, 0, 0, 0, 0, 0],\n",
       "         [1, 1, 1, 0, 0, 0, 0, 0, 0, 0, 1, 0],\n",
       "         [0, 1, 1, 1, 0, 0, 0, 0, 0, 0, 0, 0],\n",
       "         [0, 0, 1, 1, 1, 0, 0, 0, 0, 0, 0, 0],\n",
       "         [0, 0, 0, 1, 1, 1, 0, 0, 0, 0, 0, 0],\n",
       "         [0, 0, 0, 0, 1, 1, 1, 0, 0, 0, 1, 0],\n",
       "         [0, 0, 0, 0, 0, 1, 1, 1, 0, 0, 0, 0],\n",
       "         [0, 0, 0, 0, 0, 0, 1, 1, 1, 0, 0, 0],\n",
       "         [0, 0, 0, 0, 0, 0, 0, 1, 1, 1, 0, 0],\n",
       "         [0, 0, 0, 0, 0, 0, 0, 0, 1, 1, 1, 0],\n",
       "         [0, 1, 0, 0, 0, 1, 0, 0, 0, 1, 1, 0],\n",
       "         [0, 0, 0, 0, 0, 0, 0, 0, 0, 0, 0, 0]], dtype=uint8),\n",
       "  array([[0, 1, 0, 0, 0, 0, 0, 0, 0, 0, 0, 0, 0, 0, 0, 0, 0, 0, 0, 0, 0, 0,\n",
       "          0, 0, 0, 0, 0, 0, 0, 0, 0, 0, 0, 0, 0, 0, 0, 0, 0, 0, 0, 0, 0, 0,\n",
       "          0, 1, 0, 0, 0, 0, 0, 0, 0, 0, 0, 0, 0, 1, 0, 0, 1, 0, 0, 0, 0, 0,\n",
       "          0, 0, 0, 0, 1, 0, 0, 0, 0],\n",
       "         [1, 0, 0, 0, 0, 0, 0, 0, 0, 0, 0, 0, 0, 0, 0, 0, 0, 0, 0, 0, 0, 0,\n",
       "          0, 0, 0, 0, 0, 0, 0, 0, 0, 0, 0, 0, 0, 0, 0, 0, 0, 0, 0, 0, 0, 0,\n",
       "          0, 0, 0, 1, 0, 0, 0, 0, 0, 0, 0, 1, 0, 0, 0, 0, 1, 0, 0, 0, 0, 0,\n",
       "          0, 0, 0, 0, 1, 0, 0, 0, 1],\n",
       "         [0, 1, 0, 0, 0, 0, 0, 0, 0, 0, 0, 0, 0, 0, 0, 0, 0, 0, 0, 0, 0, 0,\n",
       "          0, 0, 0, 0, 0, 0, 0, 0, 0, 0, 0, 0, 0, 0, 0, 0, 0, 0, 0, 0, 0, 0,\n",
       "          0, 0, 1, 0, 0, 0, 0, 0, 0, 0, 0, 1, 0, 0, 0, 0, 1, 0, 0, 0, 0, 0,\n",
       "          0, 0, 0, 0, 1, 0, 0, 0, 1],\n",
       "         [1, 0, 0, 0, 0, 0, 0, 0, 0, 0, 0, 0, 0, 0, 0, 0, 0, 0, 0, 0, 0, 0,\n",
       "          0, 0, 0, 0, 0, 0, 0, 0, 0, 0, 0, 0, 0, 0, 0, 0, 0, 0, 0, 0, 0, 0,\n",
       "          0, 0, 1, 0, 0, 0, 0, 0, 0, 0, 0, 0, 1, 0, 0, 0, 1, 0, 0, 0, 0, 0,\n",
       "          0, 0, 0, 0, 1, 0, 0, 0, 1],\n",
       "         [1, 0, 0, 0, 0, 0, 0, 0, 0, 0, 0, 0, 0, 0, 0, 0, 0, 0, 0, 0, 0, 0,\n",
       "          0, 0, 0, 0, 0, 0, 0, 0, 0, 0, 0, 0, 0, 0, 0, 0, 0, 0, 0, 0, 0, 0,\n",
       "          0, 0, 1, 0, 0, 0, 0, 0, 0, 0, 0, 0, 1, 0, 0, 0, 1, 0, 0, 0, 0, 0,\n",
       "          0, 0, 0, 0, 1, 0, 0, 0, 1],\n",
       "         [1, 0, 0, 0, 0, 0, 0, 0, 0, 0, 0, 0, 0, 0, 0, 0, 0, 0, 0, 0, 0, 0,\n",
       "          0, 0, 0, 0, 0, 0, 0, 0, 0, 0, 0, 0, 0, 0, 0, 0, 0, 0, 0, 0, 0, 0,\n",
       "          0, 0, 0, 1, 0, 0, 0, 0, 0, 0, 0, 1, 0, 0, 0, 0, 1, 0, 0, 0, 0, 0,\n",
       "          0, 0, 0, 0, 1, 0, 0, 0, 1],\n",
       "         [1, 0, 0, 0, 0, 0, 0, 0, 0, 0, 0, 0, 0, 0, 0, 0, 0, 0, 0, 0, 0, 0,\n",
       "          0, 0, 0, 0, 0, 0, 0, 0, 0, 0, 0, 0, 0, 0, 0, 0, 0, 0, 0, 0, 0, 0,\n",
       "          0, 0, 1, 0, 0, 0, 0, 0, 0, 0, 0, 0, 1, 0, 0, 0, 1, 0, 0, 0, 0, 0,\n",
       "          0, 0, 0, 0, 1, 0, 0, 0, 1],\n",
       "         [1, 0, 0, 0, 0, 0, 0, 0, 0, 0, 0, 0, 0, 0, 0, 0, 0, 0, 0, 0, 0, 0,\n",
       "          0, 0, 0, 0, 0, 0, 0, 0, 0, 0, 0, 0, 0, 0, 0, 0, 0, 0, 0, 0, 0, 0,\n",
       "          0, 0, 1, 0, 0, 0, 0, 0, 0, 0, 0, 0, 1, 0, 0, 0, 1, 0, 0, 0, 0, 0,\n",
       "          0, 0, 0, 0, 1, 0, 0, 0, 1],\n",
       "         [1, 0, 0, 0, 0, 0, 0, 0, 0, 0, 0, 0, 0, 0, 0, 0, 0, 0, 0, 0, 0, 0,\n",
       "          0, 0, 0, 0, 0, 0, 0, 0, 0, 0, 0, 0, 0, 0, 0, 0, 0, 0, 0, 0, 0, 0,\n",
       "          0, 0, 1, 0, 0, 0, 0, 0, 0, 0, 0, 0, 1, 0, 0, 0, 1, 0, 0, 0, 0, 0,\n",
       "          0, 0, 0, 0, 1, 0, 0, 0, 1],\n",
       "         [1, 0, 0, 0, 0, 0, 0, 0, 0, 0, 0, 0, 0, 0, 0, 0, 0, 0, 0, 0, 0, 0,\n",
       "          0, 0, 0, 0, 0, 0, 0, 0, 0, 0, 0, 0, 0, 0, 0, 0, 0, 0, 0, 0, 0, 0,\n",
       "          0, 0, 1, 0, 0, 0, 0, 0, 0, 0, 0, 0, 1, 0, 0, 0, 1, 0, 0, 0, 0, 0,\n",
       "          0, 0, 0, 0, 1, 0, 0, 0, 1],\n",
       "         [1, 0, 0, 0, 0, 0, 0, 0, 0, 0, 0, 0, 0, 0, 0, 0, 0, 0, 0, 0, 0, 0,\n",
       "          0, 0, 0, 0, 0, 0, 0, 0, 0, 0, 0, 0, 0, 0, 0, 0, 0, 0, 0, 0, 0, 0,\n",
       "          0, 0, 0, 1, 0, 0, 0, 0, 0, 0, 0, 1, 0, 0, 0, 0, 1, 0, 0, 0, 0, 0,\n",
       "          0, 0, 0, 0, 1, 0, 0, 0, 1],\n",
       "         [0, 0, 0, 0, 0, 0, 0, 0, 0, 0, 0, 0, 0, 0, 0, 0, 0, 0, 0, 0, 0, 0,\n",
       "          0, 0, 0, 0, 0, 0, 0, 0, 0, 0, 0, 0, 0, 0, 0, 0, 0, 0, 0, 0, 0, 0,\n",
       "          0, 0, 0, 0, 0, 0, 0, 0, 0, 0, 0, 0, 0, 0, 0, 0, 0, 0, 0, 0, 0, 0,\n",
       "          0, 0, 0, 0, 0, 0, 0, 0, 0]], dtype=uint8)))"
      ]
     },
     "execution_count": 216,
     "metadata": {},
     "output_type": "execute_result"
    }
   ],
   "source": [
    "features[1]"
   ]
  },
  {
   "cell_type": "code",
   "execution_count": null,
   "metadata": {
    "collapsed": true
   },
   "outputs": [],
   "source": [
    "feed_dict = construct_feed_dict(features, len(features)-S, len(features), shuffle_inds=False)\n",
    "generate_molecule(features[-1][0], sess.run(G_sample, feed_dict=feed_dict)[0], \"/home/evan/Documents/deep_docking/dcgan_pg/DCGAN-tensorflow/generated_mols/%s_test%d.mol\" %(features[-1][0].split(\".\")[0].split(\"/\")[-1], it))\n"
   ]
  },
  {
   "cell_type": "code",
   "execution_count": null,
   "metadata": {
    "collapsed": true
   },
   "outputs": [],
   "source": []
  },
  {
   "cell_type": "code",
   "execution_count": null,
   "metadata": {
    "collapsed": true
   },
   "outputs": [],
   "source": [
    "np.min(results[0])\n",
    "\n"
   ]
  },
  {
   "cell_type": "code",
   "execution_count": null,
   "metadata": {
    "collapsed": true
   },
   "outputs": [],
   "source": [
    "np.where(features[0][1][:,:,:,:-1] == 1)"
   ]
  },
  {
   "cell_type": "code",
   "execution_count": null,
   "metadata": {
    "collapsed": true
   },
   "outputs": [],
   "source": [
    "\"\"\"\n",
    "def discriminator(W_list, b_list, h_list, L_list, n_layers, mols):\n",
    "    mols = tf.add(mols, mol_noise)\n",
    "    with tf.device('/gpu:0'):\n",
    "        for layer_idx in range(n_layers):\n",
    "            h_list.append(tf.nn.dropout(adjacency_conv_layer(h_list[layer_idx], W_list[layer_idx],\n",
    "                                             b_list[layer_idx], adj_list[layer_idx], \n",
    "                                             clades_list[layer_idx],\n",
    "                                             L_list[layer_idx], L_list[layer_idx+1],\n",
    "                                             layer_idx, S, B_list[layer_idx]), keep_prob))\n",
    "        h_final = h_list[-1]\n",
    "        dist_matrix = tf.concat([tf.reshape(compute_distance_matrix(tf.reshape(mol, [B, 3])), (1, B, B)) for mol in tf.split(mols, S, axis=0)], axis=0)\n",
    "        print(\"dist_matrix\")\n",
    "        print(dist_matrix)\n",
    "        #dist_matrix = compute_distance_matrix(mol)\n",
    "        bond_dist_gen = tf.multiply(dist_matrix, adj_matrix)\n",
    "        wrong_bond_loss = tf.divide(tf.reshape(tf.multiply(tf.reduce_sum(tf.square(tf.subtract(bond_dist_mat, bond_dist_gen)), axis=[1,2]), lam1), (S,1)), n_bonds)\n",
    "        print(\"wrong_bond_loss\")\n",
    "        print(wrong_bond_loss)\n",
    "\n",
    "        angles = []\n",
    "        for i in range(0, B):\n",
    "            for j in range(0, B):\n",
    "                ij = mols[:, i,:] - mols[:,j,:]\n",
    "                ij = ij / tf.sqrt(tf.reduce_sum(tf.square(ij), 1, keep_dims=True))\n",
    "                #ij shape should be (S, 3)\n",
    "               # print(\"ij\")\n",
    "                #print(ij)\n",
    "                for k in range(0,B):\n",
    "                    ik = mols[:,i,:] - mols[:,k,:]\n",
    "                    ik = ik / tf.sqrt(tf.reduce_sum(tf.square(ik), 1, keep_dims=True))\n",
    "\n",
    "                    #ik shape should be (S, 3)\n",
    "                    #if i == 0 and j == 0 and k == 0: \n",
    "                    #   print(\"ik\")\n",
    "                     #   print(ik)\n",
    "                        \n",
    "                    dp = tf.reduce_sum(tf.multiply(ij, ik), axis=1, keep_dims=True)\n",
    "                    #dp shape should be (S,1)\n",
    "                    #if i ==0 and j ==0 and k==0:\n",
    "                    #    print(\"dp\")\n",
    "                    #    print(dp)\n",
    "                    if i == j or i == k or j == k:\n",
    "                        angle = tf.Variable(tf.constant(np.zeros([4,1]).astype(np.float32)))\n",
    "                    else:\n",
    "                        angle = tf.acos(tf.clip_by_value(tf.reduce_sum(tf.multiply(ij, ik), axis=1, keep_dims=True), -1.0, 1.0))\n",
    "                    #if i ==0 and j==0 and k==0:\n",
    "                        #print(\"angle\")\n",
    "                        #print(angle)\n",
    "                    angles.append(angle)\n",
    "        angles_gen = tf.reshape(tf.concat(angles, axis=1), [S, B, B, B])\n",
    "        angles_gen = tf.multiply(angles_gen, angle_tuples)\n",
    "        wrong_angles_loss = tf.divide(tf.reshape(tf.multiply(tf.reduce_sum(tf.square(tf.subtract(angle_tensor, angles_gen)), axis=[1,2,3]), lam2), (S,1)), n_angles)\n",
    "                \n",
    "        feat_i = tf.reshape(h_final, (S, B, 1, L_list[n_layers]))\n",
    "        feat_i = tf.tile(feat_i, [1, 1, B, 1])\n",
    "        \n",
    "        feat_j = tf.reshape(h_final, (S, B, 1, L_list[n_layers]))\n",
    "        feat_j = tf.transpose(feat_j, perm=[0, 2, 1, 3])\n",
    "        feat_j = tf.tile(feat_j, [1, B, 1, 1])\n",
    "        \n",
    "        d_h1 = tf.concat([tf.reshape(dist_matrix, [S, B, B, 1]), feat_i, feat_j], axis=3)\n",
    "        d_h1 = tf.reshape(d_h1, [S, B, B*(L_list[n_layers]*2+1)])\n",
    "        d_h2 = tf.nn.tanh(tf.matmul(d_h1, d_w1) + d_b1)\n",
    "        d_h2 = tf.divide(tf.reduce_sum(tf.matmul(d_h2, d_w2) + d_b2, axis=1), n_bonds)#, axis=1\n",
    "        print(\"d_h2\")\n",
    "        print(d_h2)\n",
    "        \n",
    "    \n",
    "    return(wrong_bond_loss + wrong_angles_loss + d_h2, bond_dist_gen, angles_gen, wrong_bond_loss, wrong_angles_loss)\n",
    "\"\"\""
   ]
  },
  {
   "cell_type": "code",
   "execution_count": null,
   "metadata": {
    "collapsed": true
   },
   "outputs": [],
   "source": [
    "mol = Chem.MolFromMol2File(ligand_files[0])\n",
    "c = mol.GetConformer(0)"
   ]
  },
  {
   "cell_type": "code",
   "execution_count": null,
   "metadata": {
    "collapsed": true
   },
   "outputs": [],
   "source": [
    "c.SetAtomPosition(0, [0., 0., 0.])"
   ]
  },
  {
   "cell_type": "code",
   "execution_count": null,
   "metadata": {
    "collapsed": true
   },
   "outputs": [],
   "source": []
  },
  {
   "cell_type": "code",
   "execution_count": null,
   "metadata": {
    "collapsed": true
   },
   "outputs": [],
   "source": []
  },
  {
   "cell_type": "code",
   "execution_count": null,
   "metadata": {
    "collapsed": true
   },
   "outputs": [],
   "source": [
    "np.where(features[2][1][:,:,:,:-1] == 1)"
   ]
  },
  {
   "cell_type": "code",
   "execution_count": null,
   "metadata": {
    "collapsed": true
   },
   "outputs": [],
   "source": [
    "results = sess.run(G_sample, feed_dict=feed_dict)"
   ]
  },
  {
   "cell_type": "code",
   "execution_count": null,
   "metadata": {
    "collapsed": true
   },
   "outputs": [],
   "source": [
    "sess.run(pred_real, feed_dict=feed_dict)"
   ]
  },
  {
   "cell_type": "code",
   "execution_count": null,
   "metadata": {
    "collapsed": true
   },
   "outputs": [],
   "source": [
    "np.max(results[0][:,:,:,:], axis=-1)"
   ]
  },
  {
   "cell_type": "code",
   "execution_count": null,
   "metadata": {
    "collapsed": true
   },
   "outputs": [],
   "source": [
    "features[1][0]"
   ]
  },
  {
   "cell_type": "code",
   "execution_count": null,
   "metadata": {
    "collapsed": true
   },
   "outputs": [],
   "source": [
    "mol = Chem.MolFromMol2File(features[1][0])\n",
    "mol.GetNumAtoms()"
   ]
  },
  {
   "cell_type": "code",
   "execution_count": null,
   "metadata": {
    "collapsed": true
   },
   "outputs": [],
   "source": [
    "from rdkit.Chem import AllChem\n",
    "AllChem.Compute2DCoords(mol)"
   ]
  },
  {
   "cell_type": "code",
   "execution_count": null,
   "metadata": {
    "collapsed": true
   },
   "outputs": [],
   "source": [
    "from rdkit.Chem import Draw\n",
    "\n",
    "Draw.MolToImage(mol)"
   ]
  }
 ],
 "metadata": {
  "kernelspec": {
   "display_name": "Python 2",
   "language": "python",
   "name": "python2"
  },
  "language_info": {
   "codemirror_mode": {
    "name": "ipython",
    "version": 2
   },
   "file_extension": ".py",
   "mimetype": "text/x-python",
   "name": "python",
   "nbconvert_exporter": "python",
   "pygments_lexer": "ipython2",
   "version": "2.7.13"
  }
 },
 "nbformat": 4,
 "nbformat_minor": 2
}
