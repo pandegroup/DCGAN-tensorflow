{
 "cells": [
  {
   "cell_type": "code",
   "execution_count": 1,
   "metadata": {
    "collapsed": true
   },
   "outputs": [],
   "source": [
    "%matplotlib inline\n",
    "\n",
    "import matplotlib\n",
    "import numpy as np\n",
    "import matplotlib.pyplot as plt\n",
    "\n",
    "from rdkit import Chem\n",
    "from rdkit.Chem import AllChem, rdMolTransforms, rdmolops\n",
    "import os\n",
    "import fnmatch\n",
    "import numpy as np\n",
    "import deepchem as dc\n",
    "from scipy.sparse import csr_matrix\n",
    "from sklearn.preprocessing import OneHotEncoder\n",
    "from sklearn.mixture import GMM\n",
    "import random\n",
    "from tflearn.activations import leaky_relu\n",
    "from deepchem.utils.rdkit_util import get_xyz_from_mol\n",
    "from deepchem.feat.rdkit_grid_featurizer import convert_atom_to_voxel, compute_centroid, rotate_molecules\n",
    "np.set_printoptions(precision=4)"
   ]
  },
  {
   "cell_type": "code",
   "execution_count": 2,
   "metadata": {
    "collapsed": true
   },
   "outputs": [],
   "source": [
    "from deepchem.feat.graph_features import ConvMolFeaturizer\n",
    "from deepchem.feat.adjacency_fingerprints import AdjacencyFingerprint"
   ]
  },
  {
   "cell_type": "code",
   "execution_count": 3,
   "metadata": {
    "collapsed": true
   },
   "outputs": [],
   "source": [
    "def featurize_mols(mol_files, max_n_atoms, n_bonds=5, get_angle=True):\n",
    "    featurizer = AdjacencyFingerprint(max_n_atoms=max_n_atoms)\n",
    "    features = []\n",
    "    for idx, mol_file in enumerate(mol_files):\n",
    "        if idx % 1 == 0:\n",
    "            print(idx)\n",
    "        try:\n",
    "            if \".pdb\" in mol_file:\n",
    "                mol = Chem.MolFromPDBFile(mol_file)\n",
    "            else:\n",
    "                mol = Chem.MolFromMol2File(mol_file)\n",
    "            if mol is None:\n",
    "                features.append(None)\n",
    "                continue\n",
    "            \n",
    "            mol_xyz = get_xyz_from_mol(mol)\n",
    "            centroid = compute_centroid(mol_xyz)\n",
    "            mol_xyz -= centroid\n",
    "            temp = np.zeros((max_n_atoms, 3))\n",
    "            try:\n",
    "                temp[:mol_xyz.shape[0]] = mol_xyz\n",
    "            except:\n",
    "                features.append(None)\n",
    "                continue\n",
    "            mol_xyz = temp\n",
    "            \n",
    "            torsions = []\n",
    "            torsion_tuples = []\n",
    "\n",
    "            torsion_matrix = np.zeros((n_bonds,1))\n",
    "            torsion_indices = np.zeros((n_bonds, max_n_atoms, 4)).astype(np.uint8)\n",
    "            subgraphs = np.zeros((n_bonds, max_n_atoms, max_n_atoms)).astype(np.uint8)\n",
    "            atom_index_of_bond = np.zeros((n_bonds, max_n_atoms)).astype(np.uint8)\n",
    "            rot_vectors = np.zeros((n_bonds, 3))\n",
    "            \n",
    "            #mol_xyz = rotate_molecules([mol_xyz])[0]\n",
    "\n",
    "            c = mol.GetConformer(0)\n",
    "            idx = 0\n",
    "            for bond in mol.GetBonds():\n",
    "                if bond.IsInRing(): \n",
    "                    continue\n",
    "                def calc_torsions(atom_i, atom_j, bond_idx):        \n",
    "                    exist_dihed = False\n",
    "                    for neighbor_j in atom_j.GetNeighbors():\n",
    "                        if neighbor_j.GetIdx() == atom_i.GetIdx():\n",
    "                            continue\n",
    "\n",
    "                        dihed_idx = 0\n",
    "                        for neighbor_i in atom_i.GetNeighbors():\n",
    "                            if neighbor_i.GetIdx() == atom_j.GetIdx():\n",
    "                                continue\n",
    "\n",
    "                            exist_dihed=True\n",
    "                            torsion_tuple = (neighbor_i.GetIdx(), atom_i.GetIdx(), atom_j.GetIdx(), neighbor_j.GetIdx())\n",
    "\n",
    "                            if get_angle:\n",
    "                                torsion_matrix[bond_idx][dihed_idx] = rdMolTransforms.GetDihedralRad(c, *torsion_tuple)\n",
    "                            torsion_indices[bond_idx][torsion_tuple[0]][dihed_idx*4] = 1\n",
    "                            torsion_indices[bond_idx][torsion_tuple[1]][dihed_idx*4+1] = 1\n",
    "                            torsion_indices[bond_idx][torsion_tuple[2]][dihed_idx*4+2] = 1\n",
    "                            torsion_indices[bond_idx][torsion_tuple[3]][dihed_idx*4+3] = 1\n",
    "                            \n",
    "                            broken_mol = rdmolops.FragmentOnBonds(mol, [bond.GetIdx()], addDummies=False)\n",
    "                            molfrags = rdmolops.GetMolFrags(broken_mol)\n",
    "                            if bond.GetEndAtom().GetIdx() in molfrags[0]:\n",
    "                                atoms_to_rotate = molfrags[0]\n",
    "                            else:\n",
    "                                atoms_to_rotate = molfrags[1]\n",
    "                            print(mol.GetNumAtoms())\n",
    "                            print(atoms_to_rotate)\n",
    "\n",
    "                            subgraph = np.zeros((max_n_atoms, max_n_atoms)).astype(np.uint8)\n",
    "                            for atom_idx in atoms_to_rotate:\n",
    "                                subgraph[atom_idx,atom_idx] = 1\n",
    "                            subgraphs[bond_idx, :, :] = subgraph\n",
    "                            atom_index_of_bond[bond_idx, atom_j.GetIdx()] = 1\n",
    "                            \n",
    "                            pos_i = c.GetAtomPosition(atom_i.GetIdx())\n",
    "                            pos_j = c.GetAtomPosition(atom_j.GetIdx())\n",
    "                            pt_i = np.array([pos_i.x, pos_i.y, pos_i.z])\n",
    "                            pt_j = np.array([pos_j.x, pos_j.y, pos_j.z])\n",
    "                            vec = pt_j - pt_i\n",
    "                            vec = vec / np.linalg.norm(vec)\n",
    "                            rot_vectors[bond_idx] = vec\n",
    "                \n",
    "                            bond_idx += 1\n",
    "                        break\n",
    "                    return(bond_idx)\n",
    "                \n",
    "                if idx >= n_bonds: \n",
    "                    break\n",
    "                idx = calc_torsions(bond.GetBeginAtom(), bond.GetEndAtom(), idx)\n",
    "                \n",
    "            graph_feat = featurizer.featurize([mol])[0]           \n",
    "            features.append((mol_file, mol_xyz, torsion_indices, torsion_matrix, subgraphs, atom_index_of_bond, rot_vectors, graph_feat))\n",
    "        except:\n",
    "            features.append(None)\n",
    "    return(features)"
   ]
  },
  {
   "cell_type": "code",
   "execution_count": 4,
   "metadata": {
    "scrolled": true
   },
   "outputs": [
    {
     "name": "stdout",
     "output_type": "stream",
     "text": [
      "0\n",
      "1\n",
      "2\n",
      "3\n",
      "4\n",
      "5\n",
      "6\n",
      "7\n",
      "8\n",
      "4\n",
      "(2, 3)\n",
      "9\n",
      "10\n",
      "11\n",
      "12\n",
      "13\n",
      "14\n",
      "15\n",
      "16\n",
      "17\n",
      "18\n",
      "19\n",
      "20\n",
      "21\n",
      "22\n",
      "23\n",
      "24\n",
      "25\n",
      "26\n",
      "27\n",
      "28\n",
      "29\n",
      "12\n",
      "(6, 7, 8)\n",
      "30\n",
      "31\n",
      "32\n",
      "33\n",
      "34\n",
      "35\n",
      "36\n",
      "9\n",
      "(2, 3, 5, 6, 7)\n",
      "37\n",
      "38\n",
      "39\n",
      "40\n",
      "41\n",
      "42\n",
      "43\n",
      "44\n",
      "45\n",
      "46\n",
      "47\n",
      "48\n",
      "49\n",
      "50\n",
      "51\n",
      "52\n",
      "12\n",
      "(4, 5, 9, 10, 11)\n",
      "53\n",
      "12\n",
      "(3, 4, 5, 6, 7, 8, 9, 10, 11)\n",
      "54\n",
      "55\n",
      "56\n",
      "57\n",
      "58\n",
      "59\n",
      "60\n",
      "61\n",
      "62\n",
      "63\n",
      "64\n",
      "65\n",
      "66\n",
      "67\n",
      "68\n",
      "69\n",
      "70\n",
      "71\n",
      "72\n",
      "73\n",
      "74\n",
      "75\n",
      "76\n",
      "77\n",
      "78\n",
      "79\n",
      "80\n",
      "81\n",
      "82\n",
      "83\n",
      "84\n",
      "85\n",
      "86\n",
      "87\n",
      "88\n",
      "89\n",
      "90\n",
      "91\n",
      "92\n",
      "93\n",
      "94\n",
      "95\n",
      "96\n",
      "10\n",
      "(0, 1, 2)\n",
      "97\n",
      "10\n",
      "(0, 1, 2)\n",
      "98\n",
      "10\n",
      "(0, 1, 2)\n",
      "99\n",
      "10\n",
      "(0, 1, 2)\n",
      "100\n",
      "10\n",
      "(0, 1, 2)\n",
      "101\n",
      "10\n",
      "(0, 1, 2)\n",
      "102\n",
      "10\n",
      "(0, 1, 2)\n",
      "103\n",
      "10\n",
      "(0, 1, 2)\n",
      "104\n",
      "10\n",
      "(0, 1, 2)\n",
      "105\n",
      "10\n",
      "(0, 1, 2)\n",
      "106\n",
      "10\n",
      "(0, 1, 2)\n",
      "107\n",
      "10\n",
      "(0, 1, 2)\n",
      "108\n",
      "10\n",
      "(0, 1, 2)\n",
      "109\n",
      "10\n",
      "(0, 1, 2)\n",
      "110\n",
      "10\n",
      "(0, 1, 2)\n",
      "111\n",
      "10\n",
      "(0, 1, 2)\n",
      "112\n",
      "10\n",
      "(0, 1, 2)\n",
      "113\n",
      "10\n",
      "(0, 1, 2)\n",
      "114\n",
      "10\n",
      "(0, 1, 2)\n",
      "115\n",
      "10\n",
      "(0, 1, 2)\n",
      "116\n",
      "10\n",
      "(0, 1, 2)\n",
      "117\n",
      "10\n",
      "(0, 1, 2)\n",
      "118\n",
      "10\n",
      "(0, 1, 2)\n",
      "119\n",
      "10\n",
      "(0, 1, 2)\n",
      "120\n",
      "10\n",
      "(0, 1, 2)\n",
      "121\n",
      "10\n",
      "(0, 1, 2)\n",
      "122\n",
      "10\n",
      "(0, 1, 2)\n",
      "123\n",
      "10\n",
      "(0, 1, 2)\n",
      "124\n",
      "10\n",
      "(0, 1, 2)\n",
      "125\n",
      "10\n",
      "(0, 1, 2)\n",
      "126\n",
      "10\n",
      "(0, 1, 2)\n",
      "127\n",
      "10\n",
      "(0, 1, 2)\n",
      "128\n",
      "10\n",
      "(0, 1, 2)\n",
      "129\n",
      "10\n",
      "(0, 1, 2)\n",
      "130\n",
      "10\n",
      "(0, 1, 2)\n",
      "131\n",
      "10\n",
      "(0, 1, 2)\n",
      "132\n",
      "10\n",
      "(0, 1, 2)\n",
      "133\n",
      "10\n",
      "(0, 1, 2)\n",
      "134\n",
      "10\n",
      "(0, 1, 2)\n",
      "135\n",
      "10\n",
      "(0, 1, 2)\n",
      "136\n",
      "10\n",
      "(0, 1, 2)\n",
      "137\n",
      "10\n",
      "(0, 1, 2)\n",
      "138\n",
      "10\n",
      "(0, 1, 2)\n",
      "139\n",
      "10\n",
      "(0, 1, 2)\n",
      "140\n",
      "10\n",
      "(0, 1, 2)\n",
      "141\n",
      "10\n",
      "(0, 1, 2)\n",
      "142\n",
      "10\n",
      "(0, 1, 2)\n",
      "143\n",
      "10\n",
      "(0, 1, 2)\n",
      "144\n",
      "10\n",
      "(0, 1, 2)\n",
      "145\n",
      "10\n",
      "(0, 1, 2)\n",
      "146\n",
      "10\n",
      "(0, 1, 2)\n",
      "147\n",
      "10\n",
      "(0, 1, 2)\n",
      "148\n",
      "10\n",
      "(0, 1, 2)\n",
      "149\n",
      "10\n",
      "(0, 1, 2)\n",
      "150\n",
      "10\n",
      "(0, 1, 2)\n",
      "151\n",
      "10\n",
      "(0, 1, 2)\n",
      "152\n",
      "10\n",
      "(0, 1, 2)\n",
      "153\n",
      "10\n",
      "(0, 1, 2)\n",
      "154\n",
      "10\n",
      "(0, 1, 2)\n",
      "155\n",
      "10\n",
      "(0, 1, 2)\n",
      "156\n",
      "10\n",
      "(0, 1, 2)\n",
      "157\n",
      "10\n",
      "(0, 1, 2)\n",
      "158\n",
      "10\n",
      "(0, 1, 2)\n",
      "159\n",
      "10\n",
      "(0, 1, 2)\n"
     ]
    }
   ],
   "source": [
    "import pickle\n",
    "max_n_atoms = 12\n",
    "S = 64\n",
    "feature_file = \"./dihed_xyz_features_pdbbind.pkl\"\n",
    "#if not os.path.exists(feature_file):\n",
    "if 1== 1:\n",
    "    pdbbind_dir = \"/home/evan/Documents/deep_docking/datasets/v2015/\"\n",
    "    def find_files(directory, pattern):\n",
    "        for root, dirs, files in os.walk(directory):\n",
    "            for basename in files:\n",
    "                if fnmatch.fnmatch(basename, pattern):\n",
    "                    filename = os.path.join(root, basename)\n",
    "                    yield filename\n",
    "    ligand_files = []\n",
    "    for f in find_files(pdbbind_dir, \"*ligand.mol2\"):\n",
    "        ligand_files += [f]\n",
    "    ligand_files = ligand_files[:96] + [\"/home/evan/Documents/deep_docking/alanine_dipeptide.pdb\"]*S  \n",
    "    features = featurize_mols(ligand_files, max_n_atoms, n_bonds=1)\n",
    "    with open(feature_file, \"wb\") as f:\n",
    "        pickle.dump(features, f, protocol=2)\n",
    "else:\n",
    "    with open(feature_file, \"rb\") as f:\n",
    "        features = pickle.load(f)"
   ]
  },
  {
   "cell_type": "code",
   "execution_count": 5,
   "metadata": {},
   "outputs": [
    {
     "name": "stdout",
     "output_type": "stream",
     "text": [
      "68\n"
     ]
    }
   ],
   "source": [
    "features = [f for f in features if f is not None]\n",
    "print(len(features))"
   ]
  },
  {
   "cell_type": "code",
   "execution_count": 22,
   "metadata": {
    "collapsed": true
   },
   "outputs": [],
   "source": [
    "import tensorflow as tf\n",
    "tf.reset_default_graph()\n",
    "alpha = 0.01\n",
    "n_layers = 1\n",
    "\n",
    "S = 4\n",
    "\n",
    "B = max_n_atoms\n",
    "D = 1\n",
    "p = 75\n",
    "\n",
    "z_dim = 32\n",
    "\n",
    "L_list = [p, 64, 64, 128, 256]\n",
    "\n",
    "dihed_per_bond = 1\n",
    "valence = 4\n",
    "\n"
   ]
  },
  {
   "cell_type": "code",
   "execution_count": 23,
   "metadata": {
    "collapsed": true
   },
   "outputs": [],
   "source": [
    "with tf.device('/gpu:0'):\n",
    "    x = tf.placeholder(tf.float32, [S, B, L_list[0]], name=\"atom_features\")\n",
    "    keep_prob = tf.placeholder(tf.float32, name=\"keep_prob\")\n",
    "    \n",
    "    adj_matrix = tf.placeholder(tf.float32, shape=[S, B, B], name=\"adj_matrix\")\n",
    "    \n",
    "    non_adj_matrix = tf.subtract(tf.ones_like(adj_matrix), adj_matrix)\n",
    "    \n",
    "    mol_xyz = tf.placeholder(tf.float32, shape=[S, B, 3], name=\"molxyz\")\n",
    "    \n",
    "    z = tf.random_normal([S, D, z_dim], mean=0, stddev=1)\n",
    "    \n",
    "    mol_noise = tf.random_normal([S,D,1], mean=0,stddev=0.01)\n",
    "    \n",
    "    dihed_indices = tf.placeholder(tf.float32, shape=[S, D, B, 4])\n",
    "    dihed_tensor = tf.placeholder(tf.float32, shape=[S, D, 1])\n",
    "    rot_vectors = tf.placeholder(tf.float32, shape=[S, D, 3])\n",
    "    atom_index_of_bond = tf.placeholder(tf.float32, shape=[S, D, B])\n",
    "    subgraph = tf.placeholder(tf.float32, shape=[S, D, B, B])\n"
   ]
  },
  {
   "cell_type": "code",
   "execution_count": 24,
   "metadata": {
    "collapsed": true
   },
   "outputs": [],
   "source": [
    "#adapted from: http://stackoverflow.com/questions/37009647/compute-pairwise-distance-in-a-batch-without-replicating-tensor-in-tensorflow\n",
    "def compute_distance_matrix(A):\n",
    "    r = tf.reduce_sum(A*A, 1) # turn r into column vector \n",
    "    r = tf.reshape(r, [-1, 1]) \n",
    "    D = r - 2*tf.matmul(A, tf.transpose(A)) + tf.transpose(r)\n",
    "    return(D)"
   ]
  },
  {
   "cell_type": "code",
   "execution_count": 25,
   "metadata": {},
   "outputs": [
    {
     "name": "stdout",
     "output_type": "stream",
     "text": [
      "building clades and adj\n",
      "0\n",
      "[12, 12]\n",
      "Building hidden layers\n"
     ]
    }
   ],
   "source": [
    "GW_list = [None for i in range(n_layers)]\n",
    "Gb_list = [None for i in range(n_layers)]\n",
    "\n",
    "DW_list = [None for i in range(n_layers)]\n",
    "Db_list = [None for i in range(n_layers)]\n",
    "\n",
    "\n",
    "Gh_list = [x]\n",
    "Dh_list = [x]\n",
    "\n",
    "adj_list = [adj_matrix]\n",
    "B_list = [B]\n",
    "clades_list = []\n",
    "graph_stride = 1.\n",
    "with tf.device('/gpu:0'):\n",
    "\n",
    "\n",
    "    print(\"building clades and adj\")\n",
    "    for i in range(n_layers):\n",
    "        print(i)\n",
    "        B_list.append(int(np.ceil(B_list[i]/graph_stride)))\n",
    "        print(B_list)\n",
    "        clades_list.append(tf.stack([tf.one_hot(range(0,B_list[i],int(graph_stride)), depth=B_list[i])]*S, axis=0)) \n",
    "\n",
    "\n",
    "        adj_temp = tf.matmul(clades_list[i], adj_list[i])\n",
    "        sub_adj = tf.matmul(adj_temp, tf.transpose(adj_temp, perm=[0, 2, 1]))\n",
    "        sub_adj = tf.minimum(sub_adj, 1.)\n",
    "        adj_list.append(sub_adj)\n",
    "\n",
    "    print(\"Building hidden layers\")\n",
    "    for layer_idx in range(n_layers):\n",
    "        GW_list[layer_idx] = tf.Variable(tf.truncated_normal([L_list[layer_idx], L_list[layer_idx+1]], seed=2017), name=\"GW_list%d\" %layer_idx)\n",
    "        Gb_list[layer_idx] = tf.Variable(tf.ones([1, L_list[layer_idx+1]]))\n",
    "\n",
    "        DW_list[layer_idx] = tf.Variable(tf.truncated_normal([L_list[layer_idx], L_list[layer_idx+1]], seed=2017), name=\"DW_list%d\" %layer_idx)\n",
    "        Db_list[layer_idx] = tf.Variable(tf.ones([1, L_list[layer_idx+1]]))\n",
    "\n",
    "    f_w1 = tf.Variable(tf.truncated_normal([L_list[n_layers], L_list[n_layers]]))\n",
    "    f_b1 = tf.Variable(tf.ones([L_list[n_layers]]))\n",
    "\n",
    "    g_w1_ini = tf.Variable(tf.truncated_normal([1, L_list[n_layers]*5+z_dim, 64]))\n",
    "    g_w1 = tf.tile(g_w1_ini, [S, 1, 1])\n",
    "\n",
    "    g_b1 = tf.Variable(tf.ones([1, 1, 64]))\n",
    "\n",
    "    g_w2_ini = tf.Variable(tf.truncated_normal([1, 64, 64]))\n",
    "    g_w2 = tf.tile(g_w2_ini, [S, 1, 1])\n",
    "\n",
    "    g_b2 = tf.Variable(tf.ones([1, 1, 64]))\n",
    "\n",
    "    g_w3_ini = tf.Variable(tf.truncated_normal([1, 64, 1]))\n",
    "    g_w3 = tf.tile(g_w3_ini, [S, 1, 1])\n",
    "    g_b3 = tf.Variable(tf.ones([1, 1, 1]))\n",
    "\n",
    "    dd_w1 = tf.Variable(tf.truncated_normal([L_list[n_layers]*5+1, 32]))\n",
    "    dd_b1 = tf.Variable(tf.truncated_normal([1, 32]))\n",
    "\n",
    "    dd_w2 = tf.Variable(tf.truncated_normal([32, 1]))\n",
    "    dd_b2 = tf.Variable(tf.truncated_normal([1,1]))\n",
    "\n",
    "    d_w1_ini = tf.Variable(tf.truncated_normal([1, B*(L_list[n_layers]*2+1), 32]))\n",
    "    d_w1 = tf.tile(d_w1_ini, [S, 1, 1])\n",
    "    d_b1 = tf.Variable(tf.ones([1, 1, 32]))\n",
    "\n",
    "    d_w2_ini = tf.Variable(tf.truncated_normal([1, 32, 1]))\n",
    "    d_w2 = tf.tile(d_w2_ini, [S, 1, 1])\n",
    "    d_b2 = tf.Variable(tf.ones([1, 1, 1]))\n",
    "\n",
    "    lam1 = tf.Variable(tf.constant(0.01))\n",
    "    lam2 = tf.Variable(tf.constant(0.01))\n",
    "    lam3 = tf.Variable(tf.constant(0.01))"
   ]
  },
  {
   "cell_type": "code",
   "execution_count": 26,
   "metadata": {
    "collapsed": true
   },
   "outputs": [],
   "source": [
    "def adjacency_conv_layer(x, W, b, adj, clades, L_in, L_out, layer_idx, S, B):\n",
    "    with tf.device('/gpu:0'):\n",
    "        print(\"layer_idx: %d\" %(layer_idx))\n",
    "        h = tf.matmul(adj, x, name=\"adj_mult_%d\" %layer_idx)\n",
    "        h = tf.reshape(h, shape=(S*B, L_in), name=\"adj_reshape_1_%d\" %layer_idx)\n",
    "\n",
    "        h = tf.matmul(h, W, name=\"adjconv_%d\" %layer_idx) + b\n",
    "    \n",
    "        h = tf.nn.tanh(h)\n",
    "        h = tf.reshape(h, (S, B, L_out), name=\"adj_reshape_2_%d\" %layer_idx)  \n",
    "\n",
    "        h = tf.matmul(clades, h)\n",
    "\n",
    "        print(\"within func h:\")\n",
    "        print(h)                                                                                                                              \n",
    "\n",
    "    return(h)"
   ]
  },
  {
   "cell_type": "code",
   "execution_count": 27,
   "metadata": {
    "collapsed": true
   },
   "outputs": [],
   "source": [
    "#t = sess.run(tf.matmul(dihed_indices[:,:,:,0], x))\n",
    "#t = np.reshape(t, [t.shape[0]*t.shape[1],t.shape[2]])"
   ]
  },
  {
   "cell_type": "code",
   "execution_count": 28,
   "metadata": {},
   "outputs": [
    {
     "data": {
      "text/plain": [
       "'\\ndef compute_dihedral_tensor(mols_batch, angle_tuples_batch):\\n    i_vec = tf.reshape(mols_batch, [S, B, 1, 3])\\n    i_vec = tf.tile(i_vec, [1, 1, B, 1])\\n\\n    j_vec = tf.reshape(mols_batch, [S, 1, B, 3])\\n    j_vec = tf.tile(j_vec, [1, B, 1, 1])\\n\\n    diff = tf.subtract(i_vec, j_vec)\\n    temp = tf.eye(B, batch_shape=[S])\\n    temp = tf.reshape(temp, [S, B, B, 1])\\n    temp = tf.tile(temp, [1, 1, 1, 3])\\n    diff = diff + temp\\n    diff = diff / tf.sqrt(tf.reduce_sum(tf.square(diff), axis=3, keep_dims=True))\\n    temp = tf.sqrt(tf.reduce_sum(tf.square(temp), axis=3, keep_dims=True))\\n    diff = tf.subtract(diff, temp)\\n\\n    print(\"diff should be [S, B, B, 3]\")\\n    print(diff)\\n\\n    ij = tf.tile(tf.reshape(diff, [S, B, 1, B, 3]), [1, 1, B, 1, 1])\\n    ik = tf.tile(tf.reshape(diff, [S, B, B, 1, 3]), [1, 1, 1, B, 1])\\n    cross = tf.cross(ij, ik)\\n    cross = cross / tf.sqrt(tf.reduce_sum(tf.square(cross), axis=4, keep_dims=True))\\n    \\n    ijk = tf.tile(tf.reshape(cross, [S, B, B, 1, B, 3]), [1m 1])\\n    \\n    dps = tf.reduce_sum(tf.multiply(ij ,ik), axis=4)\\n    #dps = tf.where(tf.is_nan(dps), tf.ones_like(dps) * 0., dps)\\n    print(\"dps should be [S, B, B, B]\")\\n    print(dps)\\n\\n    #angles_gen = tf.acos(tf.clip_by_value(dps, -1.0, 1.0))\\n    angles_computed = tf.where(tf.is_nan(dps), tf.zeros_like(dps), dps)\\n    angles_computed = tf.multiply(angles_computed, angle_tuples_batch)\\n    return(angles_computed)\\n'"
      ]
     },
     "execution_count": 28,
     "metadata": {},
     "output_type": "execute_result"
    }
   ],
   "source": [
    "def compute_angle_tensor(mols_batch, angle_tuples_batch):\n",
    "    i_vec = tf.reshape(mols_batch, [S, B, 1, 3])\n",
    "    i_vec = tf.tile(i_vec, [1, 1, B, 1])\n",
    "\n",
    "    j_vec = tf.reshape(mols_batch, [S, 1, B, 3])\n",
    "    j_vec = tf.tile(j_vec, [1, B, 1, 1])\n",
    "\n",
    "    diff = tf.subtract(i_vec, j_vec)\n",
    "    temp = tf.eye(B, batch_shape=[S])\n",
    "    temp = tf.reshape(temp, [S, B, B, 1])\n",
    "    temp = tf.tile(temp, [1, 1, 1, 3])\n",
    "    diff = diff + temp\n",
    "    diff = diff / tf.sqrt(tf.reduce_sum(tf.square(diff), axis=3, keep_dims=True))\n",
    "    temp = tf.sqrt(tf.reduce_sum(tf.square(temp), axis=3, keep_dims=True))\n",
    "    diff = tf.subtract(diff, temp)\n",
    "\n",
    "    print(\"diff should be [S, B, B, 3]\")\n",
    "    print(diff)\n",
    "\n",
    "    ij = tf.tile(tf.reshape(diff, [S, B, 1, B, 3]), [1, 1, B, 1, 1])\n",
    "    ik = tf.tile(tf.reshape(diff, [S, B, B, 1, 3]), [1, 1, 1, B, 1])\n",
    "    dps = tf.reduce_sum(tf.multiply(ij ,ik), axis=4)\n",
    "    #dps = tf.where(tf.is_nan(dps), tf.ones_like(dps) * 0., dps)\n",
    "    print(\"dps should be [S, B, B, B]\")\n",
    "    print(dps)\n",
    "\n",
    "    #angles_gen = tf.acos(tf.clip_by_value(dps, -1.0, 1.0))\n",
    "    angles_computed = tf.where(tf.is_nan(dps), tf.zeros_like(dps), dps)\n",
    "    angles_computed = tf.multiply(angles_computed, angle_tuples_batch)\n",
    "    return(angles_computed)\n",
    "\n",
    "def compute_dist_tensor(mols_batch):\n",
    "    dist_matrix = tf.concat([tf.reshape(compute_distance_matrix(tf.reshape(mol, [B, 3])), (1, B, B)) for mol in tf.split(mols_batch, S, axis=0)], axis=0)\n",
    "    #dist_matrix = tf.where(tf.is_nan(dist_matrix), tf.ones_like(dist_matrix) * 0., dist_matrix)\n",
    "    print(\"dist_matrix\")\n",
    "    print(dist_matrix)\n",
    "    #dist_matrix = compute_distance_matrix(mol)\n",
    "    return(dist_matrix)\n",
    "\n",
    "def compute_rot_matrix(t, vec):\n",
    "    x, y, z = vec[0], vec[1], vec[2]\n",
    "    rot_matrix = tf.reshape(tf.stack([tf.cos(t) + tf.square(x) * (1 - tf.cos(t)), \n",
    "                               x*y*(1-tf.cos(t)) - z*tf.sin(t),\n",
    "                               x*z*(1-tf.cos(t)) + y*tf.sin(t),\n",
    "                              y*x*(1-tf.cos(t)) + z*tf.sin(t),\n",
    "                               tf.cos(t) + y*y*(1-tf.cos(t)),\n",
    "                               y*z*(1-tf.cos(t)) - x*tf.sin(t),\n",
    "                              z*x*(1-tf.cos(t)) - y*tf.sin(t),\n",
    "                               z*y*(1-tf.cos(t)) + x*tf.sin(t),\n",
    "                               tf.cos(t)+ z*z*(1-tf.cos(t))]), (3,3))\n",
    "    return(rot_matrix)\n",
    "\n",
    "\"\"\"\n",
    "def compute_dihedral_tensor(mols_batch, angle_tuples_batch):\n",
    "    i_vec = tf.reshape(mols_batch, [S, B, 1, 3])\n",
    "    i_vec = tf.tile(i_vec, [1, 1, B, 1])\n",
    "\n",
    "    j_vec = tf.reshape(mols_batch, [S, 1, B, 3])\n",
    "    j_vec = tf.tile(j_vec, [1, B, 1, 1])\n",
    "\n",
    "    diff = tf.subtract(i_vec, j_vec)\n",
    "    temp = tf.eye(B, batch_shape=[S])\n",
    "    temp = tf.reshape(temp, [S, B, B, 1])\n",
    "    temp = tf.tile(temp, [1, 1, 1, 3])\n",
    "    diff = diff + temp\n",
    "    diff = diff / tf.sqrt(tf.reduce_sum(tf.square(diff), axis=3, keep_dims=True))\n",
    "    temp = tf.sqrt(tf.reduce_sum(tf.square(temp), axis=3, keep_dims=True))\n",
    "    diff = tf.subtract(diff, temp)\n",
    "\n",
    "    print(\"diff should be [S, B, B, 3]\")\n",
    "    print(diff)\n",
    "\n",
    "    ij = tf.tile(tf.reshape(diff, [S, B, 1, B, 3]), [1, 1, B, 1, 1])\n",
    "    ik = tf.tile(tf.reshape(diff, [S, B, B, 1, 3]), [1, 1, 1, B, 1])\n",
    "    cross = tf.cross(ij, ik)\n",
    "    cross = cross / tf.sqrt(tf.reduce_sum(tf.square(cross), axis=4, keep_dims=True))\n",
    "    \n",
    "    ijk = tf.tile(tf.reshape(cross, [S, B, B, 1, B, 3]), [1m 1])\n",
    "    \n",
    "    dps = tf.reduce_sum(tf.multiply(ij ,ik), axis=4)\n",
    "    #dps = tf.where(tf.is_nan(dps), tf.ones_like(dps) * 0., dps)\n",
    "    print(\"dps should be [S, B, B, B]\")\n",
    "    print(dps)\n",
    "\n",
    "    #angles_gen = tf.acos(tf.clip_by_value(dps, -1.0, 1.0))\n",
    "    angles_computed = tf.where(tf.is_nan(dps), tf.zeros_like(dps), dps)\n",
    "    angles_computed = tf.multiply(angles_computed, angle_tuples_batch)\n",
    "    return(angles_computed)\n",
    "\"\"\""
   ]
  },
  {
   "cell_type": "code",
   "execution_count": 29,
   "metadata": {
    "collapsed": true
   },
   "outputs": [],
   "source": [
    "def generator(W_list, b_list, h_list, L_list, n_layers, mols):\n",
    "    for layer_idx in range(n_layers):\n",
    "        h_list.append(tf.nn.dropout(adjacency_conv_layer(h_list[layer_idx], W_list[layer_idx],\n",
    "                                                     b_list[layer_idx], adj_list[layer_idx], \n",
    "                                                     clades_list[layer_idx],\n",
    "                                                     L_list[layer_idx], L_list[layer_idx+1],\n",
    "                                                     layer_idx, S, B_list[layer_idx]), keep_prob))\n",
    "    L_final = L_list[n_layers]  \n",
    "    \n",
    "    print(\"h_list[-1]\")\n",
    "    print(h_list[-1])\n",
    "    \n",
    "    print(\"B_list\")\n",
    "    print(B_list)\n",
    "    \n",
    "    fingerprints = tf.tile(tf.reshape(tf.nn.tanh(tf.matmul(tf.reduce_sum(h_list[-1], axis=1), f_w1) + f_b1), [S, 1, L_final]), [1, D, 1])\n",
    "    h_final = h_list[-1]\n",
    "    \n",
    "    d0 = []\n",
    "    for l in range(0, valence*dihed_per_bond):\n",
    "        d0.append(tf.matmul(dihed_indices[:,:,:,l], h_final, name=\"dihed_mult\"))\n",
    "    \n",
    "    d0 = tf.concat(d0, axis=2)\n",
    "    print(\"d0 should be shape %s\" %(str((S, D, L_list[n_layers]*4))))\n",
    "    d0 = tf.concat([d0, fingerprints, z], axis=2)\n",
    "    \n",
    "    #PREDICT ANGLES:\n",
    "    g_h1 = tf.nn.dropout(tf.nn.tanh(tf.matmul(d0, g_w1) + g_b1), keep_prob)\n",
    "    #g_h1 = tf.reshape(g_h1, [S, 5, 16])\n",
    "    print(\"g_h1\")\n",
    "    print(g_h1)\n",
    "    g_h2 = tf.nn.tanh(tf.matmul(g_h1, g_w2) + g_b2)\n",
    "\n",
    "    g_h3 = tf.reshape(tf.matmul(g_h2, g_w3) + g_b3, [S, D, 1])\n",
    "    g_h3 = tf.atan2(tf.sin(g_h3), tf.cos(g_h3))\n",
    "    \n",
    "    \n",
    "    #ROTATE MOLECULE: \n",
    "    #for i in range(n_bonds):\n",
    "        #rotation point: atom_index_of_bond * mol_xyz\n",
    "        #\n",
    "        #rot_mat = compute_rotation_matrix(old_angle - g_h2, axis)\n",
    "        #new_xyz = rot_mat*subgraph*xyz + (1-subgraph)*xyz\n",
    "    \n",
    "    new_mols = []\n",
    "    for i in range(0,S):\n",
    "        mol = mol_xyz[i]\n",
    "        for j in range(0,D):\n",
    "            rot_point = tf.matmul(tf.reshape(atom_index_of_bond[i,j,:], (1, B)), mol)\n",
    "            mol = tf.subtract(mol, rot_point)\n",
    "            rot_mat = compute_rot_matrix(tf.subtract(g_h3[i, j], dihed_tensor[i, j]), rot_vectors[i, j])\n",
    "            if i ==0 and j ==0:\n",
    "                rot_mat_i = rot_mat\n",
    "            \n",
    "            frag_i = tf.transpose(tf.matmul(subgraph[i, j, :, :], mol), perm=[1,0])\n",
    "            new_xyz = tf.transpose(tf.matmul(rot_mat, frag_i), perm=[1,0])\n",
    "            \n",
    "            other_subgraph = tf.subtract(tf.eye(B), subgraph[i, j, :, :])\n",
    "            mol = tf.add(new_xyz, tf.matmul(other_subgraph, mol))\n",
    "        new_mols.append(mol)\n",
    "    new_mol = tf.stack(new_mols, axis=0)\n",
    "            \n",
    "    \"\"\"\n",
    "    for i in range(D):\n",
    "        rot_point = tf.matmul(tf.reshape(atom_index_of_bond[:,i,:], (S, 1, B)), mol_xyz)\n",
    "        tf.subtract(mol_xyz, rot_point)\n",
    "        rot_mat = []\n",
    "        for j in range(0,S):\n",
    "            rot_mat.append(tf.reshape(compute_rot_matrix(tf.subtract(g_h3[j, i], dihed_tensor[j, i]), rot_vectors[j, i]), [1, 3, 3]))\n",
    "        rot_mat = tf.concat(rot_mat, axis=0)\n",
    "        if i == 0:\n",
    "            rot_mat_i = rot_mat\n",
    "            \n",
    "        frag_i = tf.transpose(tf.matmul(subgraph[:, i, :, :], mol_xyz), perm=[0,2,1])\n",
    "        new_xyz = tf.transpose(tf.matmul(rot_mat, frag_i), perm=[0,2,1])\n",
    "        \n",
    "        other_subgraph = tf.subtract(tf.tile(tf.reshape(tf.eye(B), [1, B, B]), [S, 1, 1]), subgraph[:, i, :, :])\n",
    "        new_xyz = tf.add(new_xyz, tf.matmul(other_subgraph, mol_xyz))\n",
    "    \"\"\"\n",
    "    return(new_mol, g_h3, rot_mat_i)\n",
    "\n"
   ]
  },
  {
   "cell_type": "code",
   "execution_count": null,
   "metadata": {
    "collapsed": true
   },
   "outputs": [],
   "source": []
  },
  {
   "cell_type": "code",
   "execution_count": 30,
   "metadata": {
    "collapsed": true
   },
   "outputs": [],
   "source": [
    "def discriminator(W_list, b_list, h_list, L_list, n_layers, mol_real, mol_gen, dihed):\n",
    "    with tf.device('/gpu:0'):\n",
    "        for layer_idx in range(n_layers):\n",
    "            h_list.append(tf.nn.dropout(adjacency_conv_layer(h_list[layer_idx], W_list[layer_idx],\n",
    "                                             b_list[layer_idx], adj_list[layer_idx], \n",
    "                                             clades_list[layer_idx],\n",
    "                                             L_list[layer_idx], L_list[layer_idx+1],\n",
    "                                             layer_idx, S, B_list[layer_idx]), keep_prob))        \n",
    "        #DIHEDRAL LOSS:\n",
    "        fingerprints = tf.tile(tf.reshape(tf.nn.tanh(tf.matmul(tf.reduce_sum(h_list[-1], axis=1), f_w1) + f_b1), [S, 1, L_list[n_layers]]), [1, D, 1])\n",
    "        h_final = h_list[-1]\n",
    "\n",
    "        d0 = []\n",
    "        for l in range(0, valence*dihed_per_bond):\n",
    "            d0.append(tf.matmul(dihed_indices[:,:,:,l], h_final, name=\"dihed_mult\"))\n",
    "\n",
    "        d0 = tf.concat(d0, axis=2)\n",
    "        print(\"d0 should be shape %s\" %(str((S, D, L_list[n_layers]*4))))\n",
    "        print(d0)\n",
    "        d0 = tf.concat([d0, fingerprints, dihed], axis=2)\n",
    "        d0 = tf.reshape(d0, [S*D, L_list[n_layers]*4 + L_list[n_layers]+1])\n",
    "        \n",
    "        d1 = tf.nn.tanh(tf.matmul(d0, dd_w1) + dd_b1)\n",
    "        d2 = tf.nn.tanh(tf.matmul(d1, dd_w2) + dd_b2)\n",
    "        d2 = tf.reshape(d2, [S, D])\n",
    "        d2 = tf.reduce_mean(d2, axis=1, keep_dims=True)\n",
    "        \n",
    "        \n",
    "        #COMPUTE CONTACT LOSS:\n",
    "        \n",
    "        dist_real = compute_dist_tensor(mol_real)\n",
    "        dist_fake = compute_dist_tensor(mol_gen)\n",
    "        \n",
    "        dist_loss = tf.multiply(tf.reduce_sum(tf.squared_difference(dist_fake, dist_real), axis=[1,2]), lam1)\n",
    "        \n",
    "        \"\"\"\n",
    "        contact_dist = tf.multiply(dist_matrix_gen, non_adj_matrix)\n",
    "        contact_loss = tf.multiply(tf.reshape(tf.reduce_mean(tf.exp(tf.multiply(tf.multiply(tf.subtract(contact_dist, 2.), -1.), 3.)), axis=[1,2]), (S,1)), lam3)        \n",
    "        \n",
    "        feat_i = tf.reshape(h_final, (S, B, 1, L_list[n_layers]))\n",
    "        feat_i = tf.tile(feat_i, [1, 1, B, 1])\n",
    "        \n",
    "        feat_j = tf.reshape(h_final, (S, B, 1, L_list[n_layers]))\n",
    "        feat_j = tf.transpose(feat_j, perm=[0, 2, 1, 3])\n",
    "        feat_j = tf.tile(feat_j, [1, B, 1, 1])\n",
    "        \n",
    "        d_h1 = tf.concat([tf.reshape(dist_matrix_gen, [S, B, B, 1]), feat_i, feat_j], axis=3)\n",
    "        d_h1 = tf.reshape(d_h1, [S, B, B*(L_list[n_layers]*2+1)])\n",
    "        d_h2 = tf.nn.dropout(tf.nn.tanh(tf.matmul(d_h1, d_w1) + d_b1), keep_prob)\n",
    "        d_h2 = tf.divide(tf.reduce_sum(tf.matmul(d_h2, d_w2) + d_b2, axis=1), n_bonds)#, axis=1\n",
    "        print(\"d_h2\")\n",
    "        print(d_h2)\n",
    "        \"\"\"\n",
    "    \n",
    "    return(tf.add(0., dist_loss))"
   ]
  },
  {
   "cell_type": "code",
   "execution_count": 31,
   "metadata": {
    "collapsed": true
   },
   "outputs": [],
   "source": [
    "\n",
    "theta_D = DW_list[:n_layers] + Db_list[:n_layers] + [d_w1_ini, d_b1, d_w2_ini, d_b2, dd_w1, dd_b1, dd_w2, dd_b2, lam1]\n",
    "\n",
    "theta_G =  GW_list[:n_layers] + Gb_list[:n_layers] + [g_w1_ini, g_b1, g_w2_ini, g_b2, g_w3_ini, g_b3, f_w1, f_b1]"
   ]
  },
  {
   "cell_type": "code",
   "execution_count": 32,
   "metadata": {
    "scrolled": true
   },
   "outputs": [
    {
     "name": "stdout",
     "output_type": "stream",
     "text": [
      "layer_idx: 0\n",
      "within func h:\n",
      "Tensor(\"MatMul_2:0\", shape=(4, 12, 64), dtype=float32, device=/device:GPU:0)\n",
      "h_list[-1]\n",
      "Tensor(\"dropout/mul:0\", shape=(4, 12, 64), dtype=float32)\n",
      "B_list\n",
      "[12, 12]\n",
      "d0 should be shape (4, 1, 256)\n",
      "g_h1\n",
      "Tensor(\"dropout_1/mul:0\", shape=(4, 1, 64), dtype=float32)\n",
      "layer_idx: 0\n",
      "within func h:\n",
      "Tensor(\"MatMul_23:0\", shape=(4, 12, 64), dtype=float32, device=/device:GPU:0)\n",
      "d0 should be shape (4, 1, 256)\n",
      "Tensor(\"concat_2:0\", shape=(4, 1, 256), dtype=float32, device=/device:GPU:0)\n",
      "dist_matrix\n",
      "Tensor(\"concat_4:0\", shape=(4, 12, 12), dtype=float32, device=/device:GPU:0)\n",
      "dist_matrix\n",
      "Tensor(\"concat_5:0\", shape=(4, 12, 12), dtype=float32, device=/device:GPU:0)\n",
      "layer_idx: 0\n",
      "within func h:\n",
      "Tensor(\"MatMul_35:0\", shape=(4, 12, 64), dtype=float32, device=/device:GPU:0)\n",
      "d0 should be shape (4, 1, 256)\n",
      "Tensor(\"concat_6:0\", shape=(4, 1, 256), dtype=float32, device=/device:GPU:0)\n",
      "dist_matrix\n",
      "Tensor(\"concat_8:0\", shape=(4, 12, 12), dtype=float32, device=/device:GPU:0)\n",
      "dist_matrix\n",
      "Tensor(\"concat_9:0\", shape=(4, 12, 12), dtype=float32, device=/device:GPU:0)\n"
     ]
    }
   ],
   "source": [
    "import time \n",
    "\n",
    "#with tf.device('/gpu:0'):\n",
    "if 1==1:\n",
    "\n",
    "    G_sample, dihed, rot_mat_i = generator(GW_list, Gb_list, Gh_list, L_list, n_layers, mol_xyz)\n",
    "\n",
    "    D_real = discriminator(DW_list, Db_list, Dh_list, L_list, n_layers, mol_xyz, mol_xyz, dihed_tensor + mol_noise)\n",
    "    D_fake = discriminator(DW_list, Db_list, Dh_list, L_list, n_layers, mol_xyz, G_sample, dihed)\n",
    "\n",
    "\n",
    "    # WGAN lipschitz-penalty\n",
    "    alpha = tf.random_uniform(\n",
    "        shape=[S,1,1], \n",
    "        minval=0.,\n",
    "        maxval=1.\n",
    "    )\n",
    "    differences = dihed_tensor - dihed\n",
    "    interpolates = dihed_tensor + (alpha*differences)\n",
    "    gradients = tf.gradients(discriminator(DW_list, Db_list, Dh_list, L_list, n_layers, mol_xyz, mol_xyz, interpolates), [interpolates])[0]\n",
    "    slopes = tf.sqrt(tf.reduce_sum(tf.square(gradients), reduction_indices=[1,2]))\n",
    "    gradient_penalty = tf.reduce_mean((slopes-1.)**2)\n",
    "    LAMBDA = 10\n",
    "    disc_cost += LAMBDA*gradient_penalty\n",
    "\n",
    "    gen_params = theta_G\n",
    "    disc_params = theta_D\n",
    "\n",
    "    gen_train_op = tf.train.AdamOptimizer(learning_rate=1e-4, beta1=0.5, beta2=0.9).minimize(gen_cost, var_list=gen_params)\n",
    "    disc_train_op = tf.train.AdamOptimizer(learning_rate=1e-4, beta1=0.5, beta2=0.9).minimize(disc_cost, var_list=disc_params)\n",
    "\n",
    "\n",
    "    D_loss = tf.reduce_mean(D_real) - tf.reduce_mean(D_fake)\n",
    "    G_loss = -tf.reduce_mean(D_fake)\n",
    "    clip_D = []\n",
    "    for p in theta_D[:-1]:\n",
    "        #print(p)\n",
    "        clip_D.append(p.assign(tf.clip_by_value(p, -0.01, 0.01)))\n",
    "    clip_D.append(lam1.assign(tf.clip_by_value(lam1, 0.001, 0.01)))\n",
    "\n",
    "    \n",
    "    D_solver = (tf.train.RMSPropOptimizer(learning_rate=5e-4)\n",
    "                .minimize(-D_loss, var_list=theta_D))\n",
    "    G_solver = (tf.train.RMSPropOptimizer(learning_rate=5e-4)\n",
    "                .minimize(G_loss, var_list=theta_G))\n",
    "\n",
    "mb_size = S\n",
    "\n",
    "sess = tf.Session(config=tf.ConfigProto(log_device_placement=True))\n",
    "sess.run(tf.global_variables_initializer())\n",
    "\n",
    "\n",
    "preds = []\n",
    "\n",
    "d_losses = []\n",
    "g_losses = []\n",
    "#print(sess.run(label_placeholder))\n",
    "\n",
    "\n",
    "    "
   ]
  },
  {
   "cell_type": "code",
   "execution_count": 33,
   "metadata": {
    "collapsed": true
   },
   "outputs": [],
   "source": [
    "def construct_feed_dict(X, start=None,\n",
    "                      stop=None, y=None,\n",
    "                      keep_prob_val=1.0, train=True,\n",
    "                       shuffle_inds=True):\n",
    "    a = time.time()\n",
    "    if start is None:\n",
    "      start = 0\n",
    "      stop = len(X)\n",
    "    \n",
    "    inds = range(start, stop)\n",
    "    if shuffle_inds:\n",
    "        random.shuffle(inds)\n",
    "\n",
    "    atom_adj_batch = [X[idx][7][0] for idx in inds]\n",
    "    \n",
    "    A_batch = np.array([X[idx][7][1] for idx in inds])\n",
    "    mol_xyz_batch = [X[idx][1] for idx in inds]\n",
    "    dihed_tuples_batch = [X[idx][2] for idx in inds]\n",
    "    dihed_tensor_batch = [X[idx][3] for idx in inds]\n",
    "    subgraph_batch = [X[idx][4] for idx in inds]\n",
    "    atom_index_of_bond_batch = [X[idx][5] for idx in inds]\n",
    "    rot_vectors_batch = [X[idx][6] for idx in inds]\n",
    "    \n",
    "\n",
    "    feed_dict = {x: A_batch,\n",
    "                 adj_matrix: atom_adj_batch,\n",
    "                 mol_xyz: mol_xyz_batch,\n",
    "                 dihed_indices: dihed_tuples_batch,\n",
    "                 dihed_tensor: dihed_tensor_batch,\n",
    "                 subgraph: subgraph_batch,\n",
    "                 atom_index_of_bond: atom_index_of_bond_batch,\n",
    "                 rot_vectors: rot_vectors_batch,\n",
    "                 keep_prob: keep_prob_val\n",
    "                }\n",
    "    t = time.time()-a\n",
    "    #print(\"Construct feed dict: %f\" %(t))\n",
    "    return(feed_dict)\n",
    "\n"
   ]
  },
  {
   "cell_type": "code",
   "execution_count": 34,
   "metadata": {},
   "outputs": [
    {
     "data": {
      "text/plain": [
       "array([[[0, 0, 0, 0, 0, 0, 0, 0, 0, 0, 0, 0],\n",
       "        [0, 0, 0, 0, 0, 0, 0, 0, 0, 0, 0, 0],\n",
       "        [0, 0, 1, 0, 0, 0, 0, 0, 0, 0, 0, 0],\n",
       "        [0, 0, 0, 1, 0, 0, 0, 0, 0, 0, 0, 0],\n",
       "        [0, 0, 0, 0, 0, 0, 0, 0, 0, 0, 0, 0],\n",
       "        [0, 0, 0, 0, 0, 0, 0, 0, 0, 0, 0, 0],\n",
       "        [0, 0, 0, 0, 0, 0, 0, 0, 0, 0, 0, 0],\n",
       "        [0, 0, 0, 0, 0, 0, 0, 0, 0, 0, 0, 0],\n",
       "        [0, 0, 0, 0, 0, 0, 0, 0, 0, 0, 0, 0],\n",
       "        [0, 0, 0, 0, 0, 0, 0, 0, 0, 0, 0, 0],\n",
       "        [0, 0, 0, 0, 0, 0, 0, 0, 0, 0, 0, 0],\n",
       "        [0, 0, 0, 0, 0, 0, 0, 0, 0, 0, 0, 0]]], dtype=uint8)"
      ]
     },
     "execution_count": 34,
     "metadata": {},
     "output_type": "execute_result"
    }
   ],
   "source": [
    "features[0][4]"
   ]
  },
  {
   "cell_type": "code",
   "execution_count": 35,
   "metadata": {
    "collapsed": true
   },
   "outputs": [],
   "source": [
    "def generate_molecule(mol_file, new_coords, new_file):\n",
    "    print(mol_file)\n",
    "    print(new_coords[:4])\n",
    "    if \".pdb\" in mol_file:\n",
    "        mol = Chem.MolFromPDBFile(mol_file)\n",
    "    else:\n",
    "        mol = Chem.MolFromMol2File(mol_file)\n",
    "    c = mol.GetConformer(0)\n",
    "    for i in range(mol.GetNumAtoms()):\n",
    "        c.SetAtomPosition(i, new_coords[i].tolist())\n",
    "    Chem.MolToMolFile(mol, new_file)"
   ]
  },
  {
   "cell_type": "code",
   "execution_count": 36,
   "metadata": {},
   "outputs": [
    {
     "data": {
      "text/plain": [
       "'/home/evan/Documents/deep_docking/datasets/v2015/2ohk/2ohk_ligand.mol2'"
      ]
     },
     "execution_count": 36,
     "metadata": {},
     "output_type": "execute_result"
    }
   ],
   "source": [
    "features[1][0]"
   ]
  },
  {
   "cell_type": "code",
   "execution_count": 37,
   "metadata": {
    "scrolled": true
   },
   "outputs": [
    {
     "name": "stdout",
     "output_type": "stream",
     "text": [
      "0.281429052353\n",
      "Training epoch 0\n",
      "Iter: 0\n",
      "D loss: -0.6165\n",
      "G_loss: -0.3613\n",
      "real:\n",
      "[[-0.0725 -0.0715 -1.7212]\n",
      " [-0.8925  0.3145 -0.4713]\n",
      " [-0.2245 -0.1035  1.0027]\n",
      " [ 1.1895 -0.1395  1.1898]]\n",
      "fake:\n",
      "[[ 0.152   0.032  -2.724 ]\n",
      " [-0.668   0.418  -1.474 ]\n",
      " [ 0.      0.      0.    ]\n",
      " [ 0.4745  0.9955  0.9053]]\n",
      "fake:\n",
      "[[ 0.2913  0.7867  0.5443]\n",
      " [-0.9553  0.2093  0.2087]\n",
      " [ 0.0503 -0.5807  0.8125]]\n",
      "0.18187\n"
     ]
    },
    {
     "data": {
      "image/png": "[encoded data removed]",
      "text/plain": [
       "<matplotlib.figure.Figure at 0x7f1527d528d0>"
      ]
     },
     "metadata": {},
     "output_type": "display_data"
    },
    {
     "name": "stdout",
     "output_type": "stream",
     "text": [
      "/home/evan/Documents/deep_docking/datasets/v2015/4wks/4wks_ligand.mol2\n",
      "[[ 0.152   0.032  -2.724 ]\n",
      " [-0.668   0.418  -1.474 ]\n",
      " [ 0.      0.      0.    ]\n",
      " [-0.553  -1.0512  0.7905]]\n",
      "0.0363399982452\n",
      "Training epoch 100\n",
      "Iter: 100\n",
      "D loss: -0.0558\n",
      "G_loss: -0.04459\n",
      "real:\n",
      "[[-0.0725 -0.0715 -1.7212]\n",
      " [-0.8925  0.3145 -0.4713]\n",
      " [-0.2245 -0.1035  1.0027]\n",
      " [ 1.1895 -0.1395  1.1898]]\n",
      "fake:\n",
      "[[ 0.152   0.032  -2.724 ]\n",
      " [-0.668   0.418  -1.474 ]\n",
      " [ 0.      0.      0.    ]\n",
      " [ 0.9312  0.8569  0.659 ]]\n",
      "fake:\n",
      "[[-0.4282  0.4602  0.7777]\n",
      " [-0.7999 -0.5934 -0.0893]\n",
      " [ 0.4204 -0.6604  0.6222]]\n",
      "-2.01651\n"
     ]
    },
    {
     "data": {
      "image/png": "[encoded data removed]",
      "text/plain": [
       "<matplotlib.figure.Figure at 0x7f158c8e6a10>"
      ]
     },
     "metadata": {},
     "output_type": "display_data"
    },
    {
     "name": "stdout",
     "output_type": "stream",
     "text": [
      "/home/evan/Documents/deep_docking/datasets/v2015/4wks/4wks_ligand.mol2\n",
      "[[ 0.152   0.032  -2.724 ]\n",
      " [-0.668   0.418  -1.474 ]\n",
      " [ 0.      0.      0.    ]\n",
      " [-0.7746  0.0307  1.1978]]\n",
      "0.0211710929871\n",
      "Training epoch 200\n",
      "Iter: 200\n",
      "D loss: -0.155\n",
      "G_loss: -0.01746\n",
      "real:\n",
      "[[-0.0725 -0.0715 -1.7212]\n",
      " [-0.8925  0.3145 -0.4713]\n",
      " [-0.2245 -0.1035  1.0027]\n",
      " [ 1.1895 -0.1395  1.1898]]\n",
      "fake:\n",
      "[[ 0.152   0.032  -2.724 ]\n",
      " [-0.668   0.418  -1.474 ]\n",
      " [ 0.      0.      0.    ]\n",
      " [ 1.2114 -0.7499  0.0764]]\n",
      "fake:\n",
      "[[-0.3381 -0.8696  0.3598]\n",
      " [ 0.5513 -0.4929 -0.6732]\n",
      " [ 0.7627 -0.0293  0.646 ]]\n",
      "-2.02252\n"
     ]
    },
    {
     "data": {
      "image/png": "[encoded data removed]",
      "text/plain": [
       "<matplotlib.figure.Figure at 0x7f156c79ff10>"
      ]
     },
     "metadata": {},
     "output_type": "display_data"
    },
    {
     "name": "stdout",
     "output_type": "stream",
     "text": [
      "/home/evan/Documents/deep_docking/datasets/v2015/4wks/4wks_ligand.mol2\n",
      "[[ 0.152   0.032  -2.724 ]\n",
      " [-0.668   0.418  -1.474 ]\n",
      " [ 0.      0.      0.    ]\n",
      " [-0.4339  0.6188  1.2101]]\n",
      "0.0233099460602\n",
      "Training epoch 300\n",
      "Iter: 300\n",
      "D loss: -0.1186\n",
      "G_loss: -0.109\n",
      "real:\n",
      "[[-0.0725 -0.0715 -1.7212]\n",
      " [-0.8925  0.3145 -0.4713]\n",
      " [-0.2245 -0.1035  1.0027]\n",
      " [ 1.1895 -0.1395  1.1898]]\n",
      "fake:\n",
      "[[ 0.152   0.032  -2.724 ]\n",
      " [-0.668   0.418  -1.474 ]\n",
      " [ 0.      0.      0.    ]\n",
      " [-0.2856 -1.2573  0.6109]]\n",
      "fake:\n",
      "[[ 0.9648  0.2485  0.0864]\n",
      " [-0.2569  0.9607  0.1053]\n",
      " [-0.0569 -0.1238  0.9907]]\n",
      "-0.554059\n"
     ]
    },
    {
     "data": {
      "image/png": "[encoded data removed]",
      "text/plain": [
       "<matplotlib.figure.Figure at 0x7f1525045cd0>"
      ]
     },
     "metadata": {},
     "output_type": "display_data"
    },
    {
     "name": "stdout",
     "output_type": "stream",
     "text": [
      "/home/evan/Documents/deep_docking/datasets/v2015/4wks/4wks_ligand.mol2\n",
      "[[ 0.152   0.032  -2.724 ]\n",
      " [-0.668   0.418  -1.474 ]\n",
      " [ 0.      0.      0.    ]\n",
      " [-0.8165 -0.4468  1.0813]]\n",
      "0.0214440822601\n",
      "Training epoch 400\n",
      "Iter: 400\n",
      "D loss: -0.1563\n",
      "G_loss: -0.1247\n",
      "real:\n",
      "[[-0.0725 -0.0715 -1.7212]\n",
      " [-0.8925  0.3145 -0.4713]\n",
      " [-0.2245 -0.1035  1.0027]\n",
      " [ 1.1895 -0.1395  1.1898]]\n",
      "fake:\n",
      "[[ 0.152   0.032  -2.724 ]\n",
      " [-0.668   0.418  -1.474 ]\n",
      " [ 0.      0.      0.    ]\n",
      " [-0.7837 -0.0032  1.1923]]\n",
      "fake:\n",
      "[[ 0.0552 -0.9874  0.1482]\n",
      " [ 0.7626 -0.0541 -0.6446]\n",
      " [ 0.6445  0.1486  0.7501]]\n",
      "-1.81731\n"
     ]
    },
    {
     "data": {
      "image/png": "[encoded data removed]",
      "text/plain": [
       "<matplotlib.figure.Figure at 0x7f15455ba050>"
      ]
     },
     "metadata": {},
     "output_type": "display_data"
    },
    {
     "name": "stdout",
     "output_type": "stream",
     "text": [
      "/home/evan/Documents/deep_docking/datasets/v2015/4wks/4wks_ligand.mol2\n",
      "[[ 0.152   0.032  -2.724 ]\n",
      " [-0.668   0.418  -1.474 ]\n",
      " [ 0.      0.      0.    ]\n",
      " [-0.7373  0.144   1.213 ]]\n",
      "0.0211079120636\n",
      "Training epoch 500\n",
      "Iter: 500\n",
      "D loss: -0.2197\n",
      "G_loss: -0.1037\n",
      "real:\n",
      "[[-0.0725 -0.0715 -1.7212]\n",
      " [-0.8925  0.3145 -0.4713]\n",
      " [-0.2245 -0.1035  1.0027]\n",
      " [ 1.1895 -0.1395  1.1898]]\n",
      "fake:\n",
      "[[ 0.152   0.032  -2.724 ]\n",
      " [-0.668   0.418  -1.474 ]\n",
      " [ 0.      0.      0.    ]\n",
      " [-0.4653  0.5856  1.215 ]]\n",
      "fake:\n",
      "[[-0.0461 -0.9795  0.1963]\n",
      " [ 0.7306 -0.1671 -0.6621]\n",
      " [ 0.6813  0.1129  0.7233]]\n",
      "-2.87738\n"
     ]
    },
    {
     "data": {
      "image/png": "[encoded data removed]",
      "text/plain": [
       "<matplotlib.figure.Figure at 0x7f1524c4bd50>"
      ]
     },
     "metadata": {},
     "output_type": "display_data"
    },
    {
     "name": "stdout",
     "output_type": "stream",
     "text": [
      "/home/evan/Documents/deep_docking/datasets/v2015/4wks/4wks_ligand.mol2\n",
      "[[ 0.152   0.032  -2.724 ]\n",
      " [-0.668   0.418  -1.474 ]\n",
      " [ 0.      0.      0.    ]\n",
      " [-0.6784  0.2774  1.2241]]\n",
      "0.0212209224701\n",
      "Training epoch 600\n",
      "Iter: 600\n",
      "D loss: -0.2182\n",
      "G_loss: -0.1091\n",
      "real:\n",
      "[[-0.0725 -0.0715 -1.7212]\n",
      " [-0.8925  0.3145 -0.4713]\n",
      " [-0.2245 -0.1035  1.0027]\n",
      " [ 1.1895 -0.1395  1.1898]]\n",
      "fake:\n",
      "[[ 0.152   0.032  -2.724 ]\n",
      " [-0.668   0.418  -1.474 ]\n",
      " [ 0.      0.      0.    ]\n",
      " [-0.7368  0.1452  1.2131]]\n",
      "fake:\n",
      "[[-0.6328 -0.4874  0.6017]\n",
      " [ 0.0989 -0.8216 -0.5614]\n",
      " [ 0.768  -0.2957  0.5681]]\n",
      "-1.46375\n"
     ]
    },
    {
     "data": {
      "image/png": "[encoded data removed]",
      "text/plain": [
       "<matplotlib.figure.Figure at 0x7f1524cef550>"
      ]
     },
     "metadata": {},
     "output_type": "display_data"
    },
    {
     "name": "stdout",
     "output_type": "stream",
     "text": [
      "/home/evan/Documents/deep_docking/datasets/v2015/4wks/4wks_ligand.mol2\n",
      "[[ 0.152   0.032  -2.724 ]\n",
      " [-0.668   0.418  -1.474 ]\n",
      " [ 0.      0.      0.    ]\n",
      " [-0.8008 -0.0807  1.1781]]\n",
      "0.0230960845947\n",
      "Training epoch 700\n",
      "Iter: 700\n",
      "D loss: -0.2199\n",
      "G_loss: -0.1053\n",
      "real:\n",
      "[[-0.0725 -0.0715 -1.7212]\n",
      " [-0.8925  0.3145 -0.4713]\n",
      " [-0.2245 -0.1035  1.0027]\n",
      " [ 1.1895 -0.1395  1.1898]]\n",
      "fake:\n",
      "[[ 0.152   0.032  -2.724 ]\n",
      " [-0.668   0.418  -1.474 ]\n",
      " [ 0.      0.      0.    ]\n",
      " [-0.7519  0.1035  1.2081]]\n",
      "fake:\n",
      "[[-0.6092 -0.547   0.5742]\n",
      " [ 0.1641 -0.7954 -0.5835]\n",
      " [ 0.7758 -0.2613  0.5743]]\n",
      "-2.99844\n"
     ]
    },
    {
     "data": {
      "image/png": "[encoded data removed]",
      "text/plain": [
       "<matplotlib.figure.Figure at 0x7f1524d61e90>"
      ]
     },
     "metadata": {},
     "output_type": "display_data"
    },
    {
     "name": "stdout",
     "output_type": "stream",
     "text": [
      "/home/evan/Documents/deep_docking/datasets/v2015/4wks/4wks_ligand.mol2\n",
      "[[ 0.152   0.032  -2.724 ]\n",
      " [-0.668   0.418  -1.474 ]\n",
      " [ 0.      0.      0.    ]\n",
      " [-0.7342  0.152   1.2139]]\n",
      "0.0212209224701\n",
      "Training epoch 800\n",
      "Iter: 800\n",
      "D loss: -0.2203\n",
      "G_loss: -0.1098\n",
      "real:\n",
      "[[-0.0725 -0.0715 -1.7212]\n",
      " [-0.8925  0.3145 -0.4713]\n",
      " [-0.2245 -0.1035  1.0027]\n",
      " [ 1.1895 -0.1395  1.1898]]\n",
      "fake:\n",
      "[[ 0.152   0.032  -2.724 ]\n",
      " [-0.668   0.418  -1.474 ]\n",
      " [ 0.      0.      0.    ]\n",
      " [-0.7498  0.1096  1.2089]]\n",
      "fake:\n",
      "[[-0.6211 -0.5186  0.5876]\n",
      " [ 0.133  -0.8086 -0.5731]\n",
      " [ 0.7724 -0.2778  0.5712]]\n",
      "-2.97832\n"
     ]
    },
    {
     "data": {
      "image/png": "[encoded data removed]",
      "text/plain": [
       "<matplotlib.figure.Figure at 0x7f15249a72d0>"
      ]
     },
     "metadata": {},
     "output_type": "display_data"
    },
    {
     "name": "stdout",
     "output_type": "stream",
     "text": [
      "/home/evan/Documents/deep_docking/datasets/v2015/4wks/4wks_ligand.mol2\n",
      "[[ 0.152   0.032  -2.724 ]\n",
      " [-0.668   0.418  -1.474 ]\n",
      " [ 0.      0.      0.    ]\n",
      " [-0.7513  0.1054  1.2084]]\n",
      "0.0211780071259\n",
      "Training epoch 900\n",
      "Iter: 900\n",
      "D loss: -0.2204\n",
      "G_loss: -0.1087\n",
      "real:\n",
      "[[-0.0725 -0.0715 -1.7212]\n",
      " [-0.8925  0.3145 -0.4713]\n",
      " [-0.2245 -0.1035  1.0027]\n",
      " [ 1.1895 -0.1395  1.1898]]\n",
      "fake:\n",
      "[[ 0.152   0.032  -2.724 ]\n",
      " [-0.668   0.418  -1.474 ]\n",
      " [ 0.      0.      0.    ]\n",
      " [-0.6041  0.4063  1.227 ]]\n",
      "fake:\n",
      "[[-0.6313 -0.4915  0.5999]\n",
      " [ 0.1034 -0.82   -0.563 ]\n",
      " [ 0.7686 -0.2934  0.5685]]\n",
      "-2.95764\n"
     ]
    },
    {
     "data": {
      "image/png": "[encoded data removed]",
      "text/plain": [
       "<matplotlib.figure.Figure at 0x7f1524897210>"
      ]
     },
     "metadata": {},
     "output_type": "display_data"
    },
    {
     "name": "stdout",
     "output_type": "stream",
     "text": [
      "/home/evan/Documents/deep_docking/datasets/v2015/4wks/4wks_ligand.mol2\n",
      "[[ 0.152   0.032  -2.724 ]\n",
      " [-0.668   0.418  -1.474 ]\n",
      " [ 0.      0.      0.    ]\n",
      " [-0.7577  0.0864  1.2059]]\n",
      "0.0213079452515\n",
      "Training epoch 1000\n",
      "Iter: 1000\n",
      "D loss: -0.2202\n",
      "G_loss: -0.11\n",
      "real:\n",
      "[[-0.0725 -0.0715 -1.7212]\n",
      " [-0.8925  0.3145 -0.4713]\n",
      " [-0.2245 -0.1035  1.0027]\n",
      " [ 1.1895 -0.1395  1.1898]]\n",
      "fake:\n",
      "[[ 0.152   0.032  -2.724 ]\n",
      " [-0.668   0.418  -1.474 ]\n",
      " [ 0.      0.      0.    ]\n",
      " [-0.7454  0.122   1.2104]]\n",
      "fake:\n",
      "[[-0.61   -0.5453  0.575 ]\n",
      " [ 0.1622 -0.7962 -0.5829]\n",
      " [ 0.7756 -0.2623  0.5741]]\n",
      "-2.99503\n"
     ]
    },
    {
     "data": {
      "image/png": "[encoded data removed]",
      "text/plain": [
       "<matplotlib.figure.Figure at 0x7f15247ec950>"
      ]
     },
     "metadata": {},
     "output_type": "display_data"
    },
    {
     "name": "stdout",
     "output_type": "stream",
     "text": [
      "/home/evan/Documents/deep_docking/datasets/v2015/4wks/4wks_ligand.mol2\n",
      "[[ 0.152   0.032  -2.724 ]\n",
      " [-0.668   0.418  -1.474 ]\n",
      " [ 0.      0.      0.    ]\n",
      " [-0.738   0.142   1.2128]]\n",
      "0.0211658477783\n",
      "Training epoch 1100\n",
      "Iter: 1100\n",
      "D loss: -0.2204\n",
      "G_loss: -0.1099\n",
      "real:\n",
      "[[-0.0725 -0.0715 -1.7212]\n",
      " [-0.8925  0.3145 -0.4713]\n",
      " [-0.2245 -0.1035  1.0027]\n",
      " [ 1.1895 -0.1395  1.1898]]\n",
      "fake:\n",
      "[[ 0.152   0.032  -2.724 ]\n",
      " [-0.668   0.418  -1.474 ]\n",
      " [ 0.      0.      0.    ]\n",
      " [-0.7374  0.1436  1.2129]]\n",
      "fake:\n",
      "[[-0.6116 -0.5416  0.5768]\n",
      " [ 0.1582 -0.798  -0.5816]\n",
      " [ 0.7752 -0.2644  0.5737]]\n",
      "-2.99888\n"
     ]
    },
    {
     "data": {
      "image/png": "[encoded data removed]",
      "text/plain": [
       "<matplotlib.figure.Figure at 0x7f15247fe210>"
      ]
     },
     "metadata": {},
     "output_type": "display_data"
    },
    {
     "name": "stdout",
     "output_type": "stream",
     "text": [
      "/home/evan/Documents/deep_docking/datasets/v2015/4wks/4wks_ligand.mol2\n",
      "[[ 0.152   0.032  -2.724 ]\n",
      " [-0.668   0.418  -1.474 ]\n",
      " [ 0.      0.      0.    ]\n",
      " [-0.7367  0.1456  1.2132]]\n",
      "0.0203111171722\n",
      "Training epoch 1200\n",
      "Iter: 1200\n",
      "D loss: -0.2204\n",
      "G_loss: -0.1099\n",
      "real:\n",
      "[[-0.0725 -0.0715 -1.7212]\n",
      " [-0.8925  0.3145 -0.4713]\n",
      " [-0.2245 -0.1035  1.0027]\n",
      " [ 1.1895 -0.1395  1.1898]]\n",
      "fake:\n",
      "[[ 0.152   0.032  -2.724 ]\n",
      " [-0.668   0.418  -1.474 ]\n",
      " [ 0.      0.      0.    ]\n",
      " [-0.7635  0.068   1.2033]]\n",
      "fake:\n",
      "[[-0.6199 -0.5216  0.5862]\n",
      " [ 0.1363 -0.8072 -0.5743]\n",
      " [ 0.7728 -0.2761  0.5715]]\n",
      "-2.96796\n"
     ]
    },
    {
     "data": {
      "image/png": "[encoded data removed]",
      "text/plain": [
       "<matplotlib.figure.Figure at 0x7f152487a990>"
      ]
     },
     "metadata": {},
     "output_type": "display_data"
    },
    {
     "name": "stdout",
     "output_type": "stream",
     "text": [
      "/home/evan/Documents/deep_docking/datasets/v2015/4wks/4wks_ligand.mol2\n",
      "[[ 0.152   0.032  -2.724 ]\n",
      " [-0.668   0.418  -1.474 ]\n",
      " [ 0.      0.      0.    ]\n",
      " [-0.7475  0.1163  1.2097]]\n",
      "0.021301984787\n",
      "Training epoch 1300\n",
      "Iter: 1300\n",
      "D loss: -0.2204\n",
      "G_loss: -0.1102\n",
      "real:\n",
      "[[-0.0725 -0.0715 -1.7212]\n",
      " [-0.8925  0.3145 -0.4713]\n",
      " [-0.2245 -0.1035  1.0027]\n",
      " [ 1.1895 -0.1395  1.1898]]\n",
      "fake:\n",
      "[[ 0.152   0.032  -2.724 ]\n",
      " [-0.668   0.418  -1.474 ]\n",
      " [ 0.      0.      0.    ]\n",
      " [-0.7465  0.119   1.2101]]\n",
      "fake:\n",
      "[[-0.6186 -0.5248  0.5847]\n",
      " [ 0.1397 -0.8058 -0.5754]\n",
      " [ 0.7732 -0.2743  0.5718]]\n",
      "-2.97795\n"
     ]
    },
    {
     "data": {
      "image/png": "[encoded data removed]",
      "text/plain": [
       "<matplotlib.figure.Figure at 0x7f15249ba050>"
      ]
     },
     "metadata": {},
     "output_type": "display_data"
    },
    {
     "name": "stdout",
     "output_type": "stream",
     "text": [
      "/home/evan/Documents/deep_docking/datasets/v2015/4wks/4wks_ligand.mol2\n",
      "[[ 0.152   0.032  -2.724 ]\n",
      " [-0.668   0.418  -1.474 ]\n",
      " [ 0.      0.      0.    ]\n",
      " [-0.7465  0.119   1.2101]]\n",
      "0.021369934082\n",
      "Training epoch 1400\n",
      "Iter: 1400\n",
      "D loss: -0.2204\n",
      "G_loss: -0.1101\n",
      "real:\n",
      "[[-0.0725 -0.0715 -1.7212]\n",
      " [-0.8925  0.3145 -0.4713]\n",
      " [-0.2245 -0.1035  1.0027]\n",
      " [ 1.1895 -0.1395  1.1898]]\n",
      "fake:\n",
      "[[ 0.152   0.032  -2.724 ]\n",
      " [-0.668   0.418  -1.474 ]\n",
      " [ 0.      0.      0.    ]\n",
      " [-0.7516  0.1045  1.2083]]\n",
      "fake:\n",
      "[[-0.6208 -0.5193  0.5873]\n",
      " [ 0.1337 -0.8083 -0.5734]\n",
      " [ 0.7725 -0.2774  0.5713]]\n",
      "-2.96821\n"
     ]
    },
    {
     "data": {
      "image/png": "[encoded data removed]",
      "text/plain": [
       "<matplotlib.figure.Figure at 0x7f152474d390>"
      ]
     },
     "metadata": {},
     "output_type": "display_data"
    },
    {
     "name": "stdout",
     "output_type": "stream",
     "text": [
      "/home/evan/Documents/deep_docking/datasets/v2015/4wks/4wks_ligand.mol2\n",
      "[[ 0.152   0.032  -2.724 ]\n",
      " [-0.668   0.418  -1.474 ]\n",
      " [ 0.      0.      0.    ]\n",
      " [-0.8201 -0.4079  1.094 ]]\n",
      "0.0209648609161\n",
      "Training epoch 1500\n",
      "Iter: 1500\n",
      "D loss: -0.2196\n",
      "G_loss: -0.1101\n",
      "real:\n",
      "[[-0.0725 -0.0715 -1.7212]\n",
      " [-0.8925  0.3145 -0.4713]\n",
      " [-0.2245 -0.1035  1.0027]\n",
      " [ 1.1895 -0.1395  1.1898]]\n",
      "fake:\n",
      "[[ 0.152   0.032  -2.724 ]\n",
      " [-0.668   0.418  -1.474 ]\n",
      " [ 0.      0.      0.    ]\n",
      " [-0.7512  0.1057  1.2084]]\n",
      "fake:\n",
      "[[-0.6222 -0.5157  0.5889]\n",
      " [ 0.1298 -0.8099 -0.5721]\n",
      " [ 0.772  -0.2795  0.5709]]\n",
      "-2.96097\n"
     ]
    },
    {
     "data": {
      "image/png": "[encoded data removed]",
      "text/plain": [
       "<matplotlib.figure.Figure at 0x7f152492ab90>"
      ]
     },
     "metadata": {},
     "output_type": "display_data"
    },
    {
     "name": "stdout",
     "output_type": "stream",
     "text": [
      "/home/evan/Documents/deep_docking/datasets/v2015/4wks/4wks_ligand.mol2\n",
      "[[ 0.152   0.032  -2.724 ]\n",
      " [-0.668   0.418  -1.474 ]\n",
      " [ 0.      0.      0.    ]\n",
      " [-0.7521  0.103   1.2081]]\n",
      "0.0212111473083\n",
      "Training epoch 1600\n",
      "Iter: 1600\n",
      "D loss: -0.2204\n",
      "G_loss: -0.1101\n",
      "real:\n",
      "[[-0.0725 -0.0715 -1.7212]\n",
      " [-0.8925  0.3145 -0.4713]\n",
      " [-0.2245 -0.1035  1.0027]\n",
      " [ 1.1895 -0.1395  1.1898]]\n",
      "fake:\n",
      "[[ 0.152   0.032  -2.724 ]\n",
      " [-0.668   0.418  -1.474 ]\n",
      " [ 0.      0.      0.    ]\n",
      " [-0.7223  0.1818  1.2169]]\n",
      "fake:\n",
      "[[-0.5998 -0.5675  0.5641]\n",
      " [ 0.1869 -0.7849 -0.5908]\n",
      " [ 0.778  -0.249   0.5768]]\n",
      "-3.03073\n"
     ]
    },
    {
     "data": {
      "image/png": "[encoded data removed]",
      "text/plain": [
       "<matplotlib.figure.Figure at 0x7f1524a7a0d0>"
      ]
     },
     "metadata": {},
     "output_type": "display_data"
    },
    {
     "name": "stdout",
     "output_type": "stream",
     "text": [
      "/home/evan/Documents/deep_docking/datasets/v2015/4wks/4wks_ligand.mol2\n",
      "[[ 0.152   0.032  -2.724 ]\n",
      " [-0.668   0.418  -1.474 ]\n",
      " [ 0.      0.      0.    ]\n",
      " [-0.7222  0.182   1.2169]]\n",
      "0.0208189487457\n",
      "Training epoch 1700\n",
      "Iter: 1700\n",
      "D loss: -0.2204\n",
      "G_loss: -0.1102\n",
      "real:\n",
      "[[-0.0725 -0.0715 -1.7212]\n",
      " [-0.8925  0.3145 -0.4713]\n",
      " [-0.2245 -0.1035  1.0027]\n",
      " [ 1.1895 -0.1395  1.1898]]\n",
      "fake:\n",
      "[[ 0.152   0.032  -2.724 ]\n",
      " [-0.668   0.418  -1.474 ]\n",
      " [ 0.      0.      0.    ]\n",
      " [-0.7452  0.1225  1.2105]]\n",
      "fake:\n",
      "[[-0.6189 -0.5241  0.5851]\n",
      " [ 0.1389 -0.8062 -0.5751]\n",
      " [ 0.7731 -0.2747  0.5718]]\n",
      "-2.97752\n"
     ]
    },
    {
     "data": {
      "image/png": "[encoded data removed]",
      "text/plain": [
       "<matplotlib.figure.Figure at 0x7f1524bfe110>"
      ]
     },
     "metadata": {},
     "output_type": "display_data"
    },
    {
     "name": "stdout",
     "output_type": "stream",
     "text": [
      "/home/evan/Documents/deep_docking/datasets/v2015/4wks/4wks_ligand.mol2\n",
      "[[ 0.152   0.032  -2.724 ]\n",
      " [-0.668   0.418  -1.474 ]\n",
      " [ 0.      0.      0.    ]\n",
      " [-0.7469  0.1179  1.2099]]\n",
      "0.0212700366974\n",
      "Training epoch 1800\n",
      "Iter: 1800\n",
      "D loss: -0.2197\n",
      "G_loss: -0.1102\n",
      "real:\n",
      "[[-0.0725 -0.0715 -1.7212]\n",
      " [-0.8925  0.3145 -0.4713]\n",
      " [-0.2245 -0.1035  1.0027]\n",
      " [ 1.1895 -0.1395  1.1898]]\n",
      "fake:\n",
      "[[ 0.152   0.032  -2.724 ]\n",
      " [-0.668   0.418  -1.474 ]\n",
      " [ 0.      0.      0.    ]\n",
      " [-0.7401  0.1365  1.2121]]\n",
      "fake:\n",
      "[[-0.6193 -0.523   0.5855]\n",
      " [ 0.1378 -0.8066 -0.5748]\n",
      " [ 0.7729 -0.2753  0.5716]]\n",
      "-2.97157\n"
     ]
    },
    {
     "data": {
      "image/png": "[encoded data removed]",
      "text/plain": [
       "<matplotlib.figure.Figure at 0x7f1524a51bd0>"
      ]
     },
     "metadata": {},
     "output_type": "display_data"
    },
    {
     "name": "stdout",
     "output_type": "stream",
     "text": [
      "/home/evan/Documents/deep_docking/datasets/v2015/4wks/4wks_ligand.mol2\n",
      "[[ 0.152   0.032  -2.724 ]\n",
      " [-0.668   0.418  -1.474 ]\n",
      " [ 0.      0.      0.    ]\n",
      " [-0.7474  0.1164  1.2097]]\n",
      "0.0209231376648\n",
      "Training epoch 1900\n",
      "Iter: 1900\n",
      "D loss: -0.2204\n",
      "G_loss: -0.1092\n",
      "real:\n",
      "[[-0.0725 -0.0715 -1.7212]\n",
      " [-0.8925  0.3145 -0.4713]\n",
      " [-0.2245 -0.1035  1.0027]\n",
      " [ 1.1895 -0.1395  1.1898]]\n",
      "fake:\n",
      "[[ 0.152   0.032  -2.724 ]\n",
      " [-0.668   0.418  -1.474 ]\n",
      " [ 0.      0.      0.    ]\n",
      " [-0.7375  0.1433  1.2129]]\n",
      "fake:\n",
      "[[-0.6118 -0.5411  0.577 ]\n",
      " [ 0.1577 -0.7982 -0.5814]\n",
      " [ 0.7752 -0.2647  0.5736]]\n",
      "-2.99774\n"
     ]
    },
    {
     "data": {
      "image/png": "[encoded data removed]",
      "text/plain": [
       "<matplotlib.figure.Figure at 0x7f1524bf9810>"
      ]
     },
     "metadata": {},
     "output_type": "display_data"
    },
    {
     "name": "stdout",
     "output_type": "stream",
     "text": [
      "/home/evan/Documents/deep_docking/datasets/v2015/4wks/4wks_ligand.mol2\n",
      "[[ 0.152   0.032  -2.724 ]\n",
      " [-0.668   0.418  -1.474 ]\n",
      " [ 0.      0.      0.    ]\n",
      " [-0.7376  0.1431  1.2129]]\n",
      "0.0206370353699\n",
      "Training epoch 2000\n",
      "Iter: 2000\n",
      "D loss: -0.2203\n",
      "G_loss: -0.1101\n",
      "real:\n",
      "[[-0.0725 -0.0715 -1.7212]\n",
      " [-0.8925  0.3145 -0.4713]\n",
      " [-0.2245 -0.1035  1.0027]\n",
      " [ 1.1895 -0.1395  1.1898]]\n",
      "fake:\n",
      "[[ 0.152   0.032  -2.724 ]\n",
      " [-0.668   0.418  -1.474 ]\n",
      " [ 0.      0.      0.    ]\n",
      " [-0.7342  0.1521  1.2139]]\n",
      "fake:\n",
      "[[-0.6091 -0.5473  0.574 ]\n",
      " [ 0.1645 -0.7952 -0.5836]\n",
      " [ 0.7759 -0.2611  0.5744]]\n",
      "-3.00362\n"
     ]
    },
    {
     "data": {
      "image/png": "[encoded data removed]",
      "text/plain": [
       "<matplotlib.figure.Figure at 0x7f15251c1b90>"
      ]
     },
     "metadata": {},
     "output_type": "display_data"
    },
    {
     "name": "stdout",
     "output_type": "stream",
     "text": [
      "/home/evan/Documents/deep_docking/datasets/v2015/4wks/4wks_ligand.mol2\n",
      "[[ 0.152   0.032  -2.724 ]\n",
      " [-0.668   0.418  -1.474 ]\n",
      " [ 0.      0.      0.    ]\n",
      " [-0.733   0.1551  1.2142]]\n",
      "0.0215802192688\n",
      "Training epoch 2100\n",
      "Iter: 2100\n",
      "D loss: -0.2204\n",
      "G_loss: -0.1102\n",
      "real:\n",
      "[[-0.0725 -0.0715 -1.7212]\n",
      " [-0.8925  0.3145 -0.4713]\n",
      " [-0.2245 -0.1035  1.0027]\n",
      " [ 1.1895 -0.1395  1.1898]]\n",
      "fake:\n",
      "[[ 0.152   0.032  -2.724 ]\n",
      " [-0.668   0.418  -1.474 ]\n",
      " [ 0.      0.      0.    ]\n",
      " [-0.7392  0.1389  1.2124]]\n",
      "fake:\n",
      "[[-0.6181 -0.526   0.5841]\n",
      " [ 0.1411 -0.8053 -0.5759]\n",
      " [ 0.7733 -0.2735  0.572 ]]\n",
      "-2.976\n"
     ]
    },
    {
     "data": {
      "image/png": "[encoded data removed]",
      "text/plain": [
       "<matplotlib.figure.Figure at 0x7f15250a8490>"
      ]
     },
     "metadata": {},
     "output_type": "display_data"
    },
    {
     "name": "stdout",
     "output_type": "stream",
     "text": [
      "/home/evan/Documents/deep_docking/datasets/v2015/4wks/4wks_ligand.mol2\n",
      "[[ 0.152   0.032  -2.724 ]\n",
      " [-0.668   0.418  -1.474 ]\n",
      " [ 0.      0.      0.    ]\n",
      " [-0.7458  0.1208  1.2103]]\n",
      "0.0208148956299\n",
      "Training epoch 2200\n",
      "Iter: 2200\n",
      "D loss: -0.2204\n",
      "G_loss: -0.1102\n",
      "real:\n",
      "[[-0.0725 -0.0715 -1.7212]\n",
      " [-0.8925  0.3145 -0.4713]\n",
      " [-0.2245 -0.1035  1.0027]\n",
      " [ 1.1895 -0.1395  1.1898]]\n",
      "fake:\n",
      "[[ 0.152   0.032  -2.724 ]\n",
      " [-0.668   0.418  -1.474 ]\n",
      " [ 0.      0.      0.    ]\n",
      " [-0.7445  0.1244  1.2107]]\n",
      "fake:\n",
      "[[-0.6185 -0.525   0.5846]\n",
      " [ 0.14   -0.8057 -0.5755]\n",
      " [ 0.7732 -0.2741  0.5719]]\n",
      "-2.97992\n"
     ]
    },
    {
     "data": {
      "image/png": "[encoded data removed]",
      "text/plain": [
       "<matplotlib.figure.Figure at 0x7f15251c1d10>"
      ]
     },
     "metadata": {},
     "output_type": "display_data"
    },
    {
     "name": "stdout",
     "output_type": "stream",
     "text": [
      "/home/evan/Documents/deep_docking/datasets/v2015/4wks/4wks_ligand.mol2\n",
      "[[ 0.152   0.032  -2.724 ]\n",
      " [-0.668   0.418  -1.474 ]\n",
      " [ 0.      0.      0.    ]\n",
      " [-0.7445  0.1245  1.2107]]\n",
      "0.0213840007782\n",
      "Training epoch 2300\n",
      "Iter: 2300\n",
      "D loss: -0.2204\n",
      "G_loss: -0.1102\n",
      "real:\n",
      "[[-0.0725 -0.0715 -1.7212]\n",
      " [-0.8925  0.3145 -0.4713]\n",
      " [-0.2245 -0.1035  1.0027]\n",
      " [ 1.1895 -0.1395  1.1898]]\n",
      "fake:\n",
      "[[ 0.152   0.032  -2.724 ]\n",
      " [-0.668   0.418  -1.474 ]\n",
      " [ 0.      0.      0.    ]\n",
      " [-0.7457  0.1213  1.2103]]\n",
      "fake:\n",
      "[[-0.618  -0.5264  0.584 ]\n",
      " [ 0.1414 -0.8051 -0.576 ]\n",
      " [ 0.7734 -0.2734  0.572 ]]\n",
      "-2.97705\n"
     ]
    },
    {
     "data": {
      "image/png": "[encoded data removed]",
      "text/plain": [
       "<matplotlib.figure.Figure at 0x7f15245cfc10>"
      ]
     },
     "metadata": {},
     "output_type": "display_data"
    },
    {
     "name": "stdout",
     "output_type": "stream",
     "text": [
      "/home/evan/Documents/deep_docking/datasets/v2015/4wks/4wks_ligand.mol2\n",
      "[[ 0.152   0.032  -2.724 ]\n",
      " [-0.668   0.418  -1.474 ]\n",
      " [ 0.      0.      0.    ]\n",
      " [-0.7452  0.1225  1.2105]]\n",
      "0.0212478637695\n",
      "Training epoch 2400\n",
      "Iter: 2400\n",
      "D loss: -0.2204\n",
      "G_loss: -0.1102\n",
      "real:\n",
      "[[-0.0725 -0.0715 -1.7212]\n",
      " [-0.8925  0.3145 -0.4713]\n",
      " [-0.2245 -0.1035  1.0027]\n",
      " [ 1.1895 -0.1395  1.1898]]\n",
      "fake:\n",
      "[[ 0.152   0.032  -2.724 ]\n",
      " [-0.668   0.418  -1.474 ]\n",
      " [ 0.      0.      0.    ]\n",
      " [-0.7451  0.123   1.2105]]\n",
      "fake:\n",
      "[[-0.6187 -0.5247  0.5848]\n",
      " [ 0.1396 -0.8059 -0.5754]\n",
      " [ 0.7732 -0.2743  0.5718]]\n",
      "-2.97927\n"
     ]
    },
    {
     "data": {
      "image/png": "[encoded data removed]",
      "text/plain": [
       "<matplotlib.figure.Figure at 0x7f15244c21d0>"
      ]
     },
     "metadata": {},
     "output_type": "display_data"
    },
    {
     "name": "stdout",
     "output_type": "stream",
     "text": [
      "/home/evan/Documents/deep_docking/datasets/v2015/4wks/4wks_ligand.mol2\n",
      "[[ 0.152   0.032  -2.724 ]\n",
      " [-0.668   0.418  -1.474 ]\n",
      " [ 0.      0.      0.    ]\n",
      " [-0.7451  0.123   1.2105]]\n",
      "0.0225629806519\n",
      "Training epoch 2500\n",
      "Iter: 2500\n",
      "D loss: -0.2204\n",
      "G_loss: -0.1102\n",
      "real:\n",
      "[[-0.0725 -0.0715 -1.7212]\n",
      " [-0.8925  0.3145 -0.4713]\n",
      " [-0.2245 -0.1035  1.0027]\n",
      " [ 1.1895 -0.1395  1.1898]]\n",
      "fake:\n",
      "[[ 0.152   0.032  -2.724 ]\n",
      " [-0.668   0.418  -1.474 ]\n",
      " [ 0.      0.      0.    ]\n",
      " [-0.7385  0.1409  1.2126]]\n",
      "fake:\n",
      "[[-0.6124 -0.5397  0.5777]\n",
      " [ 0.1561 -0.7989 -0.5809]\n",
      " [ 0.775  -0.2655  0.5735]]\n",
      "-2.99434\n"
     ]
    },
    {
     "data": {
      "image/png": "[encoded data removed]",
      "text/plain": [
       "<matplotlib.figure.Figure at 0x7f152463ccd0>"
      ]
     },
     "metadata": {},
     "output_type": "display_data"
    },
    {
     "name": "stdout",
     "output_type": "stream",
     "text": [
      "/home/evan/Documents/deep_docking/datasets/v2015/4wks/4wks_ligand.mol2\n",
      "[[ 0.152   0.032  -2.724 ]\n",
      " [-0.668   0.418  -1.474 ]\n",
      " [ 0.      0.      0.    ]\n",
      " [-0.7385  0.1409  1.2126]]\n",
      "0.0215511322021\n",
      "Training epoch 2600\n",
      "Iter: 2600\n",
      "D loss: -0.2204\n",
      "G_loss: -0.1102\n",
      "real:\n",
      "[[-0.0725 -0.0715 -1.7212]\n",
      " [-0.8925  0.3145 -0.4713]\n",
      " [-0.2245 -0.1035  1.0027]\n",
      " [ 1.1895 -0.1395  1.1898]]\n",
      "fake:\n",
      "[[ 0.152   0.032  -2.724 ]\n",
      " [-0.668   0.418  -1.474 ]\n",
      " [ 0.      0.      0.    ]\n",
      " [-0.7416  0.1324  1.2117]]\n",
      "fake:\n",
      "[[-0.6143 -0.5352  0.5798]\n",
      " [ 0.1512 -0.801  -0.5793]\n",
      " [ 0.7745 -0.2682  0.573 ]]\n",
      "-2.98878\n"
     ]
    },
    {
     "data": {
      "image/png": "[encoded data removed]",
      "text/plain": [
       "<matplotlib.figure.Figure at 0x7f1524334710>"
      ]
     },
     "metadata": {},
     "output_type": "display_data"
    },
    {
     "name": "stdout",
     "output_type": "stream",
     "text": [
      "/home/evan/Documents/deep_docking/datasets/v2015/4wks/4wks_ligand.mol2\n",
      "[[ 0.152   0.032  -2.724 ]\n",
      " [-0.668   0.418  -1.474 ]\n",
      " [ 0.      0.      0.    ]\n",
      " [-0.7408  0.1345  1.2119]]\n",
      "0.0205519199371\n",
      "Training epoch 2700\n",
      "Iter: 2700\n",
      "D loss: -0.2204\n",
      "G_loss: -0.1102\n",
      "real:\n",
      "[[-0.0725 -0.0715 -1.7212]\n",
      " [-0.8925  0.3145 -0.4713]\n",
      " [-0.2245 -0.1035  1.0027]\n",
      " [ 1.1895 -0.1395  1.1898]]\n",
      "fake:\n",
      "[[ 0.152   0.032  -2.724 ]\n",
      " [-0.668   0.418  -1.474 ]\n",
      " [ 0.      0.      0.    ]\n",
      " [-0.7439  0.1261  1.2109]]\n",
      "fake:\n",
      "[[-0.6166 -0.5297  0.5824]\n",
      " [ 0.1451 -0.8036 -0.5772]\n",
      " [ 0.7738 -0.2714  0.5724]]\n",
      "-2.99018\n"
     ]
    },
    {
     "data": {
      "image/png": "[encoded data removed]",
      "text/plain": [
       "<matplotlib.figure.Figure at 0x7f1524227210>"
      ]
     },
     "metadata": {},
     "output_type": "display_data"
    },
    {
     "name": "stdout",
     "output_type": "stream",
     "text": [
      "/home/evan/Documents/deep_docking/datasets/v2015/4wks/4wks_ligand.mol2\n",
      "[[ 0.152   0.032  -2.724 ]\n",
      " [-0.668   0.418  -1.474 ]\n",
      " [ 0.      0.      0.    ]\n",
      " [-0.7439  0.1261  1.2109]]\n",
      "0.0211520195007\n",
      "Training epoch 2800\n",
      "Iter: 2800\n",
      "D loss: -0.2194\n",
      "G_loss: -0.11\n",
      "real:\n",
      "[[-0.0725 -0.0715 -1.7212]\n",
      " [-0.8925  0.3145 -0.4713]\n",
      " [-0.2245 -0.1035  1.0027]\n",
      " [ 1.1895 -0.1395  1.1898]]\n",
      "fake:\n",
      "[[ 0.152   0.032  -2.724 ]\n",
      " [-0.668   0.418  -1.474 ]\n",
      " [ 0.      0.      0.    ]\n",
      " [-0.7496  0.1103  1.209 ]]\n",
      "fake:\n",
      "[[-0.621  -0.5189  0.5875]\n",
      " [ 0.1332 -0.8085 -0.5732]\n",
      " [ 0.7724 -0.2777  0.5712]]\n",
      "-2.96751\n"
     ]
    },
    {
     "data": {
      "image/png": "[encoded data removed]",
      "text/plain": [
       "<matplotlib.figure.Figure at 0x7f15243e5650>"
      ]
     },
     "metadata": {},
     "output_type": "display_data"
    },
    {
     "name": "stdout",
     "output_type": "stream",
     "text": [
      "/home/evan/Documents/deep_docking/datasets/v2015/4wks/4wks_ligand.mol2\n",
      "[[ 0.152   0.032  -2.724 ]\n",
      " [-0.668   0.418  -1.474 ]\n",
      " [ 0.      0.      0.    ]\n",
      " [-0.7496  0.1103  1.209 ]]\n",
      "0.021115064621\n",
      "Training epoch 2900\n",
      "Iter: 2900\n",
      "D loss: -0.2202\n",
      "G_loss: -0.1102\n",
      "real:\n",
      "[[-0.0725 -0.0715 -1.7212]\n",
      " [-0.8925  0.3145 -0.4713]\n",
      " [-0.2245 -0.1035  1.0027]\n",
      " [ 1.1895 -0.1395  1.1898]]\n",
      "fake:\n",
      "[[ 0.152   0.032  -2.724 ]\n",
      " [-0.668   0.418  -1.474 ]\n",
      " [ 0.      0.      0.    ]\n",
      " [-0.7338  0.1532  1.214 ]]\n",
      "fake:\n",
      "[[-0.6088 -0.548   0.5737]\n",
      " [ 0.1653 -0.7948 -0.5839]\n",
      " [ 0.7759 -0.2606  0.5744]]\n",
      "-3.00519\n"
     ]
    },
    {
     "data": {
      "image/png": "[encoded data removed]",
      "text/plain": [
       "<matplotlib.figure.Figure at 0x7f1524004110>"
      ]
     },
     "metadata": {},
     "output_type": "display_data"
    },
    {
     "name": "stdout",
     "output_type": "stream",
     "text": [
      "/home/evan/Documents/deep_docking/datasets/v2015/4wks/4wks_ligand.mol2\n",
      "[[ 0.152   0.032  -2.724 ]\n",
      " [-0.668   0.418  -1.474 ]\n",
      " [ 0.      0.      0.    ]\n",
      " [-0.7338  0.1532  1.214 ]]\n",
      "0.0215358734131\n",
      "Training epoch 3000\n",
      "Iter: 3000\n",
      "D loss: -0.2204\n",
      "G_loss: -0.1102\n",
      "real:\n",
      "[[-0.0725 -0.0715 -1.7212]\n",
      " [-0.8925  0.3145 -0.4713]\n",
      " [-0.2245 -0.1035  1.0027]\n",
      " [ 1.1895 -0.1395  1.1898]]\n",
      "fake:\n",
      "[[ 0.152   0.032  -2.724 ]\n",
      " [-0.668   0.418  -1.474 ]\n",
      " [ 0.      0.      0.    ]\n",
      " [-0.7404  0.1358  1.2121]]\n",
      "fake:\n",
      "[[-0.6139 -0.5362  0.5793]\n",
      " [ 0.1523 -0.8005 -0.5796]\n",
      " [ 0.7746 -0.2676  0.5731]]\n",
      "-2.98987\n"
     ]
    },
    {
     "data": {
      "image/png": "[encoded data removed]",
      "text/plain": [
       "<matplotlib.figure.Figure at 0x7f1517f64b10>"
      ]
     },
     "metadata": {},
     "output_type": "display_data"
    },
    {
     "name": "stdout",
     "output_type": "stream",
     "text": [
      "/home/evan/Documents/deep_docking/datasets/v2015/4wks/4wks_ligand.mol2\n",
      "[[ 0.152   0.032  -2.724 ]\n",
      " [-0.668   0.418  -1.474 ]\n",
      " [ 0.      0.      0.    ]\n",
      " [-0.7395  0.138   1.2123]]\n",
      "0.0215489864349\n",
      "Training epoch 3100\n",
      "Iter: 3100\n",
      "D loss: -0.2204\n",
      "G_loss: -0.1102\n",
      "real:\n",
      "[[-0.0725 -0.0715 -1.7212]\n",
      " [-0.8925  0.3145 -0.4713]\n",
      " [-0.2245 -0.1035  1.0027]\n",
      " [ 1.1895 -0.1395  1.1898]]\n",
      "fake:\n",
      "[[ 0.152   0.032  -2.724 ]\n",
      " [-0.668   0.418  -1.474 ]\n",
      " [ 0.      0.      0.    ]\n",
      " [-0.7527  0.1011  1.2078]]\n",
      "fake:\n",
      "[[-0.6235 -0.5126  0.5904]\n",
      " [ 0.1264 -0.8112 -0.5709]\n",
      " [ 0.7716 -0.2813  0.5706]]\n",
      "-2.95952\n"
     ]
    },
    {
     "data": {
      "image/png": "[encoded data removed]",
      "text/plain": [
       "<matplotlib.figure.Figure at 0x7f1524172f90>"
      ]
     },
     "metadata": {},
     "output_type": "display_data"
    },
    {
     "name": "stdout",
     "output_type": "stream",
     "text": [
      "/home/evan/Documents/deep_docking/datasets/v2015/4wks/4wks_ligand.mol2\n",
      "[[ 0.152   0.032  -2.724 ]\n",
      " [-0.668   0.418  -1.474 ]\n",
      " [ 0.      0.      0.    ]\n",
      " [-0.7527  0.1011  1.2078]]\n",
      "0.0213971138\n",
      "Training epoch 3200\n",
      "Iter: 3200\n",
      "D loss: -0.2203\n",
      "G_loss: -0.1102\n",
      "real:\n",
      "[[-0.0725 -0.0715 -1.7212]\n",
      " [-0.8925  0.3145 -0.4713]\n",
      " [-0.2245 -0.1035  1.0027]\n",
      " [ 1.1895 -0.1395  1.1898]]\n",
      "fake:\n",
      "[[ 0.152   0.032  -2.724 ]\n",
      " [-0.668   0.418  -1.474 ]\n",
      " [ 0.      0.      0.    ]\n",
      " [-0.7336  0.1536  1.214 ]]\n",
      "fake:\n",
      "[[-0.6086 -0.5483  0.5735]\n",
      " [ 0.1656 -0.7947 -0.584 ]\n",
      " [ 0.776  -0.2605  0.5745]]\n",
      "-3.00555\n"
     ]
    },
    {
     "data": {
      "image/png": "[encoded data removed]",
      "text/plain": [
       "<matplotlib.figure.Figure at 0x7f1517cd4d50>"
      ]
     },
     "metadata": {},
     "output_type": "display_data"
    },
    {
     "name": "stdout",
     "output_type": "stream",
     "text": [
      "/home/evan/Documents/deep_docking/datasets/v2015/4wks/4wks_ligand.mol2\n",
      "[[ 0.152   0.032  -2.724 ]\n",
      " [-0.668   0.418  -1.474 ]\n",
      " [ 0.      0.      0.    ]\n",
      " [-0.7336  0.1536  1.214 ]]\n",
      "0.0205540657043\n",
      "Training epoch 3300\n",
      "Iter: 3300\n",
      "D loss: -0.2204\n",
      "G_loss: -0.1102\n",
      "real:\n",
      "[[-0.0725 -0.0715 -1.7212]\n",
      " [-0.8925  0.3145 -0.4713]\n",
      " [-0.2245 -0.1035  1.0027]\n",
      " [ 1.1895 -0.1395  1.1898]]\n",
      "fake:\n",
      "[[ 0.152   0.032  -2.724 ]\n",
      " [-0.668   0.418  -1.474 ]\n",
      " [ 0.      0.      0.    ]\n",
      " [-0.738   0.1421  1.2128]]\n",
      "fake:\n",
      "[[-0.612  -0.5405  0.5773]\n",
      " [ 0.157  -0.7985 -0.5812]\n",
      " [ 0.7751 -0.265   0.5736]]\n",
      "-2.99428\n"
     ]
    },
    {
     "data": {
      "image/png": "[encoded data removed]",
      "text/plain": [
       "<matplotlib.figure.Figure at 0x7f1517e44fd0>"
      ]
     },
     "metadata": {},
     "output_type": "display_data"
    },
    {
     "name": "stdout",
     "output_type": "stream",
     "text": [
      "/home/evan/Documents/deep_docking/datasets/v2015/4wks/4wks_ligand.mol2\n",
      "[[ 0.152   0.032  -2.724 ]\n",
      " [-0.668   0.418  -1.474 ]\n",
      " [ 0.      0.      0.    ]\n",
      " [-0.7379  0.1423  1.2128]]\n",
      "0.0212152004242\n",
      "Training epoch 3400\n",
      "Iter: 3400\n",
      "D loss: -0.2204\n",
      "G_loss: -0.1102\n",
      "real:\n",
      "[[-0.0725 -0.0715 -1.7212]\n",
      " [-0.8925  0.3145 -0.4713]\n",
      " [-0.2245 -0.1035  1.0027]\n",
      " [ 1.1895 -0.1395  1.1898]]\n",
      "fake:\n",
      "[[ 0.152   0.032  -2.724 ]\n",
      " [-0.668   0.418  -1.474 ]\n",
      " [ 0.      0.      0.    ]\n",
      " [-0.7404  0.1357  1.212 ]]\n",
      "fake:\n",
      "[[-0.6124 -0.5397  0.5777]\n",
      " [ 0.1561 -0.7989 -0.5809]\n",
      " [ 0.775  -0.2656  0.5735]]\n",
      "-2.99273\n"
     ]
    },
    {
     "data": {
      "image/png": "[encoded data removed]",
      "text/plain": [
       "<matplotlib.figure.Figure at 0x7f1517b3b950>"
      ]
     },
     "metadata": {},
     "output_type": "display_data"
    },
    {
     "name": "stdout",
     "output_type": "stream",
     "text": [
      "/home/evan/Documents/deep_docking/datasets/v2015/4wks/4wks_ligand.mol2\n",
      "[[ 0.152   0.032  -2.724 ]\n",
      " [-0.668   0.418  -1.474 ]\n",
      " [ 0.      0.      0.    ]\n",
      " [-0.7404  0.1358  1.2121]]\n",
      "0.0213899612427\n",
      "Training epoch 3500\n",
      "Iter: 3500\n",
      "D loss: -0.2204\n",
      "G_loss: -0.1102\n",
      "real:\n",
      "[[-0.0725 -0.0715 -1.7212]\n",
      " [-0.8925  0.3145 -0.4713]\n",
      " [-0.2245 -0.1035  1.0027]\n",
      " [ 1.1895 -0.1395  1.1898]]\n",
      "fake:\n",
      "[[ 0.152   0.032  -2.724 ]\n",
      " [-0.668   0.418  -1.474 ]\n",
      " [ 0.      0.      0.    ]\n",
      " [-0.739   0.1395  1.2125]]\n",
      "fake:\n",
      "[[-0.6128 -0.5388  0.5781]\n",
      " [ 0.1551 -0.7993 -0.5805]\n",
      " [ 0.7749 -0.2661  0.5734]]\n",
      "-2.99283\n"
     ]
    },
    {
     "data": {
      "image/png": "[encoded data removed]",
      "text/plain": [
       "<matplotlib.figure.Figure at 0x7f1517af3790>"
      ]
     },
     "metadata": {},
     "output_type": "display_data"
    },
    {
     "name": "stdout",
     "output_type": "stream",
     "text": [
      "/home/evan/Documents/deep_docking/datasets/v2015/4wks/4wks_ligand.mol2\n",
      "[[ 0.152   0.032  -2.724 ]\n",
      " [-0.668   0.418  -1.474 ]\n",
      " [ 0.      0.      0.    ]\n",
      " [-0.74    0.1367  1.2122]]\n",
      "0.0221390724182\n",
      "Training epoch 3600\n",
      "Iter: 3600\n",
      "D loss: -0.2204\n",
      "G_loss: -0.1102\n",
      "real:\n",
      "[[-0.0725 -0.0715 -1.7212]\n",
      " [-0.8925  0.3145 -0.4713]\n",
      " [-0.2245 -0.1035  1.0027]\n",
      " [ 1.1895 -0.1395  1.1898]]\n",
      "fake:\n",
      "[[ 0.152   0.032  -2.724 ]\n",
      " [-0.668   0.418  -1.474 ]\n",
      " [ 0.      0.      0.    ]\n",
      " [-0.7535  0.0988  1.2075]]\n",
      "fake:\n",
      "[[-0.6242 -0.5106  0.5913]\n",
      " [ 0.1242 -0.8121 -0.5702]\n",
      " [ 0.7713 -0.2825  0.5704]]\n",
      "-2.95703\n"
     ]
    },
    {
     "data": {
      "image/png": "[encoded data removed]",
      "text/plain": [
       "<matplotlib.figure.Figure at 0x7f1517917e10>"
      ]
     },
     "metadata": {},
     "output_type": "display_data"
    },
    {
     "name": "stdout",
     "output_type": "stream",
     "text": [
      "/home/evan/Documents/deep_docking/datasets/v2015/4wks/4wks_ligand.mol2\n",
      "[[ 0.152   0.032  -2.724 ]\n",
      " [-0.668   0.418  -1.474 ]\n",
      " [ 0.      0.      0.    ]\n",
      " [-0.7537  0.0983  1.2075]]\n",
      "0.0207059383392\n",
      "Training epoch 3700\n",
      "Iter: 3700\n",
      "D loss: -0.2204\n",
      "G_loss: -0.1102\n",
      "real:\n",
      "[[-0.0725 -0.0715 -1.7212]\n",
      " [-0.8925  0.3145 -0.4713]\n",
      " [-0.2245 -0.1035  1.0027]\n",
      " [ 1.1895 -0.1395  1.1898]]\n",
      "fake:\n",
      "[[ 0.152   0.032  -2.724 ]\n",
      " [-0.668   0.418  -1.474 ]\n",
      " [ 0.      0.      0.    ]\n",
      " [-0.7542  0.0968  1.2073]]\n",
      "fake:\n",
      "[[-0.6246 -0.5096  0.5918]\n",
      " [ 0.1231 -0.8125 -0.5698]\n",
      " [ 0.7712 -0.2831  0.5702]]\n",
      "-2.95575\n"
     ]
    },
    {
     "data": {
      "image/png": "[encoded data removed]",
      "text/plain": [
       "<matplotlib.figure.Figure at 0x7f151786e590>"
      ]
     },
     "metadata": {},
     "output_type": "display_data"
    },
    {
     "name": "stdout",
     "output_type": "stream",
     "text": [
      "/home/evan/Documents/deep_docking/datasets/v2015/4wks/4wks_ligand.mol2\n",
      "[[ 0.152   0.032  -2.724 ]\n",
      " [-0.668   0.418  -1.474 ]\n",
      " [ 0.      0.      0.    ]\n",
      " [-0.7539  0.0977  1.2074]]\n",
      "0.0259230136871\n",
      "Training epoch 3800\n",
      "Iter: 3800\n",
      "D loss: -0.2204\n",
      "G_loss: -0.1102\n",
      "real:\n",
      "[[-0.0725 -0.0715 -1.7212]\n",
      " [-0.8925  0.3145 -0.4713]\n",
      " [-0.2245 -0.1035  1.0027]\n",
      " [ 1.1895 -0.1395  1.1898]]\n",
      "fake:\n",
      "[[ 0.152   0.032  -2.724 ]\n",
      " [-0.668   0.418  -1.474 ]\n",
      " [ 0.      0.      0.    ]\n",
      " [-0.7518  0.1038  1.2082]]\n",
      "fake:\n",
      "[[-0.6227 -0.5145  0.5895]\n",
      " [ 0.1284 -0.8104 -0.5716]\n",
      " [ 0.7718 -0.2803  0.5707]]\n",
      "-2.96193\n"
     ]
    },
    {
     "data": {
      "image/png": "[encoded data removed]",
      "text/plain": [
       "<matplotlib.figure.Figure at 0x7f1517772510>"
      ]
     },
     "metadata": {},
     "output_type": "display_data"
    },
    {
     "name": "stdout",
     "output_type": "stream",
     "text": [
      "/home/evan/Documents/deep_docking/datasets/v2015/4wks/4wks_ligand.mol2\n",
      "[[ 0.152   0.032  -2.724 ]\n",
      " [-0.668   0.418  -1.474 ]\n",
      " [ 0.      0.      0.    ]\n",
      " [-0.7518  0.1038  1.2082]]\n",
      "0.0243101119995\n",
      "Training epoch 3900\n",
      "Iter: 3900\n",
      "D loss: -0.2204\n",
      "G_loss: -0.1102\n",
      "real:\n",
      "[[-0.0725 -0.0715 -1.7212]\n",
      " [-0.8925  0.3145 -0.4713]\n",
      " [-0.2245 -0.1035  1.0027]\n",
      " [ 1.1895 -0.1395  1.1898]]\n",
      "fake:\n",
      "[[ 0.152   0.032  -2.724 ]\n",
      " [-0.668   0.418  -1.474 ]\n",
      " [ 0.      0.      0.    ]\n",
      " [-0.7455  0.1216  1.2104]]\n",
      "fake:\n",
      "[[-0.6179 -0.5266  0.5839]\n",
      " [ 0.1417 -0.805  -0.5761]\n",
      " [ 0.7734 -0.2732  0.572 ]]\n",
      "-2.97744\n"
     ]
    },
    {
     "data": {
      "image/png": "[encoded data removed]",
      "text/plain": [
       "<matplotlib.figure.Figure at 0x7f1517978ed0>"
      ]
     },
     "metadata": {},
     "output_type": "display_data"
    },
    {
     "name": "stdout",
     "output_type": "stream",
     "text": [
      "/home/evan/Documents/deep_docking/datasets/v2015/4wks/4wks_ligand.mol2\n",
      "[[ 0.152   0.032  -2.724 ]\n",
      " [-0.668   0.418  -1.474 ]\n",
      " [ 0.      0.      0.    ]\n",
      " [-0.7456  0.1216  1.2104]]\n",
      "0.023472070694\n",
      "Training epoch 4000\n",
      "Iter: 4000\n",
      "D loss: -0.2204\n",
      "G_loss: -0.1102\n",
      "real:\n",
      "[[-0.0725 -0.0715 -1.7212]\n",
      " [-0.8925  0.3145 -0.4713]\n",
      " [-0.2245 -0.1035  1.0027]\n",
      " [ 1.1895 -0.1395  1.1898]]\n",
      "fake:\n",
      "[[ 0.152   0.032  -2.724 ]\n",
      " [-0.668   0.418  -1.474 ]\n",
      " [ 0.      0.      0.    ]\n",
      " [-0.7406  0.1353  1.212 ]]\n",
      "fake:\n",
      "[[-0.614  -0.5359  0.5795]\n",
      " [ 0.1519 -0.8007 -0.5795]\n",
      " [ 0.7745 -0.2678  0.5731]]\n",
      "-2.98972\n"
     ]
    },
    {
     "data": {
      "image/png": "[encoded data removed]",
      "text/plain": [
       "<matplotlib.figure.Figure at 0x7f1517768dd0>"
      ]
     },
     "metadata": {},
     "output_type": "display_data"
    },
    {
     "name": "stdout",
     "output_type": "stream",
     "text": [
      "/home/evan/Documents/deep_docking/datasets/v2015/4wks/4wks_ligand.mol2\n",
      "[[ 0.152   0.032  -2.724 ]\n",
      " [-0.668   0.418  -1.474 ]\n",
      " [ 0.      0.      0.    ]\n",
      " [-0.7402  0.1364  1.2121]]\n",
      "0.0217368602753\n",
      "Training epoch 4100\n",
      "Iter: 4100\n",
      "D loss: -0.2204\n",
      "G_loss: -0.1102\n",
      "real:\n",
      "[[-0.0725 -0.0715 -1.7212]\n",
      " [-0.8925  0.3145 -0.4713]\n",
      " [-0.2245 -0.1035  1.0027]\n",
      " [ 1.1895 -0.1395  1.1898]]\n",
      "fake:\n",
      "[[ 0.152   0.032  -2.724 ]\n",
      " [-0.668   0.418  -1.474 ]\n",
      " [ 0.      0.      0.    ]\n",
      " [-0.7395  0.1381  1.2123]]\n",
      "fake:\n",
      "[[-0.6132 -0.5378  0.5786]\n",
      " [ 0.154  -0.7998 -0.5802]\n",
      " [ 0.7748 -0.2667  0.5733]]\n",
      "-2.99187\n"
     ]
    },
    {
     "data": {
      "image/png": "[encoded data removed]",
      "text/plain": [
       "<matplotlib.figure.Figure at 0x7f15174b8a90>"
      ]
     },
     "metadata": {},
     "output_type": "display_data"
    },
    {
     "name": "stdout",
     "output_type": "stream",
     "text": [
      "/home/evan/Documents/deep_docking/datasets/v2015/4wks/4wks_ligand.mol2\n",
      "[[ 0.152   0.032  -2.724 ]\n",
      " [-0.668   0.418  -1.474 ]\n",
      " [ 0.      0.      0.    ]\n",
      " [-0.7395  0.1381  1.2123]]\n",
      "0.023973941803\n",
      "Training epoch 4200\n",
      "Iter: 4200\n",
      "D loss: -0.2204\n",
      "G_loss: -0.1102\n",
      "real:\n",
      "[[-0.0725 -0.0715 -1.7212]\n",
      " [-0.8925  0.3145 -0.4713]\n",
      " [-0.2245 -0.1035  1.0027]\n",
      " [ 1.1895 -0.1395  1.1898]]\n",
      "fake:\n",
      "[[ 0.152   0.032  -2.724 ]\n",
      " [-0.668   0.418  -1.474 ]\n",
      " [ 0.      0.      0.    ]\n",
      " [-0.7476  0.1158  1.2097]]\n",
      "fake:\n",
      "[[-0.6192 -0.5235  0.5853]\n",
      " [ 0.1383 -0.8064 -0.5749]\n",
      " [ 0.773  -0.275   0.5717]]\n",
      "-2.97242\n"
     ]
    },
    {
     "data": {
      "image/png": "[encoded data removed]",
      "text/plain": [
       "<matplotlib.figure.Figure at 0x7f15173ad6d0>"
      ]
     },
     "metadata": {},
     "output_type": "display_data"
    },
    {
     "name": "stdout",
     "output_type": "stream",
     "text": [
      "/home/evan/Documents/deep_docking/datasets/v2015/4wks/4wks_ligand.mol2\n",
      "[[ 0.152   0.032  -2.724 ]\n",
      " [-0.668   0.418  -1.474 ]\n",
      " [ 0.      0.      0.    ]\n",
      " [-0.7476  0.1159  1.2097]]\n",
      "0.0465779304504\n",
      "Training epoch 4300\n",
      "Iter: 4300\n",
      "D loss: -0.2204\n",
      "G_loss: -0.1102\n",
      "real:\n",
      "[[-0.0725 -0.0715 -1.7212]\n",
      " [-0.8925  0.3145 -0.4713]\n",
      " [-0.2245 -0.1035  1.0027]\n",
      " [ 1.1895 -0.1395  1.1898]]\n",
      "fake:\n",
      "[[ 0.152   0.032  -2.724 ]\n",
      " [-0.668   0.418  -1.474 ]\n",
      " [ 0.      0.      0.    ]\n",
      " [-0.7532  0.0997  1.2076]]\n",
      "fake:\n",
      "[[-0.6239 -0.5116  0.5908]\n",
      " [ 0.1253 -0.8117 -0.5705]\n",
      " [ 0.7714 -0.2819  0.5704]]\n",
      "-2.95824\n"
     ]
    },
    {
     "data": {
      "image/png": "[encoded data removed]",
      "text/plain": [
       "<matplotlib.figure.Figure at 0x7f15172a15d0>"
      ]
     },
     "metadata": {},
     "output_type": "display_data"
    },
    {
     "name": "stdout",
     "output_type": "stream",
     "text": [
      "/home/evan/Documents/deep_docking/datasets/v2015/4wks/4wks_ligand.mol2\n",
      "[[ 0.152   0.032  -2.724 ]\n",
      " [-0.668   0.418  -1.474 ]\n",
      " [ 0.      0.      0.    ]\n",
      " [-0.7532  0.0997  1.2076]]\n",
      "0.0211429595947\n",
      "Training epoch 4400\n",
      "Iter: 4400\n",
      "D loss: -0.2204\n",
      "G_loss: -0.1102\n",
      "real:\n",
      "[[-0.0725 -0.0715 -1.7212]\n",
      " [-0.8925  0.3145 -0.4713]\n",
      " [-0.2245 -0.1035  1.0027]\n",
      " [ 1.1895 -0.1395  1.1898]]\n",
      "fake:\n",
      "[[ 0.152   0.032  -2.724 ]\n",
      " [-0.668   0.418  -1.474 ]\n",
      " [ 0.      0.      0.    ]\n",
      " [-0.7375  0.1435  1.2129]]\n",
      "fake:\n",
      "[[-0.6116 -0.5415  0.5768]\n",
      " [ 0.1581 -0.798  -0.5815]\n",
      " [ 0.7752 -0.2645  0.5737]]\n",
      "-2.99667\n"
     ]
    },
    {
     "data": {
      "image/png": "[encoded data removed]",
      "text/plain": [
       "<matplotlib.figure.Figure at 0x7f1517398610>"
      ]
     },
     "metadata": {},
     "output_type": "display_data"
    },
    {
     "name": "stdout",
     "output_type": "stream",
     "text": [
      "/home/evan/Documents/deep_docking/datasets/v2015/4wks/4wks_ligand.mol2\n",
      "[[ 0.152   0.032  -2.724 ]\n",
      " [-0.668   0.418  -1.474 ]\n",
      " [ 0.      0.      0.    ]\n",
      " [-0.7375  0.1435  1.2129]]\n",
      "0.0215091705322\n",
      "Training epoch 4500\n",
      "Iter: 4500\n",
      "D loss: -0.2204\n",
      "G_loss: -0.1102\n",
      "real:\n",
      "[[-0.0725 -0.0715 -1.7212]\n",
      " [-0.8925  0.3145 -0.4713]\n",
      " [-0.2245 -0.1035  1.0027]\n",
      " [ 1.1895 -0.1395  1.1898]]\n",
      "fake:\n",
      "[[ 0.152   0.032  -2.724 ]\n",
      " [-0.668   0.418  -1.474 ]\n",
      " [ 0.      0.      0.    ]\n",
      " [-0.7486  0.1131  1.2093]]\n",
      "fake:\n",
      "[[-0.6203 -0.5208  0.5866]\n",
      " [ 0.1353 -0.8077 -0.5739]\n",
      " [ 0.7726 -0.2766  0.5714]]\n",
      "-2.96989\n"
     ]
    },
    {
     "data": {
      "image/png": "[encoded data removed]",
      "text/plain": [
       "<matplotlib.figure.Figure at 0x7f15173c1950>"
      ]
     },
     "metadata": {},
     "output_type": "display_data"
    },
    {
     "name": "stdout",
     "output_type": "stream",
     "text": [
      "/home/evan/Documents/deep_docking/datasets/v2015/4wks/4wks_ligand.mol2\n",
      "[[ 0.152   0.032  -2.724 ]\n",
      " [-0.668   0.418  -1.474 ]\n",
      " [ 0.      0.      0.    ]\n",
      " [-0.7486  0.1131  1.2093]]\n",
      "0.0231409072876\n",
      "Training epoch 4600\n",
      "Iter: 4600\n",
      "D loss: -0.2204\n",
      "G_loss: -0.1102\n",
      "real:\n",
      "[[-0.0725 -0.0715 -1.7212]\n",
      " [-0.8925  0.3145 -0.4713]\n",
      " [-0.2245 -0.1035  1.0027]\n",
      " [ 1.1895 -0.1395  1.1898]]\n",
      "fake:\n",
      "[[ 0.152   0.032  -2.724 ]\n",
      " [-0.668   0.418  -1.474 ]\n",
      " [ 0.      0.      0.    ]\n",
      " [-0.7542  0.0968  1.2073]]\n",
      "fake:\n",
      "[[-0.6245 -0.5099  0.5916]\n",
      " [ 0.1234 -0.8124 -0.5699]\n",
      " [ 0.7712 -0.2829  0.5703]]\n",
      "-2.9594\n"
     ]
    },
    {
     "data": {
      "image/png": "[encoded data removed]",
      "text/plain": [
       "<matplotlib.figure.Figure at 0x7f15171df5d0>"
      ]
     },
     "metadata": {},
     "output_type": "display_data"
    },
    {
     "name": "stdout",
     "output_type": "stream",
     "text": [
      "/home/evan/Documents/deep_docking/datasets/v2015/4wks/4wks_ligand.mol2\n",
      "[[ 0.152   0.032  -2.724 ]\n",
      " [-0.668   0.418  -1.474 ]\n",
      " [ 0.      0.      0.    ]\n",
      " [-0.7541  0.0972  1.2073]]\n"
     ]
    },
    {
     "ename": "KeyboardInterrupt",
     "evalue": "",
     "output_type": "error",
     "traceback": [
      "\u001b[0;31m---------------------------------------------------------------------------\u001b[0m",
      "\u001b[0;31mKeyboardInterrupt\u001b[0m                         Traceback (most recent call last)",
      "\u001b[0;32m<ipython-input-37-3dba86784f86>\u001b[0m in \u001b[0;36m<module>\u001b[0;34m()\u001b[0m\n\u001b[1;32m     17\u001b[0m \u001b[0;34m\u001b[0m\u001b[0m\n\u001b[1;32m     18\u001b[0m             _, D_loss_curr, _ = sess.run(\n\u001b[0;32m---> 19\u001b[0;31m                 [D_solver, D_loss, clip_D], feed_dict=feed_dict)\n\u001b[0m\u001b[1;32m     20\u001b[0m \u001b[0;34m\u001b[0m\u001b[0m\n\u001b[1;32m     21\u001b[0m         \u001b[0mfeed_dict\u001b[0m \u001b[0;34m=\u001b[0m \u001b[0mconstruct_feed_dict\u001b[0m\u001b[0;34m(\u001b[0m\u001b[0mtrain_dataset\u001b[0m\u001b[0;34m,\u001b[0m \u001b[0mstart\u001b[0m\u001b[0;34m,\u001b[0m \u001b[0mstop\u001b[0m\u001b[0;34m)\u001b[0m\u001b[0;34m\u001b[0m\u001b[0m\n",
      "\u001b[0;32m/home/evan/anaconda2/lib/python2.7/site-packages/tensorflow/python/client/session.pyc\u001b[0m in \u001b[0;36mrun\u001b[0;34m(self, fetches, feed_dict, options, run_metadata)\u001b[0m\n\u001b[1;32m    787\u001b[0m     \u001b[0;32mtry\u001b[0m\u001b[0;34m:\u001b[0m\u001b[0;34m\u001b[0m\u001b[0m\n\u001b[1;32m    788\u001b[0m       result = self._run(None, fetches, feed_dict, options_ptr,\n\u001b[0;32m--> 789\u001b[0;31m                          run_metadata_ptr)\n\u001b[0m\u001b[1;32m    790\u001b[0m       \u001b[0;32mif\u001b[0m \u001b[0mrun_metadata\u001b[0m\u001b[0;34m:\u001b[0m\u001b[0;34m\u001b[0m\u001b[0m\n\u001b[1;32m    791\u001b[0m         \u001b[0mproto_data\u001b[0m \u001b[0;34m=\u001b[0m \u001b[0mtf_session\u001b[0m\u001b[0;34m.\u001b[0m\u001b[0mTF_GetBuffer\u001b[0m\u001b[0;34m(\u001b[0m\u001b[0mrun_metadata_ptr\u001b[0m\u001b[0;34m)\u001b[0m\u001b[0;34m\u001b[0m\u001b[0m\n",
      "\u001b[0;32m/home/evan/anaconda2/lib/python2.7/site-packages/tensorflow/python/client/session.pyc\u001b[0m in \u001b[0;36m_run\u001b[0;34m(self, handle, fetches, feed_dict, options, run_metadata)\u001b[0m\n\u001b[1;32m    969\u001b[0m \u001b[0;34m\u001b[0m\u001b[0m\n\u001b[1;32m    970\u001b[0m           if (not is_tensor_handle_feed and\n\u001b[0;32m--> 971\u001b[0;31m               not subfeed_t.get_shape().is_compatible_with(np_val.shape)):\n\u001b[0m\u001b[1;32m    972\u001b[0m             raise ValueError(\n\u001b[1;32m    973\u001b[0m                 \u001b[0;34m'Cannot feed value of shape %r for Tensor %r, '\u001b[0m\u001b[0;34m\u001b[0m\u001b[0m\n",
      "\u001b[0;32m/home/evan/anaconda2/lib/python2.7/site-packages/tensorflow/python/framework/tensor_shape.pyc\u001b[0m in \u001b[0;36mis_compatible_with\u001b[0;34m(self, other)\u001b[0m\n\u001b[1;32m    670\u001b[0m       \u001b[0;32mreturn\u001b[0m \u001b[0mself\u001b[0m\u001b[0;34m\u001b[0m\u001b[0m\n\u001b[1;32m    671\u001b[0m \u001b[0;34m\u001b[0m\u001b[0m\n\u001b[0;32m--> 672\u001b[0;31m   \u001b[0;32mdef\u001b[0m \u001b[0mis_compatible_with\u001b[0m\u001b[0;34m(\u001b[0m\u001b[0mself\u001b[0m\u001b[0;34m,\u001b[0m \u001b[0mother\u001b[0m\u001b[0;34m)\u001b[0m\u001b[0;34m:\u001b[0m\u001b[0;34m\u001b[0m\u001b[0m\n\u001b[0m\u001b[1;32m    673\u001b[0m     \"\"\"Returns True iff `self` is compatible with `other`.\n\u001b[1;32m    674\u001b[0m \u001b[0;34m\u001b[0m\u001b[0m\n",
      "\u001b[0;31mKeyboardInterrupt\u001b[0m: "
     ]
    }
   ],
   "source": [
    "every = 100\n",
    "#train_dataset = features[:S]\n",
    "train_dataset = features[:1]*S\n",
    "n_train = len(train_dataset)\n",
    "\n",
    "for it in range(1000000):\n",
    "    a = time.time()\n",
    "    random.shuffle(train_dataset)\n",
    "    \n",
    "    batch_sched = list(range(0, n_train+1,S))\n",
    "    for j in range(0, len(batch_sched)-1):\n",
    "        start = batch_sched[j]\n",
    "        stop = batch_sched[j+1]\n",
    "        \n",
    "        for _ in range(5):\n",
    "            feed_dict = construct_feed_dict(train_dataset, start, stop)\n",
    "\n",
    "            _, D_loss_curr, _ = sess.run(\n",
    "                [D_solver, D_loss, clip_D], feed_dict=feed_dict)\n",
    "        \n",
    "        feed_dict = construct_feed_dict(train_dataset, start, stop)\n",
    "\n",
    "        _, G_loss_curr = sess.run([G_solver, G_loss], feed_dict=feed_dict)\n",
    "        \n",
    "        d_losses.append(D_loss_curr)\n",
    "        g_losses.append(G_loss_curr)\n",
    "    \n",
    "    if it % every == 0:\n",
    "        \n",
    "        print(time.time()-a)\n",
    "        print(\"Training epoch %d\" %it)\n",
    "                \n",
    "        print('Iter: {}'.format(it))\n",
    "        print('D loss: {:.4}'. format(D_loss_curr))\n",
    "        print('G_loss: {:.4}'.format(G_loss_curr))\n",
    "        feed_dict = construct_feed_dict(features[:1]*S, 0, S, shuffle_inds=False, keep_prob_val=1.)\n",
    "\n",
    "        print(\"real:\")\n",
    "        print(feed_dict[mol_xyz][0][:4])\n",
    "        print(\"fake:\")\n",
    "        print(sess.run(G_sample, feed_dict=feed_dict)[0][:4])\n",
    "        print(\"fake:\")\n",
    "        print(sess.run(rot_mat_i, feed_dict=feed_dict))\n",
    "\n",
    "        print(np.mean(sess.run(dihed, feed_dict=feed_dict)[:, 0]))\n",
    "        plt.hist(sess.run(dihed, feed_dict=feed_dict)[:, 0])\n",
    "        plt.show()\n",
    "        \n",
    "        \n",
    "        generate_molecule(features[0][0], sess.run(G_sample, feed_dict=feed_dict)[0], \"/home/evan/Documents/deep_docking/dcgan_pg/DCGAN-tensorflow/generated_mols/%s_test%d.mol\" %(features[0][0].split(\".\")[0].split(\"/\")[-1], it))\n",
    "        #generate_molecule(features[1][0], sess.run(G_sample, feed_dict=feed_dict)[1], \"/home/evan/Documents/deep_docking/dcgan_pg/DCGAN-tensorflow/generated_mols/%s_test%d.mol\" %(features[1][0].split(\".\")[0].split(\"/\")[-1], it))\n",
    "\n",
    "        #feed_dict = construct_feed_dict(features, len(features)-S, len(features), shuffle_inds=False, keep_prob_val=1.)\n",
    "        #generate_molecule(features[-1][0], sess.run(G_sample, feed_dict=feed_dict)[0], \"/home/evan/Documents/deep_docking/dcgan_pg/DCGAN-tensorflow/generated_mols/%s_test%d.mol\" %(features[-1][0].split(\".\")[0].split(\"/\")[-1], it))\n",
    "\n",
    "        \n",
    "        \n",
    "\n",
    "        #print(\"output_i\")\n",
    "        #print(sess.run(G_sample_output_i, feed_dict=feed_dict))\n",
    "        #print(sess.run(G_sample, feed_dict=feed_dict))\n",
    "\n",
    "    #random.shuffle(train_dataset)\n",
    "\n"
   ]
  },
  {
   "cell_type": "code",
   "execution_count": null,
   "metadata": {
    "collapsed": true,
    "scrolled": true
   },
   "outputs": [],
   "source": [
    "feed_dict = construct_feed_dict(features, 0, S, shuffle_inds=False)\n",
    "\n",
    "sess.run(G_sample, feed_dict=feed_dict)[0]"
   ]
  },
  {
   "cell_type": "code",
   "execution_count": null,
   "metadata": {
    "collapsed": true
   },
   "outputs": [],
   "source": [
    "features[0]"
   ]
  },
  {
   "cell_type": "code",
   "execution_count": null,
   "metadata": {
    "collapsed": true
   },
   "outputs": [],
   "source": [
    "feed_dict = construct_feed_dict(features, len(features)-S, len(features), shuffle_inds=False)\n",
    "generate_molecule(features[-1][0], sess.run(G_sample, feed_dict=feed_dict)[0], \"/home/evan/Documents/deep_docking/dcgan_pg/DCGAN-tensorflow/generated_mols/%s_test%d.mol\" %(features[-1][0].split(\".\")[0].split(\"/\")[-1], it))\n"
   ]
  },
  {
   "cell_type": "code",
   "execution_count": null,
   "metadata": {
    "collapsed": true
   },
   "outputs": [],
   "source": []
  },
  {
   "cell_type": "code",
   "execution_count": null,
   "metadata": {
    "collapsed": true
   },
   "outputs": [],
   "source": [
    "np.min(results[0])\n",
    "\n"
   ]
  },
  {
   "cell_type": "code",
   "execution_count": null,
   "metadata": {
    "collapsed": true
   },
   "outputs": [],
   "source": [
    "np.where(features[0][1][:,:,:,:-1] == 1)"
   ]
  },
  {
   "cell_type": "code",
   "execution_count": null,
   "metadata": {
    "collapsed": true
   },
   "outputs": [],
   "source": [
    "\"\"\"\n",
    "def discriminator(W_list, b_list, h_list, L_list, n_layers, mols):\n",
    "    mols = tf.add(mols, mol_noise)\n",
    "    with tf.device('/gpu:0'):\n",
    "        for layer_idx in range(n_layers):\n",
    "            h_list.append(tf.nn.dropout(adjacency_conv_layer(h_list[layer_idx], W_list[layer_idx],\n",
    "                                             b_list[layer_idx], adj_list[layer_idx], \n",
    "                                             clades_list[layer_idx],\n",
    "                                             L_list[layer_idx], L_list[layer_idx+1],\n",
    "                                             layer_idx, S, B_list[layer_idx]), keep_prob))\n",
    "        h_final = h_list[-1]\n",
    "        dist_matrix = tf.concat([tf.reshape(compute_distance_matrix(tf.reshape(mol, [B, 3])), (1, B, B)) for mol in tf.split(mols, S, axis=0)], axis=0)\n",
    "        print(\"dist_matrix\")\n",
    "        print(dist_matrix)\n",
    "        #dist_matrix = compute_distance_matrix(mol)\n",
    "        bond_dist_gen = tf.multiply(dist_matrix, adj_matrix)\n",
    "        wrong_bond_loss = tf.divide(tf.reshape(tf.multiply(tf.reduce_sum(tf.square(tf.subtract(bond_dist_mat, bond_dist_gen)), axis=[1,2]), lam1), (S,1)), n_bonds)\n",
    "        print(\"wrong_bond_loss\")\n",
    "        print(wrong_bond_loss)\n",
    "\n",
    "        angles = []\n",
    "        for i in range(0, B):\n",
    "            for j in range(0, B):\n",
    "                ij = mols[:, i,:] - mols[:,j,:]\n",
    "                ij = ij / tf.sqrt(tf.reduce_sum(tf.square(ij), 1, keep_dims=True))\n",
    "                #ij shape should be (S, 3)\n",
    "               # print(\"ij\")\n",
    "                #print(ij)\n",
    "                for k in range(0,B):\n",
    "                    ik = mols[:,i,:] - mols[:,k,:]\n",
    "                    ik = ik / tf.sqrt(tf.reduce_sum(tf.square(ik), 1, keep_dims=True))\n",
    "\n",
    "                    #ik shape should be (S, 3)\n",
    "                    #if i == 0 and j == 0 and k == 0: \n",
    "                    #   print(\"ik\")\n",
    "                     #   print(ik)\n",
    "                        \n",
    "                    dp = tf.reduce_sum(tf.multiply(ij, ik), axis=1, keep_dims=True)\n",
    "                    #dp shape should be (S,1)\n",
    "                    #if i ==0 and j ==0 and k==0:\n",
    "                    #    print(\"dp\")\n",
    "                    #    print(dp)\n",
    "                    if i == j or i == k or j == k:\n",
    "                        angle = tf.Variable(tf.constant(np.zeros([4,1]).astype(np.float32)))\n",
    "                    else:\n",
    "                        angle = tf.acos(tf.clip_by_value(tf.reduce_sum(tf.multiply(ij, ik), axis=1, keep_dims=True), -1.0, 1.0))\n",
    "                    #if i ==0 and j==0 and k==0:\n",
    "                        #print(\"angle\")\n",
    "                        #print(angle)\n",
    "                    angles.append(angle)\n",
    "        angles_gen = tf.reshape(tf.concat(angles, axis=1), [S, B, B, B])\n",
    "        angles_gen = tf.multiply(angles_gen, angle_tuples)\n",
    "        wrong_angles_loss = tf.divide(tf.reshape(tf.multiply(tf.reduce_sum(tf.square(tf.subtract(angle_tensor, angles_gen)), axis=[1,2,3]), lam2), (S,1)), n_angles)\n",
    "                \n",
    "        feat_i = tf.reshape(h_final, (S, B, 1, L_list[n_layers]))\n",
    "        feat_i = tf.tile(feat_i, [1, 1, B, 1])\n",
    "        \n",
    "        feat_j = tf.reshape(h_final, (S, B, 1, L_list[n_layers]))\n",
    "        feat_j = tf.transpose(feat_j, perm=[0, 2, 1, 3])\n",
    "        feat_j = tf.tile(feat_j, [1, B, 1, 1])\n",
    "        \n",
    "        d_h1 = tf.concat([tf.reshape(dist_matrix, [S, B, B, 1]), feat_i, feat_j], axis=3)\n",
    "        d_h1 = tf.reshape(d_h1, [S, B, B*(L_list[n_layers]*2+1)])\n",
    "        d_h2 = leaky_relu(tf.matmul(d_h1, d_w1) + d_b1)\n",
    "        d_h2 = tf.divide(tf.reduce_sum(tf.matmul(d_h2, d_w2) + d_b2, axis=1), n_bonds)#, axis=1\n",
    "        print(\"d_h2\")\n",
    "        print(d_h2)\n",
    "        \n",
    "    \n",
    "    return(wrong_bond_loss + wrong_angles_loss + d_h2, bond_dist_gen, angles_gen, wrong_bond_loss, wrong_angles_loss)\n",
    "\"\"\""
   ]
  },
  {
   "cell_type": "code",
   "execution_count": null,
   "metadata": {
    "collapsed": true
   },
   "outputs": [],
   "source": [
    "mol = Chem.MolFromMol2File(ligand_files[0])\n",
    "c = mol.GetConformer(0)"
   ]
  },
  {
   "cell_type": "code",
   "execution_count": null,
   "metadata": {
    "collapsed": true
   },
   "outputs": [],
   "source": [
    "c.SetAtomPosition(0, [0., 0., 0.])"
   ]
  },
  {
   "cell_type": "code",
   "execution_count": null,
   "metadata": {
    "collapsed": true
   },
   "outputs": [],
   "source": []
  },
  {
   "cell_type": "code",
   "execution_count": null,
   "metadata": {
    "collapsed": true
   },
   "outputs": [],
   "source": []
  },
  {
   "cell_type": "code",
   "execution_count": null,
   "metadata": {
    "collapsed": true
   },
   "outputs": [],
   "source": [
    "np.where(features[2][1][:,:,:,:-1] == 1)"
   ]
  },
  {
   "cell_type": "code",
   "execution_count": null,
   "metadata": {
    "collapsed": true
   },
   "outputs": [],
   "source": [
    "results = sess.run(G_sample, feed_dict=feed_dict)"
   ]
  },
  {
   "cell_type": "code",
   "execution_count": null,
   "metadata": {
    "collapsed": true
   },
   "outputs": [],
   "source": [
    "sess.run(pred_real, feed_dict=feed_dict)"
   ]
  },
  {
   "cell_type": "code",
   "execution_count": null,
   "metadata": {
    "collapsed": true
   },
   "outputs": [],
   "source": [
    "np.max(results[0][:,:,:,:], axis=-1)"
   ]
  },
  {
   "cell_type": "code",
   "execution_count": null,
   "metadata": {
    "collapsed": true
   },
   "outputs": [],
   "source": [
    "features[1][0]"
   ]
  },
  {
   "cell_type": "code",
   "execution_count": null,
   "metadata": {
    "collapsed": true
   },
   "outputs": [],
   "source": [
    "mol = Chem.MolFromMol2File(features[1][0])\n",
    "mol.GetNumAtoms()"
   ]
  },
  {
   "cell_type": "code",
   "execution_count": null,
   "metadata": {
    "collapsed": true
   },
   "outputs": [],
   "source": [
    "from rdkit.Chem import AllChem\n",
    "AllChem.Compute2DCoords(mol)"
   ]
  },
  {
   "cell_type": "code",
   "execution_count": null,
   "metadata": {
    "collapsed": true
   },
   "outputs": [],
   "source": [
    "from rdkit.Chem import Draw\n",
    "\n",
    "Draw.MolToImage(mol)"
   ]
  }
 ],
 "metadata": {
  "kernelspec": {
   "display_name": "Python 2",
   "language": "python",
   "name": "python2"
  },
  "language_info": {
   "codemirror_mode": {
    "name": "ipython",
    "version": 2
   },
   "file_extension": ".py",
   "mimetype": "text/x-python",
   "name": "python",
   "nbconvert_exporter": "python",
   "pygments_lexer": "ipython2",
   "version": "2.7.13"
  }
 },
 "nbformat": 4,
 "nbformat_minor": 2
}
