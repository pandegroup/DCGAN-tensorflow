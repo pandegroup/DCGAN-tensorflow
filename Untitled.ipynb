{
 "cells": [
  {
   "cell_type": "code",
   "execution_count": 1,
   "metadata": {
    "collapsed": true
   },
   "outputs": [],
   "source": [
    "from sklearn.mixture import GMM\n",
    "\n",
    "%matplotlib inline\n",
    "\n",
    "import matplotlib\n",
    "import numpy as np\n",
    "import matplotlib.pyplot as plt"
   ]
  },
  {
   "cell_type": "code",
   "execution_count": 4,
   "metadata": {},
   "outputs": [
    {
     "name": "stderr",
     "output_type": "stream",
     "text": [
      "/home/evan/anaconda2/lib/python2.7/site-packages/sklearn/utils/deprecation.py:52: DeprecationWarning: Class GMM is deprecated; The class GMM is deprecated in 0.18 and will be  removed in 0.20. Use class GaussianMixture instead.\n",
      "  warnings.warn(msg, category=DeprecationWarning)\n",
      "/home/evan/anaconda2/lib/python2.7/site-packages/sklearn/utils/deprecation.py:70: DeprecationWarning: Function sample_gaussian is deprecated; The function sample_gaussian is deprecated in 0.18 and will be removed in 0.20. Use numpy.random.multivariate_normal instead.\n",
      "  warnings.warn(msg, category=DeprecationWarning)\n",
      "/home/evan/anaconda2/lib/python2.7/site-packages/sklearn/utils/deprecation.py:70: DeprecationWarning: Function sample_gaussian is deprecated; The function sample_gaussian is deprecated in 0.18 and will be removed in 0.20. Use numpy.random.multivariate_normal instead.\n",
      "  warnings.warn(msg, category=DeprecationWarning)\n",
      "/home/evan/anaconda2/lib/python2.7/site-packages/sklearn/utils/deprecation.py:70: DeprecationWarning: Function sample_gaussian is deprecated; The function sample_gaussian is deprecated in 0.18 and will be removed in 0.20. Use numpy.random.multivariate_normal instead.\n",
      "  warnings.warn(msg, category=DeprecationWarning)\n"
     ]
    },
    {
     "data": {
      "text/plain": [
       "(array([   2.,    0.,    5.,    6.,   11.,   26.,   35.,   37.,   43.,\n",
       "          47.,   41.,   32.,   13.,    6.,    7.,    1.,    0.,    0.,\n",
       "           0.,    0.,    0.,    0.,    5.,    6.,   26.,   40.,   93.,\n",
       "         104.,   98.,   61.,   24.,   14.,    1.,    0.,    0.,    0.,\n",
       "           0.,    0.,    0.,    0.,    0.,    0.,    0.,    4.,   12.,\n",
       "          57.,   99.,   36.,    5.,    3.]),\n",
       " array([-14.70317097, -14.16948192, -13.63579286, -13.10210381,\n",
       "        -12.56841475, -12.0347257 , -11.50103665, -10.96734759,\n",
       "        -10.43365854,  -9.89996948,  -9.36628043,  -8.83259138,\n",
       "         -8.29890232,  -7.76521327,  -7.23152421,  -6.69783516,\n",
       "         -6.16414611,  -5.63045705,  -5.096768  ,  -4.56307894,\n",
       "         -4.02938989,  -3.49570084,  -2.96201178,  -2.42832273,\n",
       "         -1.89463367,  -1.36094462,  -0.82725556,  -0.29356651,\n",
       "          0.24012254,   0.7738116 ,   1.30750065,   1.84118971,\n",
       "          2.37487876,   2.90856781,   3.44225687,   3.97594592,\n",
       "          4.50963498,   5.04332403,   5.57701308,   6.11070214,\n",
       "          6.64439119,   7.17808025,   7.7117693 ,   8.24545835,\n",
       "          8.77914741,   9.31283646,   9.84652552,  10.38021457,\n",
       "         10.91390362,  11.44759268,  11.98128173]),\n",
       " <a list of 50 Patch objects>)"
      ]
     },
     "execution_count": 4,
     "metadata": {},
     "output_type": "execute_result"
    },
    {
     "data": {
      "image/png": "[encoded data removed]",
      "text/plain": [
       "<matplotlib.figure.Figure at 0x7f70d604c390>"
      ]
     },
     "metadata": {},
     "output_type": "display_data"
    }
   ],
   "source": [
    "gmm = GMM(3, n_iter=1)\n",
    "\n",
    "gmm.means_ = np.array([[-10], [0], [10]])\n",
    "gmm.covars_ = np.array([[1.5], [1], [0.5]]) ** 2\n",
    "gmm.weights_ = np.array([0.3, 0.5, 0.2])\n",
    "\n",
    "plt.hist(gmm.sample(1000), bins=50)"
   ]
  },
  {
   "cell_type": "code",
   "execution_count": null,
   "metadata": {
    "collapsed": true
   },
   "outputs": [],
   "source": []
  }
 ],
 "metadata": {
  "kernelspec": {
   "display_name": "Python 2",
   "language": "python",
   "name": "python2"
  },
  "language_info": {
   "codemirror_mode": {
    "name": "ipython",
    "version": 2
   },
   "file_extension": ".py",
   "mimetype": "text/x-python",
   "name": "python",
   "nbconvert_exporter": "python",
   "pygments_lexer": "ipython2",
   "version": "2.7.13"
  }
 },
 "nbformat": 4,
 "nbformat_minor": 2
}
